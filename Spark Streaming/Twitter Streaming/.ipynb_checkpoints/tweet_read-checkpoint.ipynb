{
 "cells": [
  {
   "cell_type": "code",
   "execution_count": 17,
   "metadata": {},
   "outputs": [],
   "source": [
    "import pickle\n",
    "import os"
   ]
  },
  {
   "cell_type": "code",
   "execution_count": 20,
   "metadata": {},
   "outputs": [
    {
     "data": {
      "text/plain": [
       "{'Access Token': '885422061740597248-bCm2NW80OcYFAmelnfbli63tF3DVvkk',\n",
       " 'Access Token Secret': 'nWPQTH2tzNeCjfYjqPoXPep4HXXFYMCkH78N3AGbR4T7X',\n",
       " 'Consumer Key': '055NVQQthAMtqjBO3bxZ80rer',\n",
       " 'Consumer Secret': 'FBhhgI4a6RxduiYQ6ONZwWCRKGbCf6woRCFJUoG2eKJXtG2ZOZ'}"
      ]
     },
     "execution_count": 20,
     "metadata": {},
     "output_type": "execute_result"
    }
   ],
   "source": [
    "if not os.path.exists('secret_twitter_crentials.pkl'):\n",
    "    Twitter={}\n",
    "    Twitter['Consumer Key']='055NVQQthAMtqjBO3bxZ80rer'\n",
    "    Twitter['Consumer Secret']='FBhhgI4a6RxduiYQ6ONZwWCRKGbCf6woRCFJUoG2eKJXtG2ZOZ'\n",
    "    Twitter['Access Token']='885422061740597248-bCm2NW80OcYFAmelnfbli63tF3DVvkk'\n",
    "    Twitter['Access Token Secret']='nWPQTH2tzNeCjfYjqPoXPep4HXXFYMCkH78N3AGbR4T7X'\n",
    "    with open('secret_twitter_crentials.pkl','wb') as f:\n",
    "        pickle.dump(Twitter,f,protocol=3)\n",
    "else:\n",
    "    x=pickle.load(open('secret_twitter_crentials.pkl','rb'))"
   ]
  },
  {
   "cell_type": "code",
   "execution_count": null,
   "metadata": {},
   "outputs": [],
   "source": [
    "import tweepy"
   ]
  },
  {
   "cell_type": "code",
   "execution_count": null,
   "metadata": {},
   "outputs": [],
   "source": [
    "from tweepy import OAuthHandler,Stream"
   ]
  },
  {
   "cell_type": "code",
   "execution_count": null,
   "metadata": {},
   "outputs": [],
   "source": [
    "from tweepy.streaming import StreamListener\n",
    "import socket\n",
    "import json"
   ]
  },
  {
   "cell_type": "code",
   "execution_count": null,
   "metadata": {},
   "outputs": [],
   "source": [
    "consumer_key = x['Consumer Key']\n",
    "consumer_secret = x['Consumer Secret']\n",
    "access_token = x['Access Token']\n",
    "access_secret = x['Access Token Secret']"
   ]
  },
  {
   "cell_type": "code",
   "execution_count": null,
   "metadata": {},
   "outputs": [],
   "source": [
    "class TweetListner(StreamListener):\n",
    "    def __init__(self, csocket):\n",
    "        self.client_socket = csocket\n",
    "    \n",
    "    def on_data(self, data):\n",
    "        \n",
    "        try:\n",
    "            msg = json.loads(data)\n",
    "            msg_send = msg['text'].encode('utf-8')\n",
    "            print(msg_send)\n",
    "            self.client_socket.send(msg_send)\n",
    "            return True\n",
    "        except BaseException as e:\n",
    "            print(\"ERROR: \",e)\n",
    "        return True\n",
    "    \n",
    "    def on_error(self, status):\n",
    "        print(status)\n",
    "        return True"
   ]
  },
  {
   "cell_type": "code",
   "execution_count": null,
   "metadata": {},
   "outputs": [],
   "source": [
    "def sendData(c_socket):\n",
    "    auth = OAuthHandler(consumer_key,consumer_secret)\n",
    "    auth.set_access_token(access_token,access_secret)\n",
    "    \n",
    "    twitterStream = Stream(auth, TweetListner(c_socket))\n",
    "    twitterStream.filter(track=['guitar'])"
   ]
  },
  {
   "cell_type": "code",
   "execution_count": null,
   "metadata": {},
   "outputs": [],
   "source": [
    "if __name__ == \"__main__\":\n",
    "    s = socket.socket()\n",
    "    host = '127.0.0.1'\n",
    "    port = 5555\n",
    "    s.bind((host,port))\n",
    "    \n",
    "    print(\"Listening on port 5555\")\n",
    "    \n",
    "    s.listen(5)\n",
    "    c,addr = s.accept()\n",
    "    \n",
    "    sendData(c)"
   ]
  },
  {
   "cell_type": "code",
   "execution_count": null,
   "metadata": {},
   "outputs": [],
   "source": []
  }
 ],
 "metadata": {
  "kernelspec": {
   "display_name": "Python 3",
   "language": "python",
   "name": "python3"
  },
  "language_info": {
   "codemirror_mode": {
    "name": "ipython",
    "version": 3
   },
   "file_extension": ".py",
   "mimetype": "text/x-python",
   "name": "python",
   "nbconvert_exporter": "python",
   "pygments_lexer": "ipython3",
   "version": "3.5.2"
  }
 },
 "nbformat": 4,
 "nbformat_minor": 2
}
