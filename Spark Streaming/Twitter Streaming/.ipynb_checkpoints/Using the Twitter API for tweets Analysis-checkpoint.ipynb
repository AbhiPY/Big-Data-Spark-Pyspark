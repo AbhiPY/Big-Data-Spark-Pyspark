{
 "cells": [
  {
   "cell_type": "markdown",
   "metadata": {},
   "source": [
    "# Twitter data\n",
    "\n",
    "## Copyright and Licensing\n",
    "\n",
    "You are free to use or adapt this notebook for any purpose you would like.However,please respect the Simplified BSD License that governs its use"
   ]
  },
  {
   "cell_type": "markdown",
   "metadata": {},
   "source": [
    "## Twitter API Access\n",
    "Twitter implements OAuth 1.0A a sits authentication mechanism,and in order to use it to make requests to Twitter's API,you'll need to go to https://dev.twitter.com/apps and create a sample application\n",
    "\n",
    "Choose any name for your application,write a description and use http://google.com for the website"
   ]
  },
  {
   "cell_type": "code",
   "execution_count": 5,
   "metadata": {},
   "outputs": [],
   "source": [
    "import pickle\n",
    "import os \n"
   ]
  },
  {
   "cell_type": "code",
   "execution_count": 6,
   "metadata": {},
   "outputs": [],
   "source": [
    "if not os.path.exists('C:\\\\Users\\\\EABPNHA\\\\Downloads\\\\Datscience Course\\\\Jupyter Notebook\\\\Twitter Credential File\\\\secret_twitter_crentials.pkl'):\n",
    "    Twitter={}\n",
    "    Twitter['Consumer Key']='055NVQQthAMtqjBO3bxZ80rer'\n",
    "    Twitter['Consumer Secret']='FBhhgI4a6RxduiYQ6ONZwWCRKGbCf6woRCFJUoG2eKJXtG2ZOZ'\n",
    "    Twitter['Access Token']='885422061740597248-bCm2NW80OcYFAmelnfbli63tF3DVvkk'\n",
    "    Twitter['Access Token Secret']='nWPQTH2tzNeCjfYjqPoXPep4HXXFYMCkH78N3AGbR4T7X'\n",
    "    with open('C:\\\\Users\\\\EABPNHA\\\\Downloads\\\\Datscience Course\\\\Jupyter Notebook\\\\Twitter Credential File\\\\secret_twitter_crentials.pkl','wb') as f:\n",
    "        pickle.dump(Twitter,f)\n",
    "else:\n",
    "    Twitter=pickle.load(open('C:\\\\Users\\\\EABPNHA\\\\Downloads\\\\Datscience Course\\\\Jupyter Notebook\\\\Twitter Credential File\\\\secret_twitter_crentials.pkl','rb'))\n",
    "    \n",
    "    "
   ]
  },
  {
   "cell_type": "markdown",
   "metadata": {},
   "source": [
    "### Install the twitter package to interface with the Twitter API"
   ]
  },
  {
   "cell_type": "code",
   "execution_count": 7,
   "metadata": {},
   "outputs": [
    {
     "name": "stdout",
     "output_type": "stream",
     "text": [
      "Requirement already satisfied: twitter in c:\\users\\eabpnha\\appdata\\local\\continuum\\anaconda3\\lib\\site-packages\n"
     ]
    },
    {
     "name": "stderr",
     "output_type": "stream",
     "text": [
      "You are using pip version 9.0.1, however version 10.0.1 is available.\n",
      "You should consider upgrading via the 'python -m pip install --upgrade pip' command.\n"
     ]
    }
   ],
   "source": [
    "!pip install twitter"
   ]
  },
  {
   "cell_type": "markdown",
   "metadata": {},
   "source": [
    "# Example 1: Authorizing an application to access Twitter accounts data"
   ]
  },
  {
   "cell_type": "code",
   "execution_count": 8,
   "metadata": {},
   "outputs": [
    {
     "name": "stdout",
     "output_type": "stream",
     "text": [
      "<twitter.api.Twitter object at 0x0000000005758278>\n"
     ]
    }
   ],
   "source": [
    "import twitter\n",
    "auth=twitter.oauth.OAuth(Twitter['Access Token'],\n",
    "                        Twitter['Access Token Secret'],\n",
    "                        Twitter['Consumer Key'],\n",
    "                        Twitter['Consumer Secret'])\n",
    "twitter_api=twitter.Twitter(auth=auth)\n",
    "\n",
    "print(twitter_api)"
   ]
  },
  {
   "cell_type": "code",
   "execution_count": 29,
   "metadata": {},
   "outputs": [],
   "source": [
    "WORLD_WOE_ID=1\n",
    "US_WOE_ID=23424977"
   ]
  },
  {
   "cell_type": "code",
   "execution_count": 30,
   "metadata": {},
   "outputs": [],
   "source": [
    "LOCAL_WOE_ID=2487889\n",
    "\n",
    "world_trends=twitter_api.trends.place(_id=WORLD_WOE_ID)\n",
    "us_trends=twitter_api.trends.place(_id=US_WOE_ID)\n",
    "local_trends=twitter_api.trends.place(_id=LOCAL_WOE_ID)"
   ]
  },
  {
   "cell_type": "code",
   "execution_count": null,
   "metadata": {},
   "outputs": [],
   "source": [
    "world_trends[:2]"
   ]
  },
  {
   "cell_type": "code",
   "execution_count": 39,
   "metadata": {},
   "outputs": [
    {
     "name": "stdout",
     "output_type": "stream",
     "text": [
      "<class 'twitter.api.TwitterListResponse'>\n",
      "['trends', 'as_of', 'created_at', 'locations']\n",
      "[{'name': '#LetsGoPadres', 'url': 'http://twitter.com/search?q=%23LetsGoPadres', 'promoted_content': None, 'query': '%23LetsGoPadres', 'tweet_volume': None}, {'name': '#AX2018', 'url': 'http://twitter.com/search?q=%23AX2018', 'promoted_content': None, 'query': '%23AX2018', 'tweet_volume': 30592}, {'name': 'Scott Pruitt', 'url': 'http://twitter.com/search?q=%22Scott+Pruitt%22', 'promoted_content': None, 'query': '%22Scott+Pruitt%22', 'tweet_volume': 440108}, {'name': '#4thofJuly', 'url': 'http://twitter.com/search?q=%234thofJuly', 'promoted_content': None, 'query': '%234thofJuly', 'tweet_volume': 47693}, {'name': 'President Trump', 'url': 'http://twitter.com/search?q=%22President+Trump%22', 'promoted_content': None, 'query': '%22President+Trump%22', 'tweet_volume': 210654}, {'name': '#bigbayboom', 'url': 'http://twitter.com/search?q=%23bigbayboom', 'promoted_content': None, 'query': '%23bigbayboom', 'tweet_volume': None}, {'name': 'Statue of Liberty', 'url': 'http://twitter.com/search?q=%22Statue+of+Liberty%22', 'promoted_content': None, 'query': '%22Statue+of+Liberty%22', 'tweet_volume': 178291}, {'name': '#Jazz', 'url': 'http://twitter.com/search?q=%23Jazz', 'promoted_content': None, 'query': '%23Jazz', 'tweet_volume': None}, {'name': 'Singer Chris Brown', 'url': 'http://twitter.com/search?q=%22Singer+Chris+Brown%22', 'promoted_content': None, 'query': '%22Singer+Chris+Brown%22', 'tweet_volume': None}, {'name': 'Madison Keys', 'url': 'http://twitter.com/search?q=%22Madison+Keys%22', 'promoted_content': None, 'query': '%22Madison+Keys%22', 'tweet_volume': None}, {'name': 'U.S.-China', 'url': 'http://twitter.com/search?q=U.S.-China', 'promoted_content': None, 'query': 'U.S.-China', 'tweet_volume': 24028}, {'name': 'Phuket', 'url': 'http://twitter.com/search?q=Phuket', 'promoted_content': None, 'query': 'Phuket', 'tweet_volume': 20748}, {'name': \"We're ON-AIR\", 'url': 'http://twitter.com/search?q=%22We%27re+ON-AIR%22', 'promoted_content': None, 'query': '%22We%27re+ON-AIR%22', 'tweet_volume': None}, {'name': 'Meek', 'url': 'http://twitter.com/search?q=Meek', 'promoted_content': None, 'query': 'Meek', 'tweet_volume': 33221}, {'name': 'Neymar and the Art of the Dive', 'url': 'http://twitter.com/search?q=%22Neymar+and+the+Art+of+the+Dive%22', 'promoted_content': None, 'query': '%22Neymar+and+the+Art+of+the+Dive%22', 'tweet_volume': None}, {'name': 'Great Depression', 'url': 'http://twitter.com/search?q=%22Great+Depression%22', 'promoted_content': None, 'query': '%22Great+Depression%22', 'tweet_volume': None}, {'name': 'Outer Loop', 'url': 'http://twitter.com/search?q=%22Outer+Loop%22', 'promoted_content': None, 'query': '%22Outer+Loop%22', 'tweet_volume': None}, {'name': 'Rocket Man', 'url': 'http://twitter.com/search?q=%22Rocket+Man%22', 'promoted_content': None, 'query': '%22Rocket+Man%22', 'tweet_volume': None}, {'name': 'MeToo', 'url': 'http://twitter.com/search?q=MeToo', 'promoted_content': None, 'query': 'MeToo', 'tweet_volume': 57640}, {'name': 'Mike Pompeo', 'url': 'http://twitter.com/search?q=%22Mike+Pompeo%22', 'promoted_content': None, 'query': '%22Mike+Pompeo%22', 'tweet_volume': None}, {'name': 'Trade War', 'url': 'http://twitter.com/search?q=%22Trade+War%22', 'promoted_content': None, 'query': '%22Trade+War%22', 'tweet_volume': 65670}, {'name': 'Drug Addicts', 'url': 'http://twitter.com/search?q=%22Drug+Addicts%22', 'promoted_content': None, 'query': '%22Drug+Addicts%22', 'tweet_volume': None}, {'name': 'Happy 4th', 'url': 'http://twitter.com/search?q=%22Happy+4th%22', 'promoted_content': None, 'query': '%22Happy+4th%22', 'tweet_volume': 206133}, {'name': '#SignsYouAreAMillennial', 'url': 'http://twitter.com/search?q=%23SignsYouAreAMillennial', 'promoted_content': None, 'query': '%23SignsYouAreAMillennial', 'tweet_volume': None}, {'name': '#NationalFriedChickenDay', 'url': 'http://twitter.com/search?q=%23NationalFriedChickenDay', 'promoted_content': None, 'query': '%23NationalFriedChickenDay', 'tweet_volume': None}, {'name': '#Beryl', 'url': 'http://twitter.com/search?q=%23Beryl', 'promoted_content': None, 'query': '%23Beryl', 'tweet_volume': None}, {'name': '#FridayMotivation', 'url': 'http://twitter.com/search?q=%23FridayMotivation', 'promoted_content': None, 'query': '%23FridayMotivation', 'tweet_volume': 12147}, {'name': '#BEASTMODE2', 'url': 'http://twitter.com/search?q=%23BEASTMODE2', 'promoted_content': None, 'query': '%23BEASTMODE2', 'tweet_volume': 69564}, {'name': '#OnTheHuntFor', 'url': 'http://twitter.com/search?q=%23OnTheHuntFor', 'promoted_content': None, 'query': '%23OnTheHuntFor', 'tweet_volume': None}, {'name': '#NotSoTopSecretMission', 'url': 'http://twitter.com/search?q=%23NotSoTopSecretMission', 'promoted_content': None, 'query': '%23NotSoTopSecretMission', 'tweet_volume': None}, {'name': '#ZIMvAUS', 'url': 'http://twitter.com/search?q=%23ZIMvAUS', 'promoted_content': None, 'query': '%23ZIMvAUS', 'tweet_volume': None}, {'name': '#FlashbackFriday', 'url': 'http://twitter.com/search?q=%23FlashbackFriday', 'promoted_content': None, 'query': '%23FlashbackFriday', 'tweet_volume': None}, {'name': '#25ZipTrip', 'url': 'http://twitter.com/search?q=%2325ZipTrip', 'promoted_content': None, 'query': '%2325ZipTrip', 'tweet_volume': None}, {'name': '#BritishGP', 'url': 'http://twitter.com/search?q=%23BritishGP', 'promoted_content': None, 'query': '%23BritishGP', 'tweet_volume': 27030}, {'name': '#MorningsOn1', 'url': 'http://twitter.com/search?q=%23MorningsOn1', 'promoted_content': None, 'query': '%23MorningsOn1', 'tweet_volume': None}, {'name': '#PVLReinforcedConference', 'url': 'http://twitter.com/search?q=%23PVLReinforcedConference', 'promoted_content': None, 'query': '%23PVLReinforcedConference', 'tweet_volume': None}, {'name': '#Daybreak', 'url': 'http://twitter.com/search?q=%23Daybreak', 'promoted_content': None, 'query': '%23Daybreak', 'tweet_volume': None}, {'name': '#BRABEL', 'url': 'http://twitter.com/search?q=%23BRABEL', 'promoted_content': None, 'query': '%23BRABEL', 'tweet_volume': 23093}, {'name': '#WHATTHEFORD', 'url': 'http://twitter.com/search?q=%23WHATTHEFORD', 'promoted_content': None, 'query': '%23WHATTHEFORD', 'tweet_volume': None}, {'name': '#GetUpDC', 'url': 'http://twitter.com/search?q=%23GetUpDC', 'promoted_content': None, 'query': '%23GetUpDC', 'tweet_volume': None}, {'name': '#FinallyFree', 'url': 'http://twitter.com/search?q=%23FinallyFree', 'promoted_content': None, 'query': '%23FinallyFree', 'tweet_volume': 24044}, {'name': '#HRR18', 'url': 'http://twitter.com/search?q=%23HRR18', 'promoted_content': None, 'query': '%23HRR18', 'tweet_volume': None}, {'name': '#wakeMEup', 'url': 'http://twitter.com/search?q=%23wakeMEup', 'promoted_content': None, 'query': '%23wakeMEup', 'tweet_volume': None}, {'name': '#HTownRush', 'url': 'http://twitter.com/search?q=%23HTownRush', 'promoted_content': None, 'query': '%23HTownRush', 'tweet_volume': None}, {'name': '#JCPOA', 'url': 'http://twitter.com/search?q=%23JCPOA', 'promoted_content': None, 'query': '%23JCPOA', 'tweet_volume': None}, {'name': '#MyFamousLastWordsOrGif', 'url': 'http://twitter.com/search?q=%23MyFamousLastWordsOrGif', 'promoted_content': None, 'query': '%23MyFamousLastWordsOrGif', 'tweet_volume': None}, {'name': '#ThursdayThoughts', 'url': 'http://twitter.com/search?q=%23ThursdayThoughts', 'promoted_content': None, 'query': '%23ThursdayThoughts', 'tweet_volume': 134077}, {'name': '#TrueFriendshipIn4Words', 'url': 'http://twitter.com/search?q=%23TrueFriendshipIn4Words', 'promoted_content': None, 'query': '%23TrueFriendshipIn4Words', 'tweet_volume': 30343}, {'name': '#AdviceForNewTwitterUsers', 'url': 'http://twitter.com/search?q=%23AdviceForNewTwitterUsers', 'promoted_content': None, 'query': '%23AdviceForNewTwitterUsers', 'tweet_volume': 33428}, {'name': '#WDWTALK', 'url': 'http://twitter.com/search?q=%23WDWTALK', 'promoted_content': None, 'query': '%23WDWTALK', 'tweet_volume': 70168}]\n"
     ]
    }
   ],
   "source": [
    "trends=local_trends\n",
    "print(type(trends))\n",
    "print(list(trends[0].keys()))\n",
    "print(trends[0]['trends'])"
   ]
  },
  {
   "cell_type": "markdown",
   "metadata": {},
   "source": [
    "## Example 3.Displaying API response as pretty-printed JSON"
   ]
  },
  {
   "cell_type": "code",
   "execution_count": 40,
   "metadata": {},
   "outputs": [
    {
     "name": "stdout",
     "output_type": "stream",
     "text": [
      "[\n",
      " {\n",
      "  \"trends\": [\n",
      "   {\n",
      "    \"name\": \"#SignsYouAreAMillennial\",\n",
      "    \"url\": \"http://twitter.com/search?q=%23SignsYouAreAMillennial\",\n",
      "    \"promoted_content\": null,\n",
      "    \"query\": \"%23SignsYouAreAMillennial\",\n",
      "    \"tweet_volume\": null\n",
      "   },\n",
      "   {\n",
      "    \"name\": \"#NationalFriedChickenDay\",\n",
      "    \"url\": \"http://twitter.com/search?q=%23NationalFriedChickenDay\",\n",
      "    \"promoted_content\": null,\n",
      "    \"query\": \"%23NationalFriedChickenDay\",\n",
      "    \"tweet_volume\": null\n",
      "   },\n",
      "   {\n",
      "    \"name\": \"Singer Chris Brown\",\n",
      "    \"url\": \"http://twitter.com/search?q=%22Singer+Chris+Brown%22\",\n",
      "    \"promoted_content\": null,\n",
      "    \"query\": \"%22Singer+Chris+Brown%22\",\n",
      "    \"tweet_volume\": null\n",
      "   },\n",
      "   {\n",
      "    \"name\": \"#Beryl\",\n",
      "    \"url\": \"http://twitter.com/search?q=%23Beryl\",\n",
      "    \"promoted_content\": null,\n",
      "    \"query\": \"%23Beryl\",\n",
      "    \"tweet_volume\": null\n",
      "   },\n",
      "   {\n",
      "    \"name\": \"#FridayMotivation\",\n",
      "    \"url\": \"http://twitter.com/search?q=%23FridayMotivation\",\n",
      "    \"promoted_content\": null,\n",
      "    \"query\": \"%23FridayMotivation\",\n",
      "    \"tweet_volume\": 12147\n",
      "   },\n",
      "   {\n",
      "    \"name\": \"Madison Keys\",\n",
      "    \"url\": \"http://twitter.com/search?q=%22Madison+Keys%22\",\n",
      "    \"promoted_content\": null,\n",
      "    \"query\": \"%22Madison+Keys%22\",\n",
      "    \"tweet_volume\": null\n",
      "   },\n",
      "   {\n",
      "    \"name\": \"#BEASTMODE2\",\n",
      "    \"url\": \"http://twitter.com/search?q=%23BEASTMODE2\",\n",
      "    \"promoted_content\": null,\n",
      "    \"query\": \"%23BEASTMODE2\",\n",
      "    \"tweet_volume\": 69564\n",
      "   },\n",
      "   {\n",
      "    \"name\": \"SEAL\",\n",
      "    \"url\": \"http://twitter.com/search?q=SEAL\",\n",
      "    \"promoted_content\": null,\n",
      "    \"query\": \"SEAL\",\n",
      "    \"tweet_volume\": 68607\n",
      "   },\n",
      "   {\n",
      "    \"name\": \"U.S.-China\",\n",
      "    \"url\": \"http://twitter.com/search?q=U.S.-China\",\n",
      "    \"promoted_content\": null,\n",
      "    \"query\": \"U.S.-China\",\n",
      "    \"tweet_volume\": 24028\n",
      "   },\n",
      "   {\n",
      "    \"name\": \"Phuket\",\n",
      "    \"url\": \"http://twitter.com/search?q=Phuket\",\n",
      "    \"promoted_content\": null,\n",
      "    \"query\": \"Phuket\",\n",
      "    \"tweet_volume\": 20748\n",
      "   },\n",
      "   {\n",
      "    \"name\": \"We're ON-AIR\",\n",
      "    \"url\": \"http://twitter.com/search?q=%22We%27re+ON-AIR%22\",\n",
      "    \"promoted_content\": null,\n",
      "    \"query\": \"%22We%27re+ON-AIR%22\",\n",
      "    \"tweet_volume\": null\n",
      "   },\n",
      "   {\n",
      "    \"name\": \"Meek\",\n",
      "    \"url\": \"http://twitter.com/search?q=Meek\",\n",
      "    \"promoted_content\": null,\n",
      "    \"query\": \"Meek\",\n",
      "    \"tweet_volume\": 33221\n",
      "   },\n",
      "   {\n",
      "    \"name\": \"Neymar and the Art of the Dive\",\n",
      "    \"url\": \"http://twitter.com/search?q=%22Neymar+and+the+Art+of+the+Dive%22\",\n",
      "    \"promoted_content\": null,\n",
      "    \"query\": \"%22Neymar+and+the+Art+of+the+Dive%22\",\n",
      "    \"tweet_volume\": null\n",
      "   },\n",
      "   {\n",
      "    \"name\": \"Great Depression\",\n",
      "    \"url\": \"http://twitter.com/search?q=%22Great+Depression%22\",\n",
      "    \"promoted_content\": null,\n",
      "    \"query\": \"%22Great+Depression%22\",\n",
      "    \"tweet_volume\": null\n",
      "   },\n",
      "   {\n",
      "    \"name\": \"Outer Loop\",\n",
      "    \"url\": \"http://twitter.com/search?q=%22Outer+Loop%22\",\n",
      "    \"promoted_content\": null,\n",
      "    \"query\": \"%22Outer+Loop%22\",\n",
      "    \"tweet_volume\": null\n",
      "   },\n",
      "   {\n",
      "    \"name\": \"Rocket Man\",\n",
      "    \"url\": \"http://twitter.com/search?q=%22Rocket+Man%22\",\n",
      "    \"promoted_content\": null,\n",
      "    \"query\": \"%22Rocket+Man%22\",\n",
      "    \"tweet_volume\": null\n",
      "   },\n",
      "   {\n",
      "    \"name\": \"MeToo\",\n",
      "    \"url\": \"http://twitter.com/search?q=MeToo\",\n",
      "    \"promoted_content\": null,\n",
      "    \"query\": \"MeToo\",\n",
      "    \"tweet_volume\": 57640\n",
      "   },\n",
      "   {\n",
      "    \"name\": \"Mike Pompeo\",\n",
      "    \"url\": \"http://twitter.com/search?q=%22Mike+Pompeo%22\",\n",
      "    \"promoted_content\": null,\n",
      "    \"query\": \"%22Mike+Pompeo%22\",\n",
      "    \"tweet_volume\": null\n",
      "   },\n",
      "   {\n",
      "    \"name\": \"Trade War\",\n",
      "    \"url\": \"http://twitter.com/search?q=%22Trade+War%22\",\n",
      "    \"promoted_content\": null,\n",
      "    \"query\": \"%22Trade+War%22\",\n",
      "    \"tweet_volume\": 65670\n",
      "   },\n",
      "   {\n",
      "    \"name\": \"Drug Addicts\",\n",
      "    \"url\": \"http://twitter.com/search?q=%22Drug+Addicts%22\",\n",
      "    \"promoted_content\": null,\n",
      "    \"query\": \"%22Drug+Addicts%22\",\n",
      "    \"tweet_volume\": null\n",
      "   },\n",
      "   {\n",
      "    \"name\": \"Scott Pruitt\",\n",
      "    \"url\": \"http://twitter.com/search?q=%22Scott+Pruitt%22\",\n",
      "    \"promoted_content\": null,\n",
      "    \"query\": \"%22Scott+Pruitt%22\",\n",
      "    \"tweet_volume\": 440108\n",
      "   },\n",
      "   {\n",
      "    \"name\": \"4th of July\",\n",
      "    \"url\": \"http://twitter.com/search?q=%224th+of+July%22\",\n",
      "    \"promoted_content\": null,\n",
      "    \"query\": \"%224th+of+July%22\",\n",
      "    \"tweet_volume\": 426656\n",
      "   },\n",
      "   {\n",
      "    \"name\": \"Happy 4th\",\n",
      "    \"url\": \"http://twitter.com/search?q=%22Happy+4th%22\",\n",
      "    \"promoted_content\": null,\n",
      "    \"query\": \"%22Happy+4th%22\",\n",
      "    \"tweet_volume\": 206133\n",
      "   },\n",
      "   {\n",
      "    \"name\": \"Ed Schultz\",\n",
      "    \"url\": \"http://twitter.com/search?q=%22Ed+Schultz%22\",\n",
      "    \"promoted_content\": null,\n",
      "    \"query\": \"%22Ed+Schultz%22\",\n",
      "    \"tweet_volume\": 35480\n",
      "   },\n",
      "   {\n",
      "    \"name\": \"Grayson Allen\",\n",
      "    \"url\": \"http://twitter.com/search?q=%22Grayson+Allen%22\",\n",
      "    \"promoted_content\": null,\n",
      "    \"query\": \"%22Grayson+Allen%22\",\n",
      "    \"tweet_volume\": 30710\n",
      "   },\n",
      "   {\n",
      "    \"name\": \"Bill Shine\",\n",
      "    \"url\": \"http://twitter.com/search?q=%22Bill+Shine%22\",\n",
      "    \"promoted_content\": null,\n",
      "    \"query\": \"%22Bill+Shine%22\",\n",
      "    \"tweet_volume\": 76806\n",
      "   },\n",
      "   {\n",
      "    \"name\": \"#OnTheHuntFor\",\n",
      "    \"url\": \"http://twitter.com/search?q=%23OnTheHuntFor\",\n",
      "    \"promoted_content\": null,\n",
      "    \"query\": \"%23OnTheHuntFor\",\n",
      "    \"tweet_volume\": null\n",
      "   },\n",
      "   {\n",
      "    \"name\": \"#NotSoTopSecretMission\",\n",
      "    \"url\": \"http://twitter.com/search?q=%23NotSoTopSecretMission\",\n",
      "    \"promoted_content\": null,\n",
      "    \"query\": \"%23NotSoTopSecretMission\",\n",
      "    \"tweet_volume\": null\n",
      "   },\n",
      "   {\n",
      "    \"name\": \"#ZIMvAUS\",\n",
      "    \"url\": \"http://twitter.com/search?q=%23ZIMvAUS\",\n",
      "    \"promoted_content\": null,\n",
      "    \"query\": \"%23ZIMvAUS\",\n",
      "    \"tweet_volume\": null\n",
      "   },\n",
      "   {\n",
      "    \"name\": \"#FlashbackFriday\",\n",
      "    \"url\": \"http://twitter.com/search?q=%23FlashbackFriday\",\n",
      "    \"promoted_content\": null,\n",
      "    \"query\": \"%23FlashbackFriday\",\n",
      "    \"tweet_volume\": null\n",
      "   },\n",
      "   {\n",
      "    \"name\": \"#25ZipTrip\",\n",
      "    \"url\": \"http://twitter.com/search?q=%2325ZipTrip\",\n",
      "    \"promoted_content\": null,\n",
      "    \"query\": \"%2325ZipTrip\",\n",
      "    \"tweet_volume\": null\n",
      "   },\n",
      "   {\n",
      "    \"name\": \"#BritishGP\",\n",
      "    \"url\": \"http://twitter.com/search?q=%23BritishGP\",\n",
      "    \"promoted_content\": null,\n",
      "    \"query\": \"%23BritishGP\",\n",
      "    \"tweet_volume\": 27030\n",
      "   },\n",
      "   {\n",
      "    \"name\": \"#MorningsOn1\",\n",
      "    \"url\": \"http://twitter.com/search?q=%23MorningsOn1\",\n",
      "    \"promoted_content\": null,\n",
      "    \"query\": \"%23MorningsOn1\",\n",
      "    \"tweet_volume\": null\n",
      "   },\n",
      "   {\n",
      "    \"name\": \"#PVLReinforcedConference\",\n",
      "    \"url\": \"http://twitter.com/search?q=%23PVLReinforcedConference\",\n",
      "    \"promoted_content\": null,\n",
      "    \"query\": \"%23PVLReinforcedConference\",\n",
      "    \"tweet_volume\": null\n",
      "   },\n",
      "   {\n",
      "    \"name\": \"#Daybreak\",\n",
      "    \"url\": \"http://twitter.com/search?q=%23Daybreak\",\n",
      "    \"promoted_content\": null,\n",
      "    \"query\": \"%23Daybreak\",\n",
      "    \"tweet_volume\": null\n",
      "   },\n",
      "   {\n",
      "    \"name\": \"#BRABEL\",\n",
      "    \"url\": \"http://twitter.com/search?q=%23BRABEL\",\n",
      "    \"promoted_content\": null,\n",
      "    \"query\": \"%23BRABEL\",\n",
      "    \"tweet_volume\": 23093\n",
      "   },\n",
      "   {\n",
      "    \"name\": \"#WHATTHEFORD\",\n",
      "    \"url\": \"http://twitter.com/search?q=%23WHATTHEFORD\",\n",
      "    \"promoted_content\": null,\n",
      "    \"query\": \"%23WHATTHEFORD\",\n",
      "    \"tweet_volume\": null\n",
      "   },\n",
      "   {\n",
      "    \"name\": \"#GetUpDC\",\n",
      "    \"url\": \"http://twitter.com/search?q=%23GetUpDC\",\n",
      "    \"promoted_content\": null,\n",
      "    \"query\": \"%23GetUpDC\",\n",
      "    \"tweet_volume\": null\n",
      "   },\n",
      "   {\n",
      "    \"name\": \"#FinallyFree\",\n",
      "    \"url\": \"http://twitter.com/search?q=%23FinallyFree\",\n",
      "    \"promoted_content\": null,\n",
      "    \"query\": \"%23FinallyFree\",\n",
      "    \"tweet_volume\": 24044\n",
      "   },\n",
      "   {\n",
      "    \"name\": \"#HRR18\",\n",
      "    \"url\": \"http://twitter.com/search?q=%23HRR18\",\n",
      "    \"promoted_content\": null,\n",
      "    \"query\": \"%23HRR18\",\n",
      "    \"tweet_volume\": null\n",
      "   },\n",
      "   {\n",
      "    \"name\": \"#wakeMEup\",\n",
      "    \"url\": \"http://twitter.com/search?q=%23wakeMEup\",\n",
      "    \"promoted_content\": null,\n",
      "    \"query\": \"%23wakeMEup\",\n",
      "    \"tweet_volume\": null\n",
      "   },\n",
      "   {\n",
      "    \"name\": \"#HTownRush\",\n",
      "    \"url\": \"http://twitter.com/search?q=%23HTownRush\",\n",
      "    \"promoted_content\": null,\n",
      "    \"query\": \"%23HTownRush\",\n",
      "    \"tweet_volume\": null\n",
      "   },\n",
      "   {\n",
      "    \"name\": \"#JCPOA\",\n",
      "    \"url\": \"http://twitter.com/search?q=%23JCPOA\",\n",
      "    \"promoted_content\": null,\n",
      "    \"query\": \"%23JCPOA\",\n",
      "    \"tweet_volume\": null\n",
      "   },\n",
      "   {\n",
      "    \"name\": \"#MyFamousLastWordsOrGif\",\n",
      "    \"url\": \"http://twitter.com/search?q=%23MyFamousLastWordsOrGif\",\n",
      "    \"promoted_content\": null,\n",
      "    \"query\": \"%23MyFamousLastWordsOrGif\",\n",
      "    \"tweet_volume\": null\n",
      "   },\n",
      "   {\n",
      "    \"name\": \"#ThursdayThoughts\",\n",
      "    \"url\": \"http://twitter.com/search?q=%23ThursdayThoughts\",\n",
      "    \"promoted_content\": null,\n",
      "    \"query\": \"%23ThursdayThoughts\",\n",
      "    \"tweet_volume\": 134077\n",
      "   },\n",
      "   {\n",
      "    \"name\": \"#TrueFriendshipIn4Words\",\n",
      "    \"url\": \"http://twitter.com/search?q=%23TrueFriendshipIn4Words\",\n",
      "    \"promoted_content\": null,\n",
      "    \"query\": \"%23TrueFriendshipIn4Words\",\n",
      "    \"tweet_volume\": 30343\n",
      "   },\n",
      "   {\n",
      "    \"name\": \"#AdviceForNewTwitterUsers\",\n",
      "    \"url\": \"http://twitter.com/search?q=%23AdviceForNewTwitterUsers\",\n",
      "    \"promoted_content\": null,\n",
      "    \"query\": \"%23AdviceForNewTwitterUsers\",\n",
      "    \"tweet_volume\": 33428\n",
      "   },\n",
      "   {\n",
      "    \"name\": \"#WDWTALK\",\n",
      "    \"url\": \"http://twitter.com/search?q=%23WDWTALK\",\n",
      "    \"promoted_content\": null,\n",
      "    \"query\": \"%23WDWTALK\",\n",
      "    \"tweet_volume\": 70168\n",
      "   },\n",
      "   {\n",
      "    \"name\": \"#IndependenceDay\",\n",
      "    \"url\": \"http://twitter.com/search?q=%23IndependenceDay\",\n",
      "    \"promoted_content\": null,\n",
      "    \"query\": \"%23IndependenceDay\",\n",
      "    \"tweet_volume\": 48413\n",
      "   },\n",
      "   {\n",
      "    \"name\": \"#RockBandLiterature\",\n",
      "    \"url\": \"http://twitter.com/search?q=%23RockBandLiterature\",\n",
      "    \"promoted_content\": null,\n",
      "    \"query\": \"%23RockBandLiterature\",\n",
      "    \"tweet_volume\": 12901\n",
      "   }\n",
      "  ],\n",
      "  \"as_of\": \"2018-07-06T11:55:21Z\",\n",
      "  \"created_at\": \"2018-07-06T11:47:02Z\",\n",
      "  \"locations\": [\n",
      "   {\n",
      "    \"name\": \"United States\",\n",
      "    \"woeid\": 23424977\n",
      "   }\n",
      "  ]\n",
      " }\n",
      "]\n"
     ]
    }
   ],
   "source": [
    "import json\n",
    "\n",
    "print((json.dumps(us_trends[:2],indent=1)))"
   ]
  },
  {
   "cell_type": "markdown",
   "metadata": {},
   "source": [
    "## Example 4: Computing the interaction of two sets of trends"
   ]
  },
  {
   "cell_type": "code",
   "execution_count": 41,
   "metadata": {},
   "outputs": [],
   "source": [
    "trends_set={}\n",
    "trends_set['world']=set([trend['name']\n",
    "                        for trend in world_trends[0]['trends']])\n",
    "\n",
    "trends_set['us']=set([trend['name']\n",
    "                     for trend in us_trends[0]['trends']])\n",
    "\n",
    "trends_set['san diego']=set([trend['name']\n",
    "                            for trend in local_trends[0]['trends']])"
   ]
  },
  {
   "cell_type": "code",
   "execution_count": 42,
   "metadata": {},
   "outputs": [
    {
     "name": "stdout",
     "output_type": "stream",
     "text": [
      "('----------', 'world')\n",
      "#Dejavu1stWin,#FRAURU,#AzizNesin,#REDvREB,#AFLTigersCrows,#Pittella,#StarMoviesSecretScreening,#6Jul,Hayırlı Cumalar,#giornatamondialedelbacio,#FelizFinde,#BolaoAquiNoTwitter,#Bac2018,#BRABEL,#NationalFriedChickenDay,#FanneyKhanTrailer,#あなたのドスケベ度,Sabir Shakir,#زواج_ريم_شوشيتا,#SignsYouAreAMillennial,#cumbreALF,#NiLaHoraVideo,#حياتك_بدون_بيبسي,しんちゃん,#غرد_بصلاتك_علي_نبينا_محمد,#BritishGP,大雨特別警報,#InternationalKissingDay,#Sanfermines2018,#FridayMotivation,#BuenViernes,モー娘,#FlashbackFriday,#تثبيت_البنود_ياولاه_الامر2,#فرنسا_الاورغواي,#يوم_الجمعه,#VendrediLecture,#جمعه_مباركه,#DARRENDreamComeTHOU,#Chequers,#AvenfieldReference,#انجاز_تفتخر_فيه,#FutureFest18,Mステ,炎の快男児,#AdhiroobaneySingleFromJuly10,#IndiaHogaClean,#TuhafOlanNeBiliyorMusun,#NRLPanthersWarriors,Elvis Costello\n",
      "('----------', 'us')\n",
      "#wakeMEup,#WHATTHEFORD,Phuket,Great Depression,Scott Pruitt,#IndependenceDay,SEAL,#BEASTMODE2,#ZIMvAUS,#BRABEL,#TrueFriendshipIn4Words,#NationalFriedChickenDay,#MorningsOn1,#PVLReinforcedConference,#HTownRush,#SignsYouAreAMillennial,Drug Addicts,MeToo,#ThursdayThoughts,#BritishGP,#MyFamousLastWordsOrGif,#RockBandLiterature,#Beryl,#FridayMotivation,#FlashbackFriday,We're ON-AIR,#WDWTALK,Ed Schultz,U.S.-China,Singer Chris Brown,#FinallyFree,#NotSoTopSecretMission,#Daybreak,#HRR18,4th of July,#GetUpDC,Bill Shine,#OnTheHuntFor,Madison Keys,#AdviceForNewTwitterUsers,Happy 4th,Grayson Allen,Rocket Man,#25ZipTrip,Outer Loop,#JCPOA,Mike Pompeo,Meek,Trade War,Neymar and the Art of the Dive\n",
      "('----------', 'san diego')\n",
      "#wakeMEup,#WHATTHEFORD,Phuket,Great Depression,Scott Pruitt,#BEASTMODE2,#ZIMvAUS,#BRABEL,#TrueFriendshipIn4Words,#NationalFriedChickenDay,#MorningsOn1,#PVLReinforcedConference,#HTownRush,#SignsYouAreAMillennial,Drug Addicts,MeToo,#AX2018,#ThursdayThoughts,#BritishGP,#MyFamousLastWordsOrGif,#Beryl,#4thofJuly,#FridayMotivation,#FlashbackFriday,We're ON-AIR,#WDWTALK,#LetsGoPadres,U.S.-China,Singer Chris Brown,#FinallyFree,#NotSoTopSecretMission,#Daybreak,President Trump,#HRR18,#GetUpDC,Statue of Liberty,#Jazz,#OnTheHuntFor,Madison Keys,#AdviceForNewTwitterUsers,Happy 4th,Rocket Man,#25ZipTrip,#bigbayboom,Outer Loop,#JCPOA,Mike Pompeo,Meek,Trade War,Neymar and the Art of the Dive\n"
     ]
    }
   ],
   "source": [
    "for loc in ['world','us','san diego']:\n",
    "    print(('-'*10,loc))\n",
    "    print((','.join(trends_set[loc])))"
   ]
  },
  {
   "cell_type": "code",
   "execution_count": 43,
   "metadata": {},
   "outputs": [
    {
     "name": "stdout",
     "output_type": "stream",
     "text": [
      "('==========', 'interaction of world and us')\n",
      "{'#BRABEL', '#NationalFriedChickenDay', '#FridayMotivation', '#FlashbackFriday', '#SignsYouAreAMillennial', '#BritishGP'}\n"
     ]
    }
   ],
   "source": [
    "print(('='*10,'interaction of world and us'))\n",
    "print((trends_set['world'].intersection(trends_set['us'])))"
   ]
  },
  {
   "cell_type": "code",
   "execution_count": 44,
   "metadata": {},
   "outputs": [
    {
     "name": "stdout",
     "output_type": "stream",
     "text": [
      "('==========', 'intersection of us and san-diego')\n",
      "{'#wakeMEup', '#WHATTHEFORD', 'Phuket', 'Great Depression', 'Scott Pruitt', '#ZIMvAUS', '#BRABEL', '#TrueFriendshipIn4Words', 'Trade War', '#NationalFriedChickenDay', '#MorningsOn1', '#PVLReinforcedConference', '#HTownRush', '#SignsYouAreAMillennial', 'Drug Addicts', 'MeToo', '#ThursdayThoughts', '#BritishGP', '#MyFamousLastWordsOrGif', '#Beryl', '#FridayMotivation', '#FlashbackFriday', \"We're ON-AIR\", '#WDWTALK', 'U.S.-China', 'Singer Chris Brown', '#FinallyFree', '#NotSoTopSecretMission', '#HRR18', '#GetUpDC', 'Neymar and the Art of the Dive', '#OnTheHuntFor', 'Madison Keys', '#AdviceForNewTwitterUsers', 'Happy 4th', 'Mike Pompeo', '#25ZipTrip', 'Outer Loop', '#JCPOA', '#BEASTMODE2', 'Meek', 'Rocket Man', '#Daybreak'}\n"
     ]
    }
   ],
   "source": [
    "print(('='*10,'intersection of us and san-diego'))\n",
    "print((trends_set['san diego'].intersection(trends_set['us'])))"
   ]
  },
  {
   "cell_type": "markdown",
   "metadata": {},
   "source": [
    "## Example 5. Collecting search results"
   ]
  },
  {
   "cell_type": "code",
   "execution_count": 45,
   "metadata": {},
   "outputs": [],
   "source": [
    "q='#MTVAwards'\n",
    "number=100\n",
    "\n",
    "search_results=twitter_api.search.tweets(q=q,count=number)\n",
    "\n",
    "statuses=search_results['statuses']"
   ]
  },
  {
   "cell_type": "code",
   "execution_count": 51,
   "metadata": {},
   "outputs": [
    {
     "name": "stdout",
     "output_type": "stream",
     "text": [
      "[{'created_at': 'Sun Jul 08 02:31:35 +0000 2018', 'id': 1015785437959421953, 'id_str': '1015785437959421953', 'text': '36. Tengo miedo de que me cierren la cuenta por spam \\n#SummerOfGfriend #SummerOfBuddy #GFriend #여자친구… https://t.co/bbWEfMVfOq', 'truncated': True, 'entities': {'hashtags': [{'text': 'SummerOfGfriend', 'indices': [54, 70]}, {'text': 'SummerOfBuddy', 'indices': [71, 85]}, {'text': 'GFriend', 'indices': [86, 94]}, {'text': '여자친구', 'indices': [95, 100]}], 'symbols': [], 'user_mentions': [], 'urls': [{'url': 'https://t.co/bbWEfMVfOq', 'expanded_url': 'https://twitter.com/i/web/status/1015785437959421953', 'display_url': 'twitter.com/i/web/status/1…', 'indices': [102, 125]}]}, 'metadata': {'iso_language_code': 'es', 'result_type': 'recent'}, 'source': '<a href=\"http://twitter.com\" rel=\"nofollow\">Twitter Web Client</a>', 'in_reply_to_status_id': None, 'in_reply_to_status_id_str': None, 'in_reply_to_user_id': None, 'in_reply_to_user_id_str': None, 'in_reply_to_screen_name': None, 'user': {'id': 986049831205470209, 'id_str': '986049831205470209', 'name': '~rinnielin~❁', 'screen_name': 'gfriendmysun', 'location': '💫 linnु account', 'description': ':¨·.·¨:                                                       \\n                        `·..여자친구 *ೃ༄ #Buddy', 'url': 'https://t.co/9Mlav7M4Rf', 'entities': {'url': {'urls': [{'url': 'https://t.co/9Mlav7M4Rf', 'expanded_url': 'https://twitter.com/jinmysunshine12?s=09', 'display_url': 'twitter.com/jinmysunshine1…', 'indices': [0, 23]}]}, 'description': {'urls': []}}, 'protected': False, 'followers_count': 11, 'friends_count': 18, 'listed_count': 0, 'created_at': 'Tue Apr 17 01:12:54 +0000 2018', 'favourites_count': 110, 'utc_offset': None, 'time_zone': None, 'geo_enabled': False, 'verified': False, 'statuses_count': 299, 'lang': 'es', 'contributors_enabled': False, 'is_translator': False, 'is_translation_enabled': False, 'profile_background_color': 'F5F8FA', 'profile_background_image_url': None, 'profile_background_image_url_https': None, 'profile_background_tile': False, 'profile_image_url': 'http://pbs.twimg.com/profile_images/986057383364276224/Kr_36ZWQ_normal.jpg', 'profile_image_url_https': 'https://pbs.twimg.com/profile_images/986057383364276224/Kr_36ZWQ_normal.jpg', 'profile_banner_url': 'https://pbs.twimg.com/profile_banners/986049831205470209/1523929037', 'profile_link_color': '1DA1F2', 'profile_sidebar_border_color': 'C0DEED', 'profile_sidebar_fill_color': 'DDEEF6', 'profile_text_color': '333333', 'profile_use_background_image': True, 'has_extended_profile': True, 'default_profile': True, 'default_profile_image': False, 'following': False, 'follow_request_sent': False, 'notifications': False, 'translator_type': 'none'}, 'geo': None, 'coordinates': None, 'place': None, 'contributors': None, 'is_quote_status': False, 'retweet_count': 0, 'favorite_count': 0, 'favorited': False, 'retweeted': False, 'lang': 'es'}, {'created_at': 'Sun Jul 08 02:31:06 +0000 2018', 'id': 1015785315418755072, 'id_str': '1015785315418755072', 'text': '35. #SummerOfGfriend #SummerOfBuddy #GFriend #여자친구 #GFRIENDComeback #Summer_Mini_Album #MTV #MTVAwards @GFRDofficial @GFRDofficialJP', 'truncated': False, 'entities': {'hashtags': [{'text': 'SummerOfGfriend', 'indices': [4, 20]}, {'text': 'SummerOfBuddy', 'indices': [21, 35]}, {'text': 'GFriend', 'indices': [36, 44]}, {'text': '여자친구', 'indices': [45, 50]}, {'text': 'GFRIENDComeback', 'indices': [51, 67]}, {'text': 'Summer_Mini_Album', 'indices': [68, 86]}, {'text': 'MTV', 'indices': [87, 91]}, {'text': 'MTVAwards', 'indices': [92, 102]}], 'symbols': [], 'user_mentions': [{'screen_name': 'GFRDofficial', 'name': '여자친구 GFRIEND', 'id': 2258740268, 'id_str': '2258740268', 'indices': [103, 116]}, {'screen_name': 'GFRDofficialJP', 'name': 'GFRIEND JAPAN OFFICIAL', 'id': 857867656296148992, 'id_str': '857867656296148992', 'indices': [117, 132]}], 'urls': []}, 'metadata': {'iso_language_code': 'und', 'result_type': 'recent'}, 'source': '<a href=\"http://twitter.com\" rel=\"nofollow\">Twitter Web Client</a>', 'in_reply_to_status_id': None, 'in_reply_to_status_id_str': None, 'in_reply_to_user_id': None, 'in_reply_to_user_id_str': None, 'in_reply_to_screen_name': None, 'user': {'id': 986049831205470209, 'id_str': '986049831205470209', 'name': '~rinnielin~❁', 'screen_name': 'gfriendmysun', 'location': '💫 linnु account', 'description': ':¨·.·¨:                                                       \\n                        `·..여자친구 *ೃ༄ #Buddy', 'url': 'https://t.co/9Mlav7M4Rf', 'entities': {'url': {'urls': [{'url': 'https://t.co/9Mlav7M4Rf', 'expanded_url': 'https://twitter.com/jinmysunshine12?s=09', 'display_url': 'twitter.com/jinmysunshine1…', 'indices': [0, 23]}]}, 'description': {'urls': []}}, 'protected': False, 'followers_count': 11, 'friends_count': 18, 'listed_count': 0, 'created_at': 'Tue Apr 17 01:12:54 +0000 2018', 'favourites_count': 110, 'utc_offset': None, 'time_zone': None, 'geo_enabled': False, 'verified': False, 'statuses_count': 299, 'lang': 'es', 'contributors_enabled': False, 'is_translator': False, 'is_translation_enabled': False, 'profile_background_color': 'F5F8FA', 'profile_background_image_url': None, 'profile_background_image_url_https': None, 'profile_background_tile': False, 'profile_image_url': 'http://pbs.twimg.com/profile_images/986057383364276224/Kr_36ZWQ_normal.jpg', 'profile_image_url_https': 'https://pbs.twimg.com/profile_images/986057383364276224/Kr_36ZWQ_normal.jpg', 'profile_banner_url': 'https://pbs.twimg.com/profile_banners/986049831205470209/1523929037', 'profile_link_color': '1DA1F2', 'profile_sidebar_border_color': 'C0DEED', 'profile_sidebar_fill_color': 'DDEEF6', 'profile_text_color': '333333', 'profile_use_background_image': True, 'has_extended_profile': True, 'default_profile': True, 'default_profile_image': False, 'following': False, 'follow_request_sent': False, 'notifications': False, 'translator_type': 'none'}, 'geo': None, 'coordinates': None, 'place': None, 'contributors': None, 'is_quote_status': False, 'retweet_count': 0, 'favorite_count': 0, 'favorited': False, 'retweeted': False, 'lang': 'und'}, {'created_at': 'Sun Jul 08 02:30:54 +0000 2018', 'id': 1015785265938518016, 'id_str': '1015785265938518016', 'text': '34. \\n#SummerOfGfriend #SummerOfBuddy #GFriend #여자친구 #GFRIENDComeback #Summer_Mini_Album #MTV #MTVAwards @GFRDofficial @GFRDofficialJP', 'truncated': False, 'entities': {'hashtags': [{'text': 'SummerOfGfriend', 'indices': [5, 21]}, {'text': 'SummerOfBuddy', 'indices': [22, 36]}, {'text': 'GFriend', 'indices': [37, 45]}, {'text': '여자친구', 'indices': [46, 51]}, {'text': 'GFRIENDComeback', 'indices': [52, 68]}, {'text': 'Summer_Mini_Album', 'indices': [69, 87]}, {'text': 'MTV', 'indices': [88, 92]}, {'text': 'MTVAwards', 'indices': [93, 103]}], 'symbols': [], 'user_mentions': [{'screen_name': 'GFRDofficial', 'name': '여자친구 GFRIEND', 'id': 2258740268, 'id_str': '2258740268', 'indices': [104, 117]}, {'screen_name': 'GFRDofficialJP', 'name': 'GFRIEND JAPAN OFFICIAL', 'id': 857867656296148992, 'id_str': '857867656296148992', 'indices': [118, 133]}], 'urls': []}, 'metadata': {'iso_language_code': 'und', 'result_type': 'recent'}, 'source': '<a href=\"http://twitter.com\" rel=\"nofollow\">Twitter Web Client</a>', 'in_reply_to_status_id': None, 'in_reply_to_status_id_str': None, 'in_reply_to_user_id': None, 'in_reply_to_user_id_str': None, 'in_reply_to_screen_name': None, 'user': {'id': 986049831205470209, 'id_str': '986049831205470209', 'name': '~rinnielin~❁', 'screen_name': 'gfriendmysun', 'location': '💫 linnु account', 'description': ':¨·.·¨:                                                       \\n                        `·..여자친구 *ೃ༄ #Buddy', 'url': 'https://t.co/9Mlav7M4Rf', 'entities': {'url': {'urls': [{'url': 'https://t.co/9Mlav7M4Rf', 'expanded_url': 'https://twitter.com/jinmysunshine12?s=09', 'display_url': 'twitter.com/jinmysunshine1…', 'indices': [0, 23]}]}, 'description': {'urls': []}}, 'protected': False, 'followers_count': 11, 'friends_count': 18, 'listed_count': 0, 'created_at': 'Tue Apr 17 01:12:54 +0000 2018', 'favourites_count': 110, 'utc_offset': None, 'time_zone': None, 'geo_enabled': False, 'verified': False, 'statuses_count': 299, 'lang': 'es', 'contributors_enabled': False, 'is_translator': False, 'is_translation_enabled': False, 'profile_background_color': 'F5F8FA', 'profile_background_image_url': None, 'profile_background_image_url_https': None, 'profile_background_tile': False, 'profile_image_url': 'http://pbs.twimg.com/profile_images/986057383364276224/Kr_36ZWQ_normal.jpg', 'profile_image_url_https': 'https://pbs.twimg.com/profile_images/986057383364276224/Kr_36ZWQ_normal.jpg', 'profile_banner_url': 'https://pbs.twimg.com/profile_banners/986049831205470209/1523929037', 'profile_link_color': '1DA1F2', 'profile_sidebar_border_color': 'C0DEED', 'profile_sidebar_fill_color': 'DDEEF6', 'profile_text_color': '333333', 'profile_use_background_image': True, 'has_extended_profile': True, 'default_profile': True, 'default_profile_image': False, 'following': False, 'follow_request_sent': False, 'notifications': False, 'translator_type': 'none'}, 'geo': None, 'coordinates': None, 'place': None, 'contributors': None, 'is_quote_status': False, 'retweet_count': 0, 'favorite_count': 0, 'favorited': False, 'retweeted': False, 'lang': 'und'}, {'created_at': 'Sun Jul 08 02:30:44 +0000 2018', 'id': 1015785223982845952, 'id_str': '1015785223982845952', 'text': '33. \\n\\n#SummerOfGfriend #SummerOfBuddy #GFriend #여자친구 #GFRIENDComeback #Summer_Mini_Album #MTV #MTVAwards @GFRDofficial @GFRDofficialJP', 'truncated': False, 'entities': {'hashtags': [{'text': 'SummerOfGfriend', 'indices': [6, 22]}, {'text': 'SummerOfBuddy', 'indices': [23, 37]}, {'text': 'GFriend', 'indices': [38, 46]}, {'text': '여자친구', 'indices': [47, 52]}, {'text': 'GFRIENDComeback', 'indices': [53, 69]}, {'text': 'Summer_Mini_Album', 'indices': [70, 88]}, {'text': 'MTV', 'indices': [89, 93]}, {'text': 'MTVAwards', 'indices': [94, 104]}], 'symbols': [], 'user_mentions': [{'screen_name': 'GFRDofficial', 'name': '여자친구 GFRIEND', 'id': 2258740268, 'id_str': '2258740268', 'indices': [105, 118]}, {'screen_name': 'GFRDofficialJP', 'name': 'GFRIEND JAPAN OFFICIAL', 'id': 857867656296148992, 'id_str': '857867656296148992', 'indices': [119, 134]}], 'urls': []}, 'metadata': {'iso_language_code': 'und', 'result_type': 'recent'}, 'source': '<a href=\"http://twitter.com\" rel=\"nofollow\">Twitter Web Client</a>', 'in_reply_to_status_id': None, 'in_reply_to_status_id_str': None, 'in_reply_to_user_id': None, 'in_reply_to_user_id_str': None, 'in_reply_to_screen_name': None, 'user': {'id': 986049831205470209, 'id_str': '986049831205470209', 'name': '~rinnielin~❁', 'screen_name': 'gfriendmysun', 'location': '💫 linnु account', 'description': ':¨·.·¨:                                                       \\n                        `·..여자친구 *ೃ༄ #Buddy', 'url': 'https://t.co/9Mlav7M4Rf', 'entities': {'url': {'urls': [{'url': 'https://t.co/9Mlav7M4Rf', 'expanded_url': 'https://twitter.com/jinmysunshine12?s=09', 'display_url': 'twitter.com/jinmysunshine1…', 'indices': [0, 23]}]}, 'description': {'urls': []}}, 'protected': False, 'followers_count': 11, 'friends_count': 18, 'listed_count': 0, 'created_at': 'Tue Apr 17 01:12:54 +0000 2018', 'favourites_count': 110, 'utc_offset': None, 'time_zone': None, 'geo_enabled': False, 'verified': False, 'statuses_count': 299, 'lang': 'es', 'contributors_enabled': False, 'is_translator': False, 'is_translation_enabled': False, 'profile_background_color': 'F5F8FA', 'profile_background_image_url': None, 'profile_background_image_url_https': None, 'profile_background_tile': False, 'profile_image_url': 'http://pbs.twimg.com/profile_images/986057383364276224/Kr_36ZWQ_normal.jpg', 'profile_image_url_https': 'https://pbs.twimg.com/profile_images/986057383364276224/Kr_36ZWQ_normal.jpg', 'profile_banner_url': 'https://pbs.twimg.com/profile_banners/986049831205470209/1523929037', 'profile_link_color': '1DA1F2', 'profile_sidebar_border_color': 'C0DEED', 'profile_sidebar_fill_color': 'DDEEF6', 'profile_text_color': '333333', 'profile_use_background_image': True, 'has_extended_profile': True, 'default_profile': True, 'default_profile_image': False, 'following': False, 'follow_request_sent': False, 'notifications': False, 'translator_type': 'none'}, 'geo': None, 'coordinates': None, 'place': None, 'contributors': None, 'is_quote_status': False, 'retweet_count': 0, 'favorite_count': 0, 'favorited': False, 'retweeted': False, 'lang': 'und'}, {'created_at': 'Sun Jul 08 02:29:46 +0000 2018', 'id': 1015784982927888384, 'id_str': '1015784982927888384', 'text': 'RT @MTVAwards: Still have goosebumps from this heavenly @ChloexHalle performance tbh #MTVAwards https://t.co/Ie8gv5m4So', 'truncated': False, 'entities': {'hashtags': [{'text': 'MTVAwards', 'indices': [85, 95]}], 'symbols': [], 'user_mentions': [{'screen_name': 'MTVAwards', 'name': 'Movie & TV Awards', 'id': 834116685577740290, 'id_str': '834116685577740290', 'indices': [3, 13]}, {'screen_name': 'chloexhalle', 'name': 'chloe x halle', 'id': 189362860, 'id_str': '189362860', 'indices': [56, 68]}], 'urls': [], 'media': [{'id': 1009149517520728064, 'id_str': '1009149517520728064', 'indices': [96, 119], 'media_url': 'http://pbs.twimg.com/amplify_video_thumb/1009149517520728064/img/oSL-fU_V6mE_90Gy.jpg', 'media_url_https': 'https://pbs.twimg.com/amplify_video_thumb/1009149517520728064/img/oSL-fU_V6mE_90Gy.jpg', 'url': 'https://t.co/Ie8gv5m4So', 'display_url': 'pic.twitter.com/Ie8gv5m4So', 'expanded_url': 'https://twitter.com/MTVAwards/status/1009216759876935681/video/1', 'type': 'photo', 'sizes': {'thumb': {'w': 150, 'h': 150, 'resize': 'crop'}, 'medium': {'w': 1200, 'h': 675, 'resize': 'fit'}, 'small': {'w': 680, 'h': 383, 'resize': 'fit'}, 'large': {'w': 1280, 'h': 720, 'resize': 'fit'}}, 'source_status_id': 1009216759876935681, 'source_status_id_str': '1009216759876935681', 'source_user_id': 834116685577740290, 'source_user_id_str': '834116685577740290'}]}, 'extended_entities': {'media': [{'id': 1009149517520728064, 'id_str': '1009149517520728064', 'indices': [96, 119], 'media_url': 'http://pbs.twimg.com/amplify_video_thumb/1009149517520728064/img/oSL-fU_V6mE_90Gy.jpg', 'media_url_https': 'https://pbs.twimg.com/amplify_video_thumb/1009149517520728064/img/oSL-fU_V6mE_90Gy.jpg', 'url': 'https://t.co/Ie8gv5m4So', 'display_url': 'pic.twitter.com/Ie8gv5m4So', 'expanded_url': 'https://twitter.com/MTVAwards/status/1009216759876935681/video/1', 'type': 'video', 'sizes': {'thumb': {'w': 150, 'h': 150, 'resize': 'crop'}, 'medium': {'w': 1200, 'h': 675, 'resize': 'fit'}, 'small': {'w': 680, 'h': 383, 'resize': 'fit'}, 'large': {'w': 1280, 'h': 720, 'resize': 'fit'}}, 'source_status_id': 1009216759876935681, 'source_status_id_str': '1009216759876935681', 'source_user_id': 834116685577740290, 'source_user_id_str': '834116685577740290', 'video_info': {'aspect_ratio': [16, 9], 'duration_millis': 212345, 'variants': [{'bitrate': 2176000, 'content_type': 'video/mp4', 'url': 'https://video.twimg.com/amplify_video/1009149517520728064/vid/1280x720/A5_apvW4esez5llH.mp4?tag=2'}, {'bitrate': 832000, 'content_type': 'video/mp4', 'url': 'https://video.twimg.com/amplify_video/1009149517520728064/vid/640x360/cONoZv2pq7cBj2jY.mp4?tag=2'}, {'bitrate': 320000, 'content_type': 'video/mp4', 'url': 'https://video.twimg.com/amplify_video/1009149517520728064/vid/320x180/VDy2Qc9UycmcHiNf.mp4?tag=2'}, {'content_type': 'application/x-mpegURL', 'url': 'https://video.twimg.com/amplify_video/1009149517520728064/pl/uV6xwrxEuu-lFBEB.m3u8?tag=2'}]}, 'additional_media_info': {'title': '', 'description': '', 'embeddable': True, 'monetizable': False, 'source_user': {'id': 834116685577740290, 'id_str': '834116685577740290', 'name': 'Movie & TV Awards', 'screen_name': 'MTVAwards', 'location': 'Los Angeles, CA', 'description': 'Official account for the @MTV Movie & TV Awards 🍿 Watch all the best clips at https://t.co/WDnzRIimHv!', 'url': 'https://t.co/WDnzRIimHv', 'entities': {'url': {'urls': [{'url': 'https://t.co/WDnzRIimHv', 'expanded_url': 'http://mtvawards.mtv.com', 'display_url': 'mtvawards.mtv.com', 'indices': [0, 23]}]}, 'description': {'urls': [{'url': 'https://t.co/WDnzRIimHv', 'expanded_url': 'http://mtvawards.mtv.com', 'display_url': 'mtvawards.mtv.com', 'indices': [78, 101]}]}}, 'protected': False, 'followers_count': 24914, 'friends_count': 1281, 'listed_count': 120, 'created_at': 'Tue Feb 21 19:04:49 +0000 2017', 'favourites_count': 1936, 'utc_offset': None, 'time_zone': None, 'geo_enabled': False, 'verified': True, 'statuses_count': 1267, 'lang': 'en', 'contributors_enabled': False, 'is_translator': False, 'is_translation_enabled': False, 'profile_background_color': '000000', 'profile_background_image_url': 'http://abs.twimg.com/images/themes/theme1/bg.png', 'profile_background_image_url_https': 'https://abs.twimg.com/images/themes/theme1/bg.png', 'profile_background_tile': False, 'profile_image_url': 'http://pbs.twimg.com/profile_images/1006220736766316544/mzfhcJMq_normal.jpg', 'profile_image_url_https': 'https://pbs.twimg.com/profile_images/1006220736766316544/mzfhcJMq_normal.jpg', 'profile_banner_url': 'https://pbs.twimg.com/profile_banners/834116685577740290/1529519816', 'profile_link_color': 'D4AF37', 'profile_sidebar_border_color': '000000', 'profile_sidebar_fill_color': '000000', 'profile_text_color': '000000', 'profile_use_background_image': False, 'has_extended_profile': False, 'default_profile': False, 'default_profile_image': False, 'following': False, 'follow_request_sent': False, 'notifications': False, 'translator_type': 'none'}}}]}, 'metadata': {'iso_language_code': 'en', 'result_type': 'recent'}, 'source': '<a href=\"http://twitter.com/download/android\" rel=\"nofollow\">Twitter for Android</a>', 'in_reply_to_status_id': None, 'in_reply_to_status_id_str': None, 'in_reply_to_user_id': None, 'in_reply_to_user_id_str': None, 'in_reply_to_screen_name': None, 'user': {'id': 1008860763010854912, 'id_str': '1008860763010854912', 'name': 'Mihle File', 'screen_name': 'mihle_file', 'location': '', 'description': '', 'url': None, 'entities': {'description': {'urls': []}}, 'protected': False, 'followers_count': 22, 'friends_count': 117, 'listed_count': 0, 'created_at': 'Mon Jun 18 23:55:24 +0000 2018', 'favourites_count': 49, 'utc_offset': None, 'time_zone': None, 'geo_enabled': False, 'verified': False, 'statuses_count': 4, 'lang': 'en', 'contributors_enabled': False, 'is_translator': False, 'is_translation_enabled': False, 'profile_background_color': 'F5F8FA', 'profile_background_image_url': None, 'profile_background_image_url_https': None, 'profile_background_tile': False, 'profile_image_url': 'http://pbs.twimg.com/profile_images/1012678241981693953/qvtiW6im_normal.jpg', 'profile_image_url_https': 'https://pbs.twimg.com/profile_images/1012678241981693953/qvtiW6im_normal.jpg', 'profile_link_color': '1DA1F2', 'profile_sidebar_border_color': 'C0DEED', 'profile_sidebar_fill_color': 'DDEEF6', 'profile_text_color': '333333', 'profile_use_background_image': True, 'has_extended_profile': False, 'default_profile': True, 'default_profile_image': False, 'following': False, 'follow_request_sent': False, 'notifications': False, 'translator_type': 'none'}, 'geo': None, 'coordinates': None, 'place': None, 'contributors': None, 'retweeted_status': {'created_at': 'Tue Jun 19 23:30:00 +0000 2018', 'id': 1009216759876935681, 'id_str': '1009216759876935681', 'text': 'Still have goosebumps from this heavenly @ChloexHalle performance tbh #MTVAwards https://t.co/Ie8gv5m4So', 'truncated': False, 'entities': {'hashtags': [{'text': 'MTVAwards', 'indices': [70, 80]}], 'symbols': [], 'user_mentions': [{'screen_name': 'chloexhalle', 'name': 'chloe x halle', 'id': 189362860, 'id_str': '189362860', 'indices': [41, 53]}], 'urls': [], 'media': [{'id': 1009149517520728064, 'id_str': '1009149517520728064', 'indices': [81, 104], 'media_url': 'http://pbs.twimg.com/amplify_video_thumb/1009149517520728064/img/oSL-fU_V6mE_90Gy.jpg', 'media_url_https': 'https://pbs.twimg.com/amplify_video_thumb/1009149517520728064/img/oSL-fU_V6mE_90Gy.jpg', 'url': 'https://t.co/Ie8gv5m4So', 'display_url': 'pic.twitter.com/Ie8gv5m4So', 'expanded_url': 'https://twitter.com/MTVAwards/status/1009216759876935681/video/1', 'type': 'photo', 'sizes': {'thumb': {'w': 150, 'h': 150, 'resize': 'crop'}, 'medium': {'w': 1200, 'h': 675, 'resize': 'fit'}, 'small': {'w': 680, 'h': 383, 'resize': 'fit'}, 'large': {'w': 1280, 'h': 720, 'resize': 'fit'}}}]}, 'extended_entities': {'media': [{'id': 1009149517520728064, 'id_str': '1009149517520728064', 'indices': [81, 104], 'media_url': 'http://pbs.twimg.com/amplify_video_thumb/1009149517520728064/img/oSL-fU_V6mE_90Gy.jpg', 'media_url_https': 'https://pbs.twimg.com/amplify_video_thumb/1009149517520728064/img/oSL-fU_V6mE_90Gy.jpg', 'url': 'https://t.co/Ie8gv5m4So', 'display_url': 'pic.twitter.com/Ie8gv5m4So', 'expanded_url': 'https://twitter.com/MTVAwards/status/1009216759876935681/video/1', 'type': 'video', 'sizes': {'thumb': {'w': 150, 'h': 150, 'resize': 'crop'}, 'medium': {'w': 1200, 'h': 675, 'resize': 'fit'}, 'small': {'w': 680, 'h': 383, 'resize': 'fit'}, 'large': {'w': 1280, 'h': 720, 'resize': 'fit'}}, 'video_info': {'aspect_ratio': [16, 9], 'duration_millis': 212345, 'variants': [{'bitrate': 2176000, 'content_type': 'video/mp4', 'url': 'https://video.twimg.com/amplify_video/1009149517520728064/vid/1280x720/A5_apvW4esez5llH.mp4?tag=2'}, {'bitrate': 832000, 'content_type': 'video/mp4', 'url': 'https://video.twimg.com/amplify_video/1009149517520728064/vid/640x360/cONoZv2pq7cBj2jY.mp4?tag=2'}, {'bitrate': 320000, 'content_type': 'video/mp4', 'url': 'https://video.twimg.com/amplify_video/1009149517520728064/vid/320x180/VDy2Qc9UycmcHiNf.mp4?tag=2'}, {'content_type': 'application/x-mpegURL', 'url': 'https://video.twimg.com/amplify_video/1009149517520728064/pl/uV6xwrxEuu-lFBEB.m3u8?tag=2'}]}, 'additional_media_info': {'title': '', 'description': '', 'embeddable': True, 'monetizable': False}}]}, 'metadata': {'iso_language_code': 'en', 'result_type': 'recent'}, 'source': '<a href=\"https://studio.twitter.com\" rel=\"nofollow\">Media Studio</a>', 'in_reply_to_status_id': None, 'in_reply_to_status_id_str': None, 'in_reply_to_user_id': None, 'in_reply_to_user_id_str': None, 'in_reply_to_screen_name': None, 'user': {'id': 834116685577740290, 'id_str': '834116685577740290', 'name': 'Movie & TV Awards', 'screen_name': 'MTVAwards', 'location': 'Los Angeles, CA', 'description': 'Official account for the @MTV Movie & TV Awards 🍿 Watch all the best clips at https://t.co/WDnzRIimHv!', 'url': 'https://t.co/WDnzRIimHv', 'entities': {'url': {'urls': [{'url': 'https://t.co/WDnzRIimHv', 'expanded_url': 'http://mtvawards.mtv.com', 'display_url': 'mtvawards.mtv.com', 'indices': [0, 23]}]}, 'description': {'urls': [{'url': 'https://t.co/WDnzRIimHv', 'expanded_url': 'http://mtvawards.mtv.com', 'display_url': 'mtvawards.mtv.com', 'indices': [78, 101]}]}}, 'protected': False, 'followers_count': 24914, 'friends_count': 1281, 'listed_count': 120, 'created_at': 'Tue Feb 21 19:04:49 +0000 2017', 'favourites_count': 1936, 'utc_offset': None, 'time_zone': None, 'geo_enabled': False, 'verified': True, 'statuses_count': 1267, 'lang': 'en', 'contributors_enabled': False, 'is_translator': False, 'is_translation_enabled': False, 'profile_background_color': '000000', 'profile_background_image_url': 'http://abs.twimg.com/images/themes/theme1/bg.png', 'profile_background_image_url_https': 'https://abs.twimg.com/images/themes/theme1/bg.png', 'profile_background_tile': False, 'profile_image_url': 'http://pbs.twimg.com/profile_images/1006220736766316544/mzfhcJMq_normal.jpg', 'profile_image_url_https': 'https://pbs.twimg.com/profile_images/1006220736766316544/mzfhcJMq_normal.jpg', 'profile_banner_url': 'https://pbs.twimg.com/profile_banners/834116685577740290/1529519816', 'profile_link_color': 'D4AF37', 'profile_sidebar_border_color': '000000', 'profile_sidebar_fill_color': '000000', 'profile_text_color': '000000', 'profile_use_background_image': False, 'has_extended_profile': False, 'default_profile': False, 'default_profile_image': False, 'following': False, 'follow_request_sent': False, 'notifications': False, 'translator_type': 'none'}, 'geo': None, 'coordinates': None, 'place': None, 'contributors': None, 'is_quote_status': False, 'retweet_count': 80, 'favorite_count': 238, 'favorited': False, 'retweeted': False, 'possibly_sensitive': False, 'lang': 'en'}, 'is_quote_status': False, 'retweet_count': 80, 'favorite_count': 0, 'favorited': False, 'retweeted': False, 'possibly_sensitive': False, 'lang': 'en'}, {'created_at': 'Sun Jul 08 02:29:18 +0000 2018', 'id': 1015784865332105216, 'id_str': '1015784865332105216', 'text': '32. #SummerOfGfriend #SummerOfBuddy #GFriend #여자친구 #GFRIENDComeback #Summer_Mini_Album #MTV #MTVAwards @GFRDofficial @GFRDofficialJP', 'truncated': False, 'entities': {'hashtags': [{'text': 'SummerOfGfriend', 'indices': [4, 20]}, {'text': 'SummerOfBuddy', 'indices': [21, 35]}, {'text': 'GFriend', 'indices': [36, 44]}, {'text': '여자친구', 'indices': [45, 50]}, {'text': 'GFRIENDComeback', 'indices': [51, 67]}, {'text': 'Summer_Mini_Album', 'indices': [68, 86]}, {'text': 'MTV', 'indices': [87, 91]}, {'text': 'MTVAwards', 'indices': [92, 102]}], 'symbols': [], 'user_mentions': [{'screen_name': 'GFRDofficial', 'name': '여자친구 GFRIEND', 'id': 2258740268, 'id_str': '2258740268', 'indices': [103, 116]}, {'screen_name': 'GFRDofficialJP', 'name': 'GFRIEND JAPAN OFFICIAL', 'id': 857867656296148992, 'id_str': '857867656296148992', 'indices': [117, 132]}], 'urls': []}, 'metadata': {'iso_language_code': 'und', 'result_type': 'recent'}, 'source': '<a href=\"http://twitter.com\" rel=\"nofollow\">Twitter Web Client</a>', 'in_reply_to_status_id': None, 'in_reply_to_status_id_str': None, 'in_reply_to_user_id': None, 'in_reply_to_user_id_str': None, 'in_reply_to_screen_name': None, 'user': {'id': 986049831205470209, 'id_str': '986049831205470209', 'name': '~rinnielin~❁', 'screen_name': 'gfriendmysun', 'location': '💫 linnु account', 'description': ':¨·.·¨:                                                       \\n                        `·..여자친구 *ೃ༄ #Buddy', 'url': 'https://t.co/9Mlav7M4Rf', 'entities': {'url': {'urls': [{'url': 'https://t.co/9Mlav7M4Rf', 'expanded_url': 'https://twitter.com/jinmysunshine12?s=09', 'display_url': 'twitter.com/jinmysunshine1…', 'indices': [0, 23]}]}, 'description': {'urls': []}}, 'protected': False, 'followers_count': 11, 'friends_count': 18, 'listed_count': 0, 'created_at': 'Tue Apr 17 01:12:54 +0000 2018', 'favourites_count': 110, 'utc_offset': None, 'time_zone': None, 'geo_enabled': False, 'verified': False, 'statuses_count': 299, 'lang': 'es', 'contributors_enabled': False, 'is_translator': False, 'is_translation_enabled': False, 'profile_background_color': 'F5F8FA', 'profile_background_image_url': None, 'profile_background_image_url_https': None, 'profile_background_tile': False, 'profile_image_url': 'http://pbs.twimg.com/profile_images/986057383364276224/Kr_36ZWQ_normal.jpg', 'profile_image_url_https': 'https://pbs.twimg.com/profile_images/986057383364276224/Kr_36ZWQ_normal.jpg', 'profile_banner_url': 'https://pbs.twimg.com/profile_banners/986049831205470209/1523929037', 'profile_link_color': '1DA1F2', 'profile_sidebar_border_color': 'C0DEED', 'profile_sidebar_fill_color': 'DDEEF6', 'profile_text_color': '333333', 'profile_use_background_image': True, 'has_extended_profile': True, 'default_profile': True, 'default_profile_image': False, 'following': False, 'follow_request_sent': False, 'notifications': False, 'translator_type': 'none'}, 'geo': None, 'coordinates': None, 'place': None, 'contributors': None, 'is_quote_status': False, 'retweet_count': 0, 'favorite_count': 0, 'favorited': False, 'retweeted': False, 'lang': 'und'}, {'created_at': 'Sun Jul 08 02:28:58 +0000 2018', 'id': 1015784777599868930, 'id_str': '1015784777599868930', 'text': '30.\\n\\n#SummerOfGfriend #SummerOfBuddy #GFriend #여자친구 #GFRIENDComeback #Summer_Mini_Album #MTV #MTVAwards @GFRDofficial @GFRDofficialJP', 'truncated': False, 'entities': {'hashtags': [{'text': 'SummerOfGfriend', 'indices': [5, 21]}, {'text': 'SummerOfBuddy', 'indices': [22, 36]}, {'text': 'GFriend', 'indices': [37, 45]}, {'text': '여자친구', 'indices': [46, 51]}, {'text': 'GFRIENDComeback', 'indices': [52, 68]}, {'text': 'Summer_Mini_Album', 'indices': [69, 87]}, {'text': 'MTV', 'indices': [88, 92]}, {'text': 'MTVAwards', 'indices': [93, 103]}], 'symbols': [], 'user_mentions': [{'screen_name': 'GFRDofficial', 'name': '여자친구 GFRIEND', 'id': 2258740268, 'id_str': '2258740268', 'indices': [104, 117]}, {'screen_name': 'GFRDofficialJP', 'name': 'GFRIEND JAPAN OFFICIAL', 'id': 857867656296148992, 'id_str': '857867656296148992', 'indices': [118, 133]}], 'urls': []}, 'metadata': {'iso_language_code': 'und', 'result_type': 'recent'}, 'source': '<a href=\"http://twitter.com\" rel=\"nofollow\">Twitter Web Client</a>', 'in_reply_to_status_id': None, 'in_reply_to_status_id_str': None, 'in_reply_to_user_id': None, 'in_reply_to_user_id_str': None, 'in_reply_to_screen_name': None, 'user': {'id': 986049831205470209, 'id_str': '986049831205470209', 'name': '~rinnielin~❁', 'screen_name': 'gfriendmysun', 'location': '💫 linnु account', 'description': ':¨·.·¨:                                                       \\n                        `·..여자친구 *ೃ༄ #Buddy', 'url': 'https://t.co/9Mlav7M4Rf', 'entities': {'url': {'urls': [{'url': 'https://t.co/9Mlav7M4Rf', 'expanded_url': 'https://twitter.com/jinmysunshine12?s=09', 'display_url': 'twitter.com/jinmysunshine1…', 'indices': [0, 23]}]}, 'description': {'urls': []}}, 'protected': False, 'followers_count': 11, 'friends_count': 18, 'listed_count': 0, 'created_at': 'Tue Apr 17 01:12:54 +0000 2018', 'favourites_count': 110, 'utc_offset': None, 'time_zone': None, 'geo_enabled': False, 'verified': False, 'statuses_count': 299, 'lang': 'es', 'contributors_enabled': False, 'is_translator': False, 'is_translation_enabled': False, 'profile_background_color': 'F5F8FA', 'profile_background_image_url': None, 'profile_background_image_url_https': None, 'profile_background_tile': False, 'profile_image_url': 'http://pbs.twimg.com/profile_images/986057383364276224/Kr_36ZWQ_normal.jpg', 'profile_image_url_https': 'https://pbs.twimg.com/profile_images/986057383364276224/Kr_36ZWQ_normal.jpg', 'profile_banner_url': 'https://pbs.twimg.com/profile_banners/986049831205470209/1523929037', 'profile_link_color': '1DA1F2', 'profile_sidebar_border_color': 'C0DEED', 'profile_sidebar_fill_color': 'DDEEF6', 'profile_text_color': '333333', 'profile_use_background_image': True, 'has_extended_profile': True, 'default_profile': True, 'default_profile_image': False, 'following': False, 'follow_request_sent': False, 'notifications': False, 'translator_type': 'none'}, 'geo': None, 'coordinates': None, 'place': None, 'contributors': None, 'is_quote_status': False, 'retweet_count': 0, 'favorite_count': 0, 'favorited': False, 'retweeted': False, 'lang': 'und'}, {'created_at': 'Sun Jul 08 02:22:49 +0000 2018', 'id': 1015783233022291968, 'id_str': '1015783233022291968', 'text': '29. Source Music por favor avientanos algo, un teaser, una foto, un tweet LO QUE TU QUIERAS HERMANO… https://t.co/HOp8PUf926', 'truncated': True, 'entities': {'hashtags': [], 'symbols': [], 'user_mentions': [], 'urls': [{'url': 'https://t.co/HOp8PUf926', 'expanded_url': 'https://twitter.com/i/web/status/1015783233022291968', 'display_url': 'twitter.com/i/web/status/1…', 'indices': [101, 124]}]}, 'metadata': {'iso_language_code': 'es', 'result_type': 'recent'}, 'source': '<a href=\"http://twitter.com\" rel=\"nofollow\">Twitter Web Client</a>', 'in_reply_to_status_id': None, 'in_reply_to_status_id_str': None, 'in_reply_to_user_id': None, 'in_reply_to_user_id_str': None, 'in_reply_to_screen_name': None, 'user': {'id': 986049831205470209, 'id_str': '986049831205470209', 'name': '~rinnielin~❁', 'screen_name': 'gfriendmysun', 'location': '💫 linnु account', 'description': ':¨·.·¨:                                                       \\n                        `·..여자친구 *ೃ༄ #Buddy', 'url': 'https://t.co/9Mlav7M4Rf', 'entities': {'url': {'urls': [{'url': 'https://t.co/9Mlav7M4Rf', 'expanded_url': 'https://twitter.com/jinmysunshine12?s=09', 'display_url': 'twitter.com/jinmysunshine1…', 'indices': [0, 23]}]}, 'description': {'urls': []}}, 'protected': False, 'followers_count': 11, 'friends_count': 18, 'listed_count': 0, 'created_at': 'Tue Apr 17 01:12:54 +0000 2018', 'favourites_count': 110, 'utc_offset': None, 'time_zone': None, 'geo_enabled': False, 'verified': False, 'statuses_count': 299, 'lang': 'es', 'contributors_enabled': False, 'is_translator': False, 'is_translation_enabled': False, 'profile_background_color': 'F5F8FA', 'profile_background_image_url': None, 'profile_background_image_url_https': None, 'profile_background_tile': False, 'profile_image_url': 'http://pbs.twimg.com/profile_images/986057383364276224/Kr_36ZWQ_normal.jpg', 'profile_image_url_https': 'https://pbs.twimg.com/profile_images/986057383364276224/Kr_36ZWQ_normal.jpg', 'profile_banner_url': 'https://pbs.twimg.com/profile_banners/986049831205470209/1523929037', 'profile_link_color': '1DA1F2', 'profile_sidebar_border_color': 'C0DEED', 'profile_sidebar_fill_color': 'DDEEF6', 'profile_text_color': '333333', 'profile_use_background_image': True, 'has_extended_profile': True, 'default_profile': True, 'default_profile_image': False, 'following': False, 'follow_request_sent': False, 'notifications': False, 'translator_type': 'none'}, 'geo': None, 'coordinates': None, 'place': None, 'contributors': None, 'is_quote_status': False, 'retweet_count': 0, 'favorite_count': 0, 'favorited': False, 'retweeted': False, 'lang': 'es'}, {'created_at': 'Sun Jul 08 02:19:55 +0000 2018', 'id': 1015782501992861697, 'id_str': '1015782501992861697', 'text': '28. Me da miedo que las niñas anden con muchas actividades y AHORITA NADA DE NADAAAAA\\n\\n#SummerOfGfriend… https://t.co/CW6mdj93f8', 'truncated': True, 'entities': {'hashtags': [{'text': 'SummerOfGfriend', 'indices': [87, 103]}], 'symbols': [], 'user_mentions': [], 'urls': [{'url': 'https://t.co/CW6mdj93f8', 'expanded_url': 'https://twitter.com/i/web/status/1015782501992861697', 'display_url': 'twitter.com/i/web/status/1…', 'indices': [105, 128]}]}, 'metadata': {'iso_language_code': 'es', 'result_type': 'recent'}, 'source': '<a href=\"http://twitter.com\" rel=\"nofollow\">Twitter Web Client</a>', 'in_reply_to_status_id': None, 'in_reply_to_status_id_str': None, 'in_reply_to_user_id': None, 'in_reply_to_user_id_str': None, 'in_reply_to_screen_name': None, 'user': {'id': 986049831205470209, 'id_str': '986049831205470209', 'name': '~rinnielin~❁', 'screen_name': 'gfriendmysun', 'location': '💫 linnु account', 'description': ':¨·.·¨:                                                       \\n                        `·..여자친구 *ೃ༄ #Buddy', 'url': 'https://t.co/9Mlav7M4Rf', 'entities': {'url': {'urls': [{'url': 'https://t.co/9Mlav7M4Rf', 'expanded_url': 'https://twitter.com/jinmysunshine12?s=09', 'display_url': 'twitter.com/jinmysunshine1…', 'indices': [0, 23]}]}, 'description': {'urls': []}}, 'protected': False, 'followers_count': 11, 'friends_count': 18, 'listed_count': 0, 'created_at': 'Tue Apr 17 01:12:54 +0000 2018', 'favourites_count': 110, 'utc_offset': None, 'time_zone': None, 'geo_enabled': False, 'verified': False, 'statuses_count': 299, 'lang': 'es', 'contributors_enabled': False, 'is_translator': False, 'is_translation_enabled': False, 'profile_background_color': 'F5F8FA', 'profile_background_image_url': None, 'profile_background_image_url_https': None, 'profile_background_tile': False, 'profile_image_url': 'http://pbs.twimg.com/profile_images/986057383364276224/Kr_36ZWQ_normal.jpg', 'profile_image_url_https': 'https://pbs.twimg.com/profile_images/986057383364276224/Kr_36ZWQ_normal.jpg', 'profile_banner_url': 'https://pbs.twimg.com/profile_banners/986049831205470209/1523929037', 'profile_link_color': '1DA1F2', 'profile_sidebar_border_color': 'C0DEED', 'profile_sidebar_fill_color': 'DDEEF6', 'profile_text_color': '333333', 'profile_use_background_image': True, 'has_extended_profile': True, 'default_profile': True, 'default_profile_image': False, 'following': False, 'follow_request_sent': False, 'notifications': False, 'translator_type': 'none'}, 'geo': None, 'coordinates': None, 'place': None, 'contributors': None, 'is_quote_status': False, 'retweet_count': 0, 'favorite_count': 0, 'favorited': False, 'retweeted': False, 'lang': 'es'}, {'created_at': 'Sun Jul 08 02:19:23 +0000 2018', 'id': 1015782368659947520, 'id_str': '1015782368659947520', 'text': 'Amo este logo, ya quiero el comeback #GFRIEND #GFRIENDComeback #Summer_Mini_Album #MTV #MTVAwards @GFRDofficial… https://t.co/pHBrpopAlk', 'truncated': True, 'entities': {'hashtags': [{'text': 'GFRIEND', 'indices': [37, 45]}, {'text': 'GFRIENDComeback', 'indices': [46, 62]}, {'text': 'Summer_Mini_Album', 'indices': [63, 81]}, {'text': 'MTV', 'indices': [82, 86]}, {'text': 'MTVAwards', 'indices': [87, 97]}], 'symbols': [], 'user_mentions': [{'screen_name': 'GFRDofficial', 'name': '여자친구 GFRIEND', 'id': 2258740268, 'id_str': '2258740268', 'indices': [98, 111]}], 'urls': [{'url': 'https://t.co/pHBrpopAlk', 'expanded_url': 'https://twitter.com/i/web/status/1015782368659947520', 'display_url': 'twitter.com/i/web/status/1…', 'indices': [113, 136]}]}, 'metadata': {'iso_language_code': 'es', 'result_type': 'recent'}, 'source': '<a href=\"http://twitter.com/download/android\" rel=\"nofollow\">Twitter for Android</a>', 'in_reply_to_status_id': None, 'in_reply_to_status_id_str': None, 'in_reply_to_user_id': None, 'in_reply_to_user_id_str': None, 'in_reply_to_screen_name': None, 'user': {'id': 272652853, 'id_str': '272652853', 'name': 'Criztal Moon', 'screen_name': 'Criztal_Moon', 'location': 'Argentina', 'description': '', 'url': None, 'entities': {'description': {'urls': []}}, 'protected': False, 'followers_count': 87, 'friends_count': 72, 'listed_count': 2, 'created_at': 'Sat Mar 26 22:37:24 +0000 2011', 'favourites_count': 259, 'utc_offset': None, 'time_zone': None, 'geo_enabled': False, 'verified': False, 'statuses_count': 1087, 'lang': 'es', 'contributors_enabled': False, 'is_translator': False, 'is_translation_enabled': False, 'profile_background_color': 'FF6699', 'profile_background_image_url': 'http://abs.twimg.com/images/themes/theme11/bg.gif', 'profile_background_image_url_https': 'https://abs.twimg.com/images/themes/theme11/bg.gif', 'profile_background_tile': True, 'profile_image_url': 'http://pbs.twimg.com/profile_images/986363619842633729/kGJt08N__normal.jpg', 'profile_image_url_https': 'https://pbs.twimg.com/profile_images/986363619842633729/kGJt08N__normal.jpg', 'profile_banner_url': 'https://pbs.twimg.com/profile_banners/272652853/1442590049', 'profile_link_color': 'E61C5F', 'profile_sidebar_border_color': '000000', 'profile_sidebar_fill_color': 'E5507E', 'profile_text_color': '362720', 'profile_use_background_image': True, 'has_extended_profile': True, 'default_profile': False, 'default_profile_image': False, 'following': False, 'follow_request_sent': False, 'notifications': False, 'translator_type': 'none'}, 'geo': None, 'coordinates': None, 'place': None, 'contributors': None, 'is_quote_status': False, 'retweet_count': 0, 'favorite_count': 1, 'favorited': False, 'retweeted': False, 'possibly_sensitive': False, 'lang': 'es'}, {'created_at': 'Sun Jul 08 02:16:43 +0000 2018', 'id': 1015781698716479488, 'id_str': '1015781698716479488', 'text': 'RT @gfriendmysun: 27. Es raro para mi ver a mis hijas con tantos tintes de colores de cabello, porque siempre se los dejaban al natural y u…', 'truncated': False, 'entities': {'hashtags': [], 'symbols': [], 'user_mentions': [{'screen_name': 'gfriendmysun', 'name': '~rinnielin~❁', 'id': 986049831205470209, 'id_str': '986049831205470209', 'indices': [3, 16]}], 'urls': []}, 'metadata': {'iso_language_code': 'es', 'result_type': 'recent'}, 'source': '<a href=\"https://mtvvma2018.com/\" rel=\"nofollow\">MTV VMA FF</a>', 'in_reply_to_status_id': None, 'in_reply_to_status_id_str': None, 'in_reply_to_user_id': None, 'in_reply_to_user_id_str': None, 'in_reply_to_screen_name': None, 'user': {'id': 999774661691850752, 'id_str': '999774661691850752', 'name': 'MTV VMA 2018 Live Stream', 'screen_name': 'mtvvma2018live', 'location': 'New York, USA', 'description': 'Watch MTV VMA 2018 Live Stream Free Online on Your Favorite Device for Free. And get all the latest updates.', 'url': 'https://t.co/jnpEZnauMR', 'entities': {'url': {'urls': [{'url': 'https://t.co/jnpEZnauMR', 'expanded_url': 'https://mtvvma2018.com/', 'display_url': 'mtvvma2018.com', 'indices': [0, 23]}]}, 'description': {'urls': []}}, 'protected': False, 'followers_count': 279, 'friends_count': 19, 'listed_count': 0, 'created_at': 'Thu May 24 22:10:29 +0000 2018', 'favourites_count': 18, 'utc_offset': None, 'time_zone': None, 'geo_enabled': False, 'verified': False, 'statuses_count': 3291, 'lang': 'en', 'contributors_enabled': False, 'is_translator': False, 'is_translation_enabled': False, 'profile_background_color': '000000', 'profile_background_image_url': 'http://abs.twimg.com/images/themes/theme1/bg.png', 'profile_background_image_url_https': 'https://abs.twimg.com/images/themes/theme1/bg.png', 'profile_background_tile': False, 'profile_image_url': 'http://pbs.twimg.com/profile_images/1012772271528673280/tqSJJMB6_normal.jpg', 'profile_image_url_https': 'https://pbs.twimg.com/profile_images/1012772271528673280/tqSJJMB6_normal.jpg', 'profile_banner_url': 'https://pbs.twimg.com/profile_banners/999774661691850752/1530298713', 'profile_link_color': '981CEB', 'profile_sidebar_border_color': '000000', 'profile_sidebar_fill_color': '000000', 'profile_text_color': '000000', 'profile_use_background_image': False, 'has_extended_profile': False, 'default_profile': False, 'default_profile_image': False, 'following': False, 'follow_request_sent': False, 'notifications': False, 'translator_type': 'none'}, 'geo': None, 'coordinates': None, 'place': None, 'contributors': None, 'retweeted_status': {'created_at': 'Sun Jul 08 02:15:12 +0000 2018', 'id': 1015781313431900162, 'id_str': '1015781313431900162', 'text': '27. Es raro para mi ver a mis hijas con tantos tintes de colores de cabello, porque siempre se los dejaban al natur… https://t.co/ap48DMLoBI', 'truncated': True, 'entities': {'hashtags': [], 'symbols': [], 'user_mentions': [], 'urls': [{'url': 'https://t.co/ap48DMLoBI', 'expanded_url': 'https://twitter.com/i/web/status/1015781313431900162', 'display_url': 'twitter.com/i/web/status/1…', 'indices': [117, 140]}]}, 'metadata': {'iso_language_code': 'es', 'result_type': 'recent'}, 'source': '<a href=\"http://twitter.com\" rel=\"nofollow\">Twitter Web Client</a>', 'in_reply_to_status_id': None, 'in_reply_to_status_id_str': None, 'in_reply_to_user_id': None, 'in_reply_to_user_id_str': None, 'in_reply_to_screen_name': None, 'user': {'id': 986049831205470209, 'id_str': '986049831205470209', 'name': '~rinnielin~❁', 'screen_name': 'gfriendmysun', 'location': '💫 linnु account', 'description': ':¨·.·¨:                                                       \\n                        `·..여자친구 *ೃ༄ #Buddy', 'url': 'https://t.co/9Mlav7M4Rf', 'entities': {'url': {'urls': [{'url': 'https://t.co/9Mlav7M4Rf', 'expanded_url': 'https://twitter.com/jinmysunshine12?s=09', 'display_url': 'twitter.com/jinmysunshine1…', 'indices': [0, 23]}]}, 'description': {'urls': []}}, 'protected': False, 'followers_count': 11, 'friends_count': 18, 'listed_count': 0, 'created_at': 'Tue Apr 17 01:12:54 +0000 2018', 'favourites_count': 110, 'utc_offset': None, 'time_zone': None, 'geo_enabled': False, 'verified': False, 'statuses_count': 299, 'lang': 'es', 'contributors_enabled': False, 'is_translator': False, 'is_translation_enabled': False, 'profile_background_color': 'F5F8FA', 'profile_background_image_url': None, 'profile_background_image_url_https': None, 'profile_background_tile': False, 'profile_image_url': 'http://pbs.twimg.com/profile_images/986057383364276224/Kr_36ZWQ_normal.jpg', 'profile_image_url_https': 'https://pbs.twimg.com/profile_images/986057383364276224/Kr_36ZWQ_normal.jpg', 'profile_banner_url': 'https://pbs.twimg.com/profile_banners/986049831205470209/1523929037', 'profile_link_color': '1DA1F2', 'profile_sidebar_border_color': 'C0DEED', 'profile_sidebar_fill_color': 'DDEEF6', 'profile_text_color': '333333', 'profile_use_background_image': True, 'has_extended_profile': True, 'default_profile': True, 'default_profile_image': False, 'following': False, 'follow_request_sent': False, 'notifications': False, 'translator_type': 'none'}, 'geo': None, 'coordinates': None, 'place': None, 'contributors': None, 'is_quote_status': False, 'retweet_count': 1, 'favorite_count': 0, 'favorited': False, 'retweeted': False, 'lang': 'es'}, 'is_quote_status': False, 'retweet_count': 1, 'favorite_count': 0, 'favorited': False, 'retweeted': False, 'lang': 'es'}, {'created_at': 'Sun Jul 08 02:15:12 +0000 2018', 'id': 1015781313431900162, 'id_str': '1015781313431900162', 'text': '27. Es raro para mi ver a mis hijas con tantos tintes de colores de cabello, porque siempre se los dejaban al natur… https://t.co/ap48DMLoBI', 'truncated': True, 'entities': {'hashtags': [], 'symbols': [], 'user_mentions': [], 'urls': [{'url': 'https://t.co/ap48DMLoBI', 'expanded_url': 'https://twitter.com/i/web/status/1015781313431900162', 'display_url': 'twitter.com/i/web/status/1…', 'indices': [117, 140]}]}, 'metadata': {'iso_language_code': 'es', 'result_type': 'recent'}, 'source': '<a href=\"http://twitter.com\" rel=\"nofollow\">Twitter Web Client</a>', 'in_reply_to_status_id': None, 'in_reply_to_status_id_str': None, 'in_reply_to_user_id': None, 'in_reply_to_user_id_str': None, 'in_reply_to_screen_name': None, 'user': {'id': 986049831205470209, 'id_str': '986049831205470209', 'name': '~rinnielin~❁', 'screen_name': 'gfriendmysun', 'location': '💫 linnु account', 'description': ':¨·.·¨:                                                       \\n                        `·..여자친구 *ೃ༄ #Buddy', 'url': 'https://t.co/9Mlav7M4Rf', 'entities': {'url': {'urls': [{'url': 'https://t.co/9Mlav7M4Rf', 'expanded_url': 'https://twitter.com/jinmysunshine12?s=09', 'display_url': 'twitter.com/jinmysunshine1…', 'indices': [0, 23]}]}, 'description': {'urls': []}}, 'protected': False, 'followers_count': 11, 'friends_count': 18, 'listed_count': 0, 'created_at': 'Tue Apr 17 01:12:54 +0000 2018', 'favourites_count': 110, 'utc_offset': None, 'time_zone': None, 'geo_enabled': False, 'verified': False, 'statuses_count': 299, 'lang': 'es', 'contributors_enabled': False, 'is_translator': False, 'is_translation_enabled': False, 'profile_background_color': 'F5F8FA', 'profile_background_image_url': None, 'profile_background_image_url_https': None, 'profile_background_tile': False, 'profile_image_url': 'http://pbs.twimg.com/profile_images/986057383364276224/Kr_36ZWQ_normal.jpg', 'profile_image_url_https': 'https://pbs.twimg.com/profile_images/986057383364276224/Kr_36ZWQ_normal.jpg', 'profile_banner_url': 'https://pbs.twimg.com/profile_banners/986049831205470209/1523929037', 'profile_link_color': '1DA1F2', 'profile_sidebar_border_color': 'C0DEED', 'profile_sidebar_fill_color': 'DDEEF6', 'profile_text_color': '333333', 'profile_use_background_image': True, 'has_extended_profile': True, 'default_profile': True, 'default_profile_image': False, 'following': False, 'follow_request_sent': False, 'notifications': False, 'translator_type': 'none'}, 'geo': None, 'coordinates': None, 'place': None, 'contributors': None, 'is_quote_status': False, 'retweet_count': 1, 'favorite_count': 0, 'favorited': False, 'retweeted': False, 'lang': 'es'}, {'created_at': 'Sun Jul 08 01:56:44 +0000 2018', 'id': 1015776668831473670, 'id_str': '1015776668831473670', 'text': 'RT @SofiaBolado12: #Gfriend\\n#여자친구 \\n#GFRIENDComeback\\n#Summer_Mini_Album \\n#MTV\\n#MTVAwards\\n@GFRDofficial\\n@GFRDofficialJP https://t.co/Wffx11FM…', 'truncated': False, 'entities': {'hashtags': [{'text': 'Gfriend', 'indices': [19, 27]}, {'text': '여자친구', 'indices': [28, 33]}, {'text': 'GFRIENDComeback', 'indices': [35, 51]}, {'text': 'Summer_Mini_Album', 'indices': [52, 70]}, {'text': 'MTV', 'indices': [72, 76]}, {'text': 'MTVAwards', 'indices': [77, 87]}], 'symbols': [], 'user_mentions': [{'screen_name': 'SofiaBolado12', 'name': 'Sofia Bolado', 'id': 819952707507277824, 'id_str': '819952707507277824', 'indices': [3, 17]}, {'screen_name': 'GFRDofficial', 'name': '여자친구 GFRIEND', 'id': 2258740268, 'id_str': '2258740268', 'indices': [88, 101]}, {'screen_name': 'GFRDofficialJP', 'name': 'GFRIEND JAPAN OFFICIAL', 'id': 857867656296148992, 'id_str': '857867656296148992', 'indices': [102, 117]}], 'urls': []}, 'metadata': {'iso_language_code': 'und', 'result_type': 'recent'}, 'source': '<a href=\"http://twitter.com/download/android\" rel=\"nofollow\">Twitter for Android</a>', 'in_reply_to_status_id': None, 'in_reply_to_status_id_str': None, 'in_reply_to_user_id': None, 'in_reply_to_user_id_str': None, 'in_reply_to_screen_name': None, 'user': {'id': 844948448751173632, 'id_str': '844948448751173632', 'name': 'Luv_YuZuNa_GF', 'screen_name': 'Yuju04Eunha30', 'location': '대한민국', 'description': '...', 'url': None, 'entities': {'description': {'urls': []}}, 'protected': False, 'followers_count': 225, 'friends_count': 234, 'listed_count': 1, 'created_at': 'Thu Mar 23 16:26:23 +0000 2017', 'favourites_count': 82234, 'utc_offset': None, 'time_zone': None, 'geo_enabled': False, 'verified': False, 'statuses_count': 80100, 'lang': 'ko', 'contributors_enabled': False, 'is_translator': False, 'is_translation_enabled': False, 'profile_background_color': 'F5F8FA', 'profile_background_image_url': None, 'profile_background_image_url_https': None, 'profile_background_tile': False, 'profile_image_url': 'http://pbs.twimg.com/profile_images/1015151581715681280/D-0I1bwZ_normal.jpg', 'profile_image_url_https': 'https://pbs.twimg.com/profile_images/1015151581715681280/D-0I1bwZ_normal.jpg', 'profile_banner_url': 'https://pbs.twimg.com/profile_banners/844948448751173632/1490287046', 'profile_link_color': '1DA1F2', 'profile_sidebar_border_color': 'C0DEED', 'profile_sidebar_fill_color': 'DDEEF6', 'profile_text_color': '333333', 'profile_use_background_image': True, 'has_extended_profile': True, 'default_profile': True, 'default_profile_image': False, 'following': False, 'follow_request_sent': False, 'notifications': False, 'translator_type': 'none'}, 'geo': None, 'coordinates': None, 'place': None, 'contributors': None, 'retweeted_status': {'created_at': 'Wed Jul 04 17:55:33 +0000 2018', 'id': 1014568411064659969, 'id_str': '1014568411064659969', 'text': '#Gfriend\\n#여자친구 \\n#GFRIENDComeback\\n#Summer_Mini_Album \\n#MTV\\n#MTVAwards\\n@GFRDofficial\\n@GFRDofficialJP https://t.co/Wffx11FMNW', 'truncated': False, 'entities': {'hashtags': [{'text': 'Gfriend', 'indices': [0, 8]}, {'text': '여자친구', 'indices': [9, 14]}, {'text': 'GFRIENDComeback', 'indices': [16, 32]}, {'text': 'Summer_Mini_Album', 'indices': [33, 51]}, {'text': 'MTV', 'indices': [53, 57]}, {'text': 'MTVAwards', 'indices': [58, 68]}], 'symbols': [], 'user_mentions': [{'screen_name': 'GFRDofficial', 'name': '여자친구 GFRIEND', 'id': 2258740268, 'id_str': '2258740268', 'indices': [69, 82]}, {'screen_name': 'GFRDofficialJP', 'name': 'GFRIEND JAPAN OFFICIAL', 'id': 857867656296148992, 'id_str': '857867656296148992', 'indices': [83, 98]}], 'urls': [], 'media': [{'id': 1014568403149807616, 'id_str': '1014568403149807616', 'indices': [99, 122], 'media_url': 'http://pbs.twimg.com/media/DhR4llYUYAAack_.jpg', 'media_url_https': 'https://pbs.twimg.com/media/DhR4llYUYAAack_.jpg', 'url': 'https://t.co/Wffx11FMNW', 'display_url': 'pic.twitter.com/Wffx11FMNW', 'expanded_url': 'https://twitter.com/SofiaBolado12/status/1014568411064659969/photo/1', 'type': 'photo', 'sizes': {'thumb': {'w': 150, 'h': 150, 'resize': 'crop'}, 'small': {'w': 680, 'h': 511, 'resize': 'fit'}, 'large': {'w': 800, 'h': 601, 'resize': 'fit'}, 'medium': {'w': 800, 'h': 601, 'resize': 'fit'}}}]}, 'extended_entities': {'media': [{'id': 1014568403149807616, 'id_str': '1014568403149807616', 'indices': [99, 122], 'media_url': 'http://pbs.twimg.com/media/DhR4llYUYAAack_.jpg', 'media_url_https': 'https://pbs.twimg.com/media/DhR4llYUYAAack_.jpg', 'url': 'https://t.co/Wffx11FMNW', 'display_url': 'pic.twitter.com/Wffx11FMNW', 'expanded_url': 'https://twitter.com/SofiaBolado12/status/1014568411064659969/photo/1', 'type': 'photo', 'sizes': {'thumb': {'w': 150, 'h': 150, 'resize': 'crop'}, 'small': {'w': 680, 'h': 511, 'resize': 'fit'}, 'large': {'w': 800, 'h': 601, 'resize': 'fit'}, 'medium': {'w': 800, 'h': 601, 'resize': 'fit'}}}]}, 'metadata': {'iso_language_code': 'und', 'result_type': 'recent'}, 'source': '<a href=\"http://twitter.com/download/android\" rel=\"nofollow\">Twitter for Android</a>', 'in_reply_to_status_id': None, 'in_reply_to_status_id_str': None, 'in_reply_to_user_id': None, 'in_reply_to_user_id_str': None, 'in_reply_to_screen_name': None, 'user': {'id': 819952707507277824, 'id_str': '819952707507277824', 'name': 'Sofia Bolado', 'screen_name': 'SofiaBolado12', 'location': '', 'description': '', 'url': None, 'entities': {'description': {'urls': []}}, 'protected': False, 'followers_count': 33, 'friends_count': 221, 'listed_count': 0, 'created_at': 'Fri Jan 13 17:02:14 +0000 2017', 'favourites_count': 909, 'utc_offset': None, 'time_zone': None, 'geo_enabled': False, 'verified': False, 'statuses_count': 693, 'lang': 'es', 'contributors_enabled': False, 'is_translator': False, 'is_translation_enabled': False, 'profile_background_color': 'F5F8FA', 'profile_background_image_url': None, 'profile_background_image_url_https': None, 'profile_background_tile': False, 'profile_image_url': 'http://pbs.twimg.com/profile_images/1012505622561148928/c3jidFMo_normal.jpg', 'profile_image_url_https': 'https://pbs.twimg.com/profile_images/1012505622561148928/c3jidFMo_normal.jpg', 'profile_banner_url': 'https://pbs.twimg.com/profile_banners/819952707507277824/1530235127', 'profile_link_color': '1DA1F2', 'profile_sidebar_border_color': 'C0DEED', 'profile_sidebar_fill_color': 'DDEEF6', 'profile_text_color': '333333', 'profile_use_background_image': True, 'has_extended_profile': True, 'default_profile': True, 'default_profile_image': False, 'following': False, 'follow_request_sent': False, 'notifications': False, 'translator_type': 'none'}, 'geo': None, 'coordinates': None, 'place': None, 'contributors': None, 'is_quote_status': False, 'retweet_count': 7, 'favorite_count': 10, 'favorited': False, 'retweeted': False, 'possibly_sensitive': False, 'lang': 'und'}, 'is_quote_status': False, 'retweet_count': 7, 'favorite_count': 0, 'favorited': False, 'retweeted': False, 'lang': 'und'}, {'created_at': 'Sun Jul 08 01:53:45 +0000 2018', 'id': 1015775915186556928, 'id_str': '1015775915186556928', 'text': 'RT @getFANDOM: Chris Pratt with all of the wisdom #MTVAwards https://t.co/eu5cXU7WcQ', 'truncated': False, 'entities': {'hashtags': [{'text': 'MTVAwards', 'indices': [50, 60]}], 'symbols': [], 'user_mentions': [{'screen_name': 'getFANDOM', 'name': 'FANDOM', 'id': 1332121, 'id_str': '1332121', 'indices': [3, 13]}], 'urls': [], 'media': [{'id': 1008868422107779072, 'id_str': '1008868422107779072', 'indices': [61, 84], 'media_url': 'http://pbs.twimg.com/media/DgBWDh_XUAAn2_I.jpg', 'media_url_https': 'https://pbs.twimg.com/media/DgBWDh_XUAAn2_I.jpg', 'url': 'https://t.co/eu5cXU7WcQ', 'display_url': 'pic.twitter.com/eu5cXU7WcQ', 'expanded_url': 'https://twitter.com/MTV/status/1008902302097436672/video/1', 'type': 'photo', 'sizes': {'thumb': {'w': 150, 'h': 150, 'resize': 'crop'}, 'large': {'w': 1084, 'h': 492, 'resize': 'fit'}, 'small': {'w': 680, 'h': 309, 'resize': 'fit'}, 'medium': {'w': 1084, 'h': 492, 'resize': 'fit'}}, 'source_status_id': 1008902302097436672, 'source_status_id_str': '1008902302097436672', 'source_user_id': 2367911, 'source_user_id_str': '2367911'}]}, 'extended_entities': {'media': [{'id': 1008868422107779072, 'id_str': '1008868422107779072', 'indices': [61, 84], 'media_url': 'http://pbs.twimg.com/media/DgBWDh_XUAAn2_I.jpg', 'media_url_https': 'https://pbs.twimg.com/media/DgBWDh_XUAAn2_I.jpg', 'url': 'https://t.co/eu5cXU7WcQ', 'display_url': 'pic.twitter.com/eu5cXU7WcQ', 'expanded_url': 'https://twitter.com/MTV/status/1008902302097436672/video/1', 'type': 'video', 'sizes': {'thumb': {'w': 150, 'h': 150, 'resize': 'crop'}, 'large': {'w': 1084, 'h': 492, 'resize': 'fit'}, 'small': {'w': 680, 'h': 309, 'resize': 'fit'}, 'medium': {'w': 1084, 'h': 492, 'resize': 'fit'}}, 'source_status_id': 1008902302097436672, 'source_status_id_str': '1008902302097436672', 'source_user_id': 2367911, 'source_user_id_str': '2367911', 'video_info': {'aspect_ratio': [16, 9], 'duration_millis': 235535, 'variants': [{'bitrate': 832000, 'content_type': 'video/mp4', 'url': 'https://video.twimg.com/amplify_video/1008868422107779072/vid/640x360/-8cVDNRuWyjelH54.mp4?tag=2'}, {'bitrate': 320000, 'content_type': 'video/mp4', 'url': 'https://video.twimg.com/amplify_video/1008868422107779072/vid/320x180/VpSy7eqfg32qJ69R.mp4?tag=2'}, {'content_type': 'application/x-mpegURL', 'url': 'https://video.twimg.com/amplify_video/1008868422107779072/pl/ZNqT_Y8HZXK4Smbp.m3u8?tag=2'}, {'bitrate': 2176000, 'content_type': 'video/mp4', 'url': 'https://video.twimg.com/amplify_video/1008868422107779072/vid/1280x720/aZsJTLefMak69Slw.mp4?tag=2'}]}, 'additional_media_info': {'title': '', 'description': '', 'embeddable': True, 'monetizable': True, 'source_user': {'id': 2367911, 'id_str': '2367911', 'name': 'MTV', 'screen_name': 'MTV', 'location': 'NYC', 'description': 'snapchat/musical.ly/everything: mtv', 'url': 'https://t.co/yynias9QDZ', 'entities': {'url': {'urls': [{'url': 'https://t.co/yynias9QDZ', 'expanded_url': 'http://mtv.com', 'display_url': 'mtv.com', 'indices': [0, 23]}]}, 'description': {'urls': []}}, 'protected': False, 'followers_count': 16017954, 'friends_count': 32149, 'listed_count': 30798, 'created_at': 'Mon Mar 26 22:30:49 +0000 2007', 'favourites_count': 18215, 'utc_offset': None, 'time_zone': None, 'geo_enabled': False, 'verified': True, 'statuses_count': 260275, 'lang': 'en', 'contributors_enabled': False, 'is_translator': False, 'is_translation_enabled': True, 'profile_background_color': '131516', 'profile_background_image_url': 'http://abs.twimg.com/images/themes/theme14/bg.gif', 'profile_background_image_url_https': 'https://abs.twimg.com/images/themes/theme14/bg.gif', 'profile_background_tile': True, 'profile_image_url': 'http://pbs.twimg.com/profile_images/1012520688220073984/Q0ecyDwX_normal.jpg', 'profile_image_url_https': 'https://pbs.twimg.com/profile_images/1012520688220073984/Q0ecyDwX_normal.jpg', 'profile_banner_url': 'https://pbs.twimg.com/profile_banners/2367911/1530238693', 'profile_link_color': '009999', 'profile_sidebar_border_color': 'FFFFFF', 'profile_sidebar_fill_color': 'EFEFEF', 'profile_text_color': '333333', 'profile_use_background_image': True, 'has_extended_profile': False, 'default_profile': False, 'default_profile_image': False, 'following': False, 'follow_request_sent': False, 'notifications': False, 'translator_type': 'regular'}}}]}, 'metadata': {'iso_language_code': 'en', 'result_type': 'recent'}, 'source': '<a href=\"http://twitter.com/download/iphone\" rel=\"nofollow\">Twitter for iPhone</a>', 'in_reply_to_status_id': None, 'in_reply_to_status_id_str': None, 'in_reply_to_user_id': None, 'in_reply_to_user_id_str': None, 'in_reply_to_screen_name': None, 'user': {'id': 908111917767589889, 'id_str': '908111917767589889', 'name': 'albany martin', 'screen_name': 'albeybrooke', 'location': '', 'description': 'sophomore at DHS ❤️ Texas thespian & 2018 STO :)', 'url': None, 'entities': {'description': {'urls': []}}, 'protected': False, 'followers_count': 89, 'friends_count': 238, 'listed_count': 0, 'created_at': 'Wed Sep 13 23:35:27 +0000 2017', 'favourites_count': 3434, 'utc_offset': None, 'time_zone': None, 'geo_enabled': False, 'verified': False, 'statuses_count': 269, 'lang': 'en', 'contributors_enabled': False, 'is_translator': False, 'is_translation_enabled': False, 'profile_background_color': 'F5F8FA', 'profile_background_image_url': None, 'profile_background_image_url_https': None, 'profile_background_tile': False, 'profile_image_url': 'http://pbs.twimg.com/profile_images/985665939378188289/uhGJs5_L_normal.jpg', 'profile_image_url_https': 'https://pbs.twimg.com/profile_images/985665939378188289/uhGJs5_L_normal.jpg', 'profile_banner_url': 'https://pbs.twimg.com/profile_banners/908111917767589889/1523836048', 'profile_link_color': '1DA1F2', 'profile_sidebar_border_color': 'C0DEED', 'profile_sidebar_fill_color': 'DDEEF6', 'profile_text_color': '333333', 'profile_use_background_image': True, 'has_extended_profile': True, 'default_profile': True, 'default_profile_image': False, 'following': False, 'follow_request_sent': False, 'notifications': False, 'translator_type': 'none'}, 'geo': None, 'coordinates': None, 'place': None, 'contributors': None, 'retweeted_status': {'created_at': 'Tue Jun 19 02:42:31 +0000 2018', 'id': 1008902822098681859, 'id_str': '1008902822098681859', 'text': 'Chris Pratt with all of the wisdom #MTVAwards https://t.co/eu5cXU7WcQ', 'truncated': False, 'entities': {'hashtags': [{'text': 'MTVAwards', 'indices': [35, 45]}], 'symbols': [], 'user_mentions': [], 'urls': [], 'media': [{'id': 1008868422107779072, 'id_str': '1008868422107779072', 'indices': [46, 69], 'media_url': 'http://pbs.twimg.com/media/DgBWDh_XUAAn2_I.jpg', 'media_url_https': 'https://pbs.twimg.com/media/DgBWDh_XUAAn2_I.jpg', 'url': 'https://t.co/eu5cXU7WcQ', 'display_url': 'pic.twitter.com/eu5cXU7WcQ', 'expanded_url': 'https://twitter.com/MTV/status/1008902302097436672/video/1', 'type': 'photo', 'sizes': {'thumb': {'w': 150, 'h': 150, 'resize': 'crop'}, 'large': {'w': 1084, 'h': 492, 'resize': 'fit'}, 'small': {'w': 680, 'h': 309, 'resize': 'fit'}, 'medium': {'w': 1084, 'h': 492, 'resize': 'fit'}}, 'source_status_id': 1008902302097436672, 'source_status_id_str': '1008902302097436672', 'source_user_id': 2367911, 'source_user_id_str': '2367911'}]}, 'extended_entities': {'media': [{'id': 1008868422107779072, 'id_str': '1008868422107779072', 'indices': [46, 69], 'media_url': 'http://pbs.twimg.com/media/DgBWDh_XUAAn2_I.jpg', 'media_url_https': 'https://pbs.twimg.com/media/DgBWDh_XUAAn2_I.jpg', 'url': 'https://t.co/eu5cXU7WcQ', 'display_url': 'pic.twitter.com/eu5cXU7WcQ', 'expanded_url': 'https://twitter.com/MTV/status/1008902302097436672/video/1', 'type': 'video', 'sizes': {'thumb': {'w': 150, 'h': 150, 'resize': 'crop'}, 'large': {'w': 1084, 'h': 492, 'resize': 'fit'}, 'small': {'w': 680, 'h': 309, 'resize': 'fit'}, 'medium': {'w': 1084, 'h': 492, 'resize': 'fit'}}, 'source_status_id': 1008902302097436672, 'source_status_id_str': '1008902302097436672', 'source_user_id': 2367911, 'source_user_id_str': '2367911', 'video_info': {'aspect_ratio': [16, 9], 'duration_millis': 235535, 'variants': [{'bitrate': 832000, 'content_type': 'video/mp4', 'url': 'https://video.twimg.com/amplify_video/1008868422107779072/vid/640x360/-8cVDNRuWyjelH54.mp4?tag=2'}, {'bitrate': 320000, 'content_type': 'video/mp4', 'url': 'https://video.twimg.com/amplify_video/1008868422107779072/vid/320x180/VpSy7eqfg32qJ69R.mp4?tag=2'}, {'content_type': 'application/x-mpegURL', 'url': 'https://video.twimg.com/amplify_video/1008868422107779072/pl/ZNqT_Y8HZXK4Smbp.m3u8?tag=2'}, {'bitrate': 2176000, 'content_type': 'video/mp4', 'url': 'https://video.twimg.com/amplify_video/1008868422107779072/vid/1280x720/aZsJTLefMak69Slw.mp4?tag=2'}]}, 'additional_media_info': {'title': '', 'description': '', 'embeddable': True, 'monetizable': True, 'source_user': {'id': 2367911, 'id_str': '2367911', 'name': 'MTV', 'screen_name': 'MTV', 'location': 'NYC', 'description': 'snapchat/musical.ly/everything: mtv', 'url': 'https://t.co/yynias9QDZ', 'entities': {'url': {'urls': [{'url': 'https://t.co/yynias9QDZ', 'expanded_url': 'http://mtv.com', 'display_url': 'mtv.com', 'indices': [0, 23]}]}, 'description': {'urls': []}}, 'protected': False, 'followers_count': 16017954, 'friends_count': 32149, 'listed_count': 30798, 'created_at': 'Mon Mar 26 22:30:49 +0000 2007', 'favourites_count': 18215, 'utc_offset': None, 'time_zone': None, 'geo_enabled': False, 'verified': True, 'statuses_count': 260275, 'lang': 'en', 'contributors_enabled': False, 'is_translator': False, 'is_translation_enabled': True, 'profile_background_color': '131516', 'profile_background_image_url': 'http://abs.twimg.com/images/themes/theme14/bg.gif', 'profile_background_image_url_https': 'https://abs.twimg.com/images/themes/theme14/bg.gif', 'profile_background_tile': True, 'profile_image_url': 'http://pbs.twimg.com/profile_images/1012520688220073984/Q0ecyDwX_normal.jpg', 'profile_image_url_https': 'https://pbs.twimg.com/profile_images/1012520688220073984/Q0ecyDwX_normal.jpg', 'profile_banner_url': 'https://pbs.twimg.com/profile_banners/2367911/1530238693', 'profile_link_color': '009999', 'profile_sidebar_border_color': 'FFFFFF', 'profile_sidebar_fill_color': 'EFEFEF', 'profile_text_color': '333333', 'profile_use_background_image': True, 'has_extended_profile': False, 'default_profile': False, 'default_profile_image': False, 'following': False, 'follow_request_sent': False, 'notifications': False, 'translator_type': 'regular'}}}]}, 'metadata': {'iso_language_code': 'en', 'result_type': 'recent'}, 'source': '<a href=\"http://twitter.com/download/iphone\" rel=\"nofollow\">Twitter for iPhone</a>', 'in_reply_to_status_id': None, 'in_reply_to_status_id_str': None, 'in_reply_to_user_id': None, 'in_reply_to_user_id_str': None, 'in_reply_to_screen_name': None, 'user': {'id': 1332121, 'id_str': '1332121', 'name': 'FANDOM', 'screen_name': 'getFANDOM', 'location': 'San Francisco, CA', 'description': 'The best in Movies, TV, and Video Games. Submit your clips/art for a chance to be featured.', 'url': 'https://t.co/qfXM7berEq', 'entities': {'url': {'urls': [{'url': 'https://t.co/qfXM7berEq', 'expanded_url': 'http://FANDOM.com', 'display_url': 'FANDOM.com', 'indices': [0, 23]}]}, 'description': {'urls': []}}, 'protected': False, 'followers_count': 493796, 'friends_count': 49786, 'listed_count': 677, 'created_at': 'Sat Mar 17 03:28:55 +0000 2007', 'favourites_count': 7001, 'utc_offset': None, 'time_zone': None, 'geo_enabled': True, 'verified': True, 'statuses_count': 26184, 'lang': 'en', 'contributors_enabled': False, 'is_translator': False, 'is_translation_enabled': False, 'profile_background_color': 'D5DADF', 'profile_background_image_url': 'http://abs.twimg.com/images/themes/theme6/bg.gif', 'profile_background_image_url_https': 'https://abs.twimg.com/images/themes/theme6/bg.gif', 'profile_background_tile': False, 'profile_image_url': 'http://pbs.twimg.com/profile_images/908443301816057857/7Zigau6U_normal.jpg', 'profile_image_url_https': 'https://pbs.twimg.com/profile_images/908443301816057857/7Zigau6U_normal.jpg', 'profile_banner_url': 'https://pbs.twimg.com/profile_banners/1332121/1526055338', 'profile_link_color': '3572AB', 'profile_sidebar_border_color': 'FFFFFF', 'profile_sidebar_fill_color': 'E7E7E7', 'profile_text_color': '333333', 'profile_use_background_image': True, 'has_extended_profile': False, 'default_profile': False, 'default_profile_image': False, 'following': False, 'follow_request_sent': False, 'notifications': False, 'translator_type': 'none'}, 'geo': None, 'coordinates': None, 'place': None, 'contributors': None, 'is_quote_status': False, 'retweet_count': 14997, 'favorite_count': 32939, 'favorited': False, 'retweeted': False, 'possibly_sensitive': False, 'lang': 'en'}, 'is_quote_status': False, 'retweet_count': 14997, 'favorite_count': 0, 'favorited': False, 'retweeted': False, 'possibly_sensitive': False, 'lang': 'en'}, {'created_at': 'Sun Jul 08 01:53:14 +0000 2018', 'id': 1015775787771940864, 'id_str': '1015775787771940864', 'text': \"RT @MTV: Just when you think @noah_schnapp can't get any cuter... 😭💕 #MTVAwards https://t.co/VbRTyjOvFf\", 'truncated': False, 'entities': {'hashtags': [{'text': 'MTVAwards', 'indices': [69, 79]}], 'symbols': [], 'user_mentions': [{'screen_name': 'MTV', 'name': 'MTV', 'id': 2367911, 'id_str': '2367911', 'indices': [3, 7]}, {'screen_name': 'noah_schnapp', 'name': 'Noah Schnapp', 'id': 754860209877688320, 'id_str': '754860209877688320', 'indices': [29, 42]}], 'urls': [], 'media': [{'id': 1008887548708450304, 'id_str': '1008887548708450304', 'indices': [80, 103], 'media_url': 'http://pbs.twimg.com/media/DgBJ4VcU8AALck7.jpg', 'media_url_https': 'https://pbs.twimg.com/media/DgBJ4VcU8AALck7.jpg', 'url': 'https://t.co/VbRTyjOvFf', 'display_url': 'pic.twitter.com/VbRTyjOvFf', 'expanded_url': 'https://twitter.com/MTV/status/1008887627125125121/photo/1', 'type': 'photo', 'sizes': {'thumb': {'w': 150, 'h': 150, 'resize': 'crop'}, 'small': {'w': 453, 'h': 680, 'resize': 'fit'}, 'medium': {'w': 800, 'h': 1200, 'resize': 'fit'}, 'large': {'w': 1365, 'h': 2048, 'resize': 'fit'}}, 'source_status_id': 1008887627125125121, 'source_status_id_str': '1008887627125125121', 'source_user_id': 2367911, 'source_user_id_str': '2367911'}]}, 'extended_entities': {'media': [{'id': 1008887548708450304, 'id_str': '1008887548708450304', 'indices': [80, 103], 'media_url': 'http://pbs.twimg.com/media/DgBJ4VcU8AALck7.jpg', 'media_url_https': 'https://pbs.twimg.com/media/DgBJ4VcU8AALck7.jpg', 'url': 'https://t.co/VbRTyjOvFf', 'display_url': 'pic.twitter.com/VbRTyjOvFf', 'expanded_url': 'https://twitter.com/MTV/status/1008887627125125121/photo/1', 'type': 'photo', 'sizes': {'thumb': {'w': 150, 'h': 150, 'resize': 'crop'}, 'small': {'w': 453, 'h': 680, 'resize': 'fit'}, 'medium': {'w': 800, 'h': 1200, 'resize': 'fit'}, 'large': {'w': 1365, 'h': 2048, 'resize': 'fit'}}, 'source_status_id': 1008887627125125121, 'source_status_id_str': '1008887627125125121', 'source_user_id': 2367911, 'source_user_id_str': '2367911'}, {'id': 1008887572041383936, 'id_str': '1008887572041383936', 'indices': [80, 103], 'media_url': 'http://pbs.twimg.com/media/DgBJ5sXVQAAY9-Q.jpg', 'media_url_https': 'https://pbs.twimg.com/media/DgBJ5sXVQAAY9-Q.jpg', 'url': 'https://t.co/VbRTyjOvFf', 'display_url': 'pic.twitter.com/VbRTyjOvFf', 'expanded_url': 'https://twitter.com/MTV/status/1008887627125125121/photo/1', 'type': 'photo', 'sizes': {'small': {'w': 453, 'h': 680, 'resize': 'fit'}, 'thumb': {'w': 150, 'h': 150, 'resize': 'crop'}, 'large': {'w': 1365, 'h': 2048, 'resize': 'fit'}, 'medium': {'w': 800, 'h': 1200, 'resize': 'fit'}}, 'source_status_id': 1008887627125125121, 'source_status_id_str': '1008887627125125121', 'source_user_id': 2367911, 'source_user_id_str': '2367911'}, {'id': 1008887591595229184, 'id_str': '1008887591595229184', 'indices': [80, 103], 'media_url': 'http://pbs.twimg.com/media/DgBJ61NVQAAufin.jpg', 'media_url_https': 'https://pbs.twimg.com/media/DgBJ61NVQAAufin.jpg', 'url': 'https://t.co/VbRTyjOvFf', 'display_url': 'pic.twitter.com/VbRTyjOvFf', 'expanded_url': 'https://twitter.com/MTV/status/1008887627125125121/photo/1', 'type': 'photo', 'sizes': {'medium': {'w': 800, 'h': 1200, 'resize': 'fit'}, 'thumb': {'w': 150, 'h': 150, 'resize': 'crop'}, 'large': {'w': 1365, 'h': 2048, 'resize': 'fit'}, 'small': {'w': 453, 'h': 680, 'resize': 'fit'}}, 'source_status_id': 1008887627125125121, 'source_status_id_str': '1008887627125125121', 'source_user_id': 2367911, 'source_user_id_str': '2367911'}]}, 'metadata': {'iso_language_code': 'en', 'result_type': 'recent'}, 'source': '<a href=\"http://twitter.com/download/iphone\" rel=\"nofollow\">Twitter for iPhone</a>', 'in_reply_to_status_id': None, 'in_reply_to_status_id_str': None, 'in_reply_to_user_id': None, 'in_reply_to_user_id_str': None, 'in_reply_to_screen_name': None, 'user': {'id': 2905734488, 'id_str': '2905734488', 'name': 'MALIK MEMES 2019', 'screen_name': 'royalsikko', 'location': 'Athens, GA', 'description': 'CELEBRITY ACCOUNT—half white boy #ladytron @familyguyonfox Malik Green #MUSIC #parody #KingOfNY #KINGOFTHE80S #gothicrock #DISCO #BAUHAUSMEMES', 'url': 'https://t.co/cKvKr1NV1t', 'entities': {'url': {'urls': [{'url': 'https://t.co/cKvKr1NV1t', 'expanded_url': 'https://soundcloud.com/mal-green-2/sets/i-stand-cuntified', 'display_url': 'soundcloud.com/mal-green-2/se…', 'indices': [0, 23]}]}, 'description': {'urls': []}}, 'protected': False, 'followers_count': 542, 'friends_count': 2237, 'listed_count': 453, 'created_at': 'Fri Nov 21 05:06:34 +0000 2014', 'favourites_count': 3277, 'utc_offset': None, 'time_zone': None, 'geo_enabled': True, 'verified': False, 'statuses_count': 23780, 'lang': 'en', 'contributors_enabled': False, 'is_translator': False, 'is_translation_enabled': False, 'profile_background_color': 'C0DEED', 'profile_background_image_url': 'http://abs.twimg.com/images/themes/theme1/bg.png', 'profile_background_image_url_https': 'https://abs.twimg.com/images/themes/theme1/bg.png', 'profile_background_tile': False, 'profile_image_url': 'http://pbs.twimg.com/profile_images/1014309840167034880/PgwkyrWf_normal.jpg', 'profile_image_url_https': 'https://pbs.twimg.com/profile_images/1014309840167034880/PgwkyrWf_normal.jpg', 'profile_banner_url': 'https://pbs.twimg.com/profile_banners/2905734488/1527049205', 'profile_link_color': '1DA1F2', 'profile_sidebar_border_color': 'C0DEED', 'profile_sidebar_fill_color': 'DDEEF6', 'profile_text_color': '333333', 'profile_use_background_image': True, 'has_extended_profile': True, 'default_profile': True, 'default_profile_image': False, 'following': False, 'follow_request_sent': False, 'notifications': False, 'translator_type': 'none'}, 'geo': None, 'coordinates': None, 'place': None, 'contributors': None, 'retweeted_status': {'created_at': 'Tue Jun 19 01:42:09 +0000 2018', 'id': 1008887627125125121, 'id_str': '1008887627125125121', 'text': \"Just when you think @noah_schnapp can't get any cuter... 😭💕 #MTVAwards https://t.co/VbRTyjOvFf\", 'truncated': False, 'entities': {'hashtags': [{'text': 'MTVAwards', 'indices': [60, 70]}], 'symbols': [], 'user_mentions': [{'screen_name': 'noah_schnapp', 'name': 'Noah Schnapp', 'id': 754860209877688320, 'id_str': '754860209877688320', 'indices': [20, 33]}], 'urls': [], 'media': [{'id': 1008887548708450304, 'id_str': '1008887548708450304', 'indices': [71, 94], 'media_url': 'http://pbs.twimg.com/media/DgBJ4VcU8AALck7.jpg', 'media_url_https': 'https://pbs.twimg.com/media/DgBJ4VcU8AALck7.jpg', 'url': 'https://t.co/VbRTyjOvFf', 'display_url': 'pic.twitter.com/VbRTyjOvFf', 'expanded_url': 'https://twitter.com/MTV/status/1008887627125125121/photo/1', 'type': 'photo', 'sizes': {'thumb': {'w': 150, 'h': 150, 'resize': 'crop'}, 'small': {'w': 453, 'h': 680, 'resize': 'fit'}, 'medium': {'w': 800, 'h': 1200, 'resize': 'fit'}, 'large': {'w': 1365, 'h': 2048, 'resize': 'fit'}}}]}, 'extended_entities': {'media': [{'id': 1008887548708450304, 'id_str': '1008887548708450304', 'indices': [71, 94], 'media_url': 'http://pbs.twimg.com/media/DgBJ4VcU8AALck7.jpg', 'media_url_https': 'https://pbs.twimg.com/media/DgBJ4VcU8AALck7.jpg', 'url': 'https://t.co/VbRTyjOvFf', 'display_url': 'pic.twitter.com/VbRTyjOvFf', 'expanded_url': 'https://twitter.com/MTV/status/1008887627125125121/photo/1', 'type': 'photo', 'sizes': {'thumb': {'w': 150, 'h': 150, 'resize': 'crop'}, 'small': {'w': 453, 'h': 680, 'resize': 'fit'}, 'medium': {'w': 800, 'h': 1200, 'resize': 'fit'}, 'large': {'w': 1365, 'h': 2048, 'resize': 'fit'}}}, {'id': 1008887572041383936, 'id_str': '1008887572041383936', 'indices': [71, 94], 'media_url': 'http://pbs.twimg.com/media/DgBJ5sXVQAAY9-Q.jpg', 'media_url_https': 'https://pbs.twimg.com/media/DgBJ5sXVQAAY9-Q.jpg', 'url': 'https://t.co/VbRTyjOvFf', 'display_url': 'pic.twitter.com/VbRTyjOvFf', 'expanded_url': 'https://twitter.com/MTV/status/1008887627125125121/photo/1', 'type': 'photo', 'sizes': {'small': {'w': 453, 'h': 680, 'resize': 'fit'}, 'thumb': {'w': 150, 'h': 150, 'resize': 'crop'}, 'large': {'w': 1365, 'h': 2048, 'resize': 'fit'}, 'medium': {'w': 800, 'h': 1200, 'resize': 'fit'}}}, {'id': 1008887591595229184, 'id_str': '1008887591595229184', 'indices': [71, 94], 'media_url': 'http://pbs.twimg.com/media/DgBJ61NVQAAufin.jpg', 'media_url_https': 'https://pbs.twimg.com/media/DgBJ61NVQAAufin.jpg', 'url': 'https://t.co/VbRTyjOvFf', 'display_url': 'pic.twitter.com/VbRTyjOvFf', 'expanded_url': 'https://twitter.com/MTV/status/1008887627125125121/photo/1', 'type': 'photo', 'sizes': {'medium': {'w': 800, 'h': 1200, 'resize': 'fit'}, 'thumb': {'w': 150, 'h': 150, 'resize': 'crop'}, 'large': {'w': 1365, 'h': 2048, 'resize': 'fit'}, 'small': {'w': 453, 'h': 680, 'resize': 'fit'}}}]}, 'metadata': {'iso_language_code': 'en', 'result_type': 'recent'}, 'source': '<a href=\"http://twitter.com\" rel=\"nofollow\">Twitter Web Client</a>', 'in_reply_to_status_id': None, 'in_reply_to_status_id_str': None, 'in_reply_to_user_id': None, 'in_reply_to_user_id_str': None, 'in_reply_to_screen_name': None, 'user': {'id': 2367911, 'id_str': '2367911', 'name': 'MTV', 'screen_name': 'MTV', 'location': 'NYC', 'description': 'snapchat/musical.ly/everything: mtv', 'url': 'https://t.co/yynias9QDZ', 'entities': {'url': {'urls': [{'url': 'https://t.co/yynias9QDZ', 'expanded_url': 'http://mtv.com', 'display_url': 'mtv.com', 'indices': [0, 23]}]}, 'description': {'urls': []}}, 'protected': False, 'followers_count': 16017954, 'friends_count': 32149, 'listed_count': 30798, 'created_at': 'Mon Mar 26 22:30:49 +0000 2007', 'favourites_count': 18215, 'utc_offset': None, 'time_zone': None, 'geo_enabled': False, 'verified': True, 'statuses_count': 260275, 'lang': 'en', 'contributors_enabled': False, 'is_translator': False, 'is_translation_enabled': True, 'profile_background_color': '131516', 'profile_background_image_url': 'http://abs.twimg.com/images/themes/theme14/bg.gif', 'profile_background_image_url_https': 'https://abs.twimg.com/images/themes/theme14/bg.gif', 'profile_background_tile': True, 'profile_image_url': 'http://pbs.twimg.com/profile_images/1012520688220073984/Q0ecyDwX_normal.jpg', 'profile_image_url_https': 'https://pbs.twimg.com/profile_images/1012520688220073984/Q0ecyDwX_normal.jpg', 'profile_banner_url': 'https://pbs.twimg.com/profile_banners/2367911/1530238693', 'profile_link_color': '009999', 'profile_sidebar_border_color': 'FFFFFF', 'profile_sidebar_fill_color': 'EFEFEF', 'profile_text_color': '333333', 'profile_use_background_image': True, 'has_extended_profile': False, 'default_profile': False, 'default_profile_image': False, 'following': False, 'follow_request_sent': False, 'notifications': False, 'translator_type': 'regular'}, 'geo': None, 'coordinates': None, 'place': None, 'contributors': None, 'is_quote_status': False, 'retweet_count': 3465, 'favorite_count': 19454, 'favorited': False, 'retweeted': False, 'possibly_sensitive': False, 'lang': 'en'}, 'is_quote_status': False, 'retweet_count': 3465, 'favorite_count': 0, 'favorited': False, 'retweeted': False, 'possibly_sensitive': False, 'lang': 'en'}, {'created_at': 'Sun Jul 08 01:52:58 +0000 2018', 'id': 1015775720348504064, 'id_str': '1015775720348504064', 'text': 'RT @MTV: Congrats to @Stranger_Things for winning Best Show at the #MTVAwards❤️ https://t.co/tsZN5ZPMO7', 'truncated': False, 'entities': {'hashtags': [{'text': 'MTVAwards', 'indices': [67, 77]}], 'symbols': [], 'user_mentions': [{'screen_name': 'MTV', 'name': 'MTV', 'id': 2367911, 'id_str': '2367911', 'indices': [3, 7]}, {'screen_name': 'Stranger_Things', 'name': 'Stranger Things', 'id': 3320478908, 'id_str': '3320478908', 'indices': [21, 37]}], 'urls': [], 'media': [{'id': 1008904603071442944, 'id_str': '1008904603071442944', 'indices': [80, 103], 'media_url': 'http://pbs.twimg.com/tweet_video_thumb/DgBZZB5UcAA3WTS.jpg', 'media_url_https': 'https://pbs.twimg.com/tweet_video_thumb/DgBZZB5UcAA3WTS.jpg', 'url': 'https://t.co/tsZN5ZPMO7', 'display_url': 'pic.twitter.com/tsZN5ZPMO7', 'expanded_url': 'https://twitter.com/MTV/status/1008904627771699200/photo/1', 'type': 'photo', 'sizes': {'thumb': {'w': 150, 'h': 150, 'resize': 'crop'}, 'small': {'w': 602, 'h': 300, 'resize': 'fit'}, 'medium': {'w': 602, 'h': 300, 'resize': 'fit'}, 'large': {'w': 602, 'h': 300, 'resize': 'fit'}}, 'source_status_id': 1008904627771699200, 'source_status_id_str': '1008904627771699200', 'source_user_id': 2367911, 'source_user_id_str': '2367911'}]}, 'extended_entities': {'media': [{'id': 1008904603071442944, 'id_str': '1008904603071442944', 'indices': [80, 103], 'media_url': 'http://pbs.twimg.com/tweet_video_thumb/DgBZZB5UcAA3WTS.jpg', 'media_url_https': 'https://pbs.twimg.com/tweet_video_thumb/DgBZZB5UcAA3WTS.jpg', 'url': 'https://t.co/tsZN5ZPMO7', 'display_url': 'pic.twitter.com/tsZN5ZPMO7', 'expanded_url': 'https://twitter.com/MTV/status/1008904627771699200/photo/1', 'type': 'animated_gif', 'sizes': {'thumb': {'w': 150, 'h': 150, 'resize': 'crop'}, 'small': {'w': 602, 'h': 300, 'resize': 'fit'}, 'medium': {'w': 602, 'h': 300, 'resize': 'fit'}, 'large': {'w': 602, 'h': 300, 'resize': 'fit'}}, 'source_status_id': 1008904627771699200, 'source_status_id_str': '1008904627771699200', 'source_user_id': 2367911, 'source_user_id_str': '2367911', 'video_info': {'aspect_ratio': [301, 150], 'variants': [{'bitrate': 0, 'content_type': 'video/mp4', 'url': 'https://video.twimg.com/tweet_video/DgBZZB5UcAA3WTS.mp4'}]}}]}, 'metadata': {'iso_language_code': 'en', 'result_type': 'recent'}, 'source': '<a href=\"http://twitter.com/download/iphone\" rel=\"nofollow\">Twitter for iPhone</a>', 'in_reply_to_status_id': None, 'in_reply_to_status_id_str': None, 'in_reply_to_user_id': None, 'in_reply_to_user_id_str': None, 'in_reply_to_screen_name': None, 'user': {'id': 2905734488, 'id_str': '2905734488', 'name': 'MALIK MEMES 2019', 'screen_name': 'royalsikko', 'location': 'Athens, GA', 'description': 'CELEBRITY ACCOUNT—half white boy #ladytron @familyguyonfox Malik Green #MUSIC #parody #KingOfNY #KINGOFTHE80S #gothicrock #DISCO #BAUHAUSMEMES', 'url': 'https://t.co/cKvKr1NV1t', 'entities': {'url': {'urls': [{'url': 'https://t.co/cKvKr1NV1t', 'expanded_url': 'https://soundcloud.com/mal-green-2/sets/i-stand-cuntified', 'display_url': 'soundcloud.com/mal-green-2/se…', 'indices': [0, 23]}]}, 'description': {'urls': []}}, 'protected': False, 'followers_count': 542, 'friends_count': 2237, 'listed_count': 453, 'created_at': 'Fri Nov 21 05:06:34 +0000 2014', 'favourites_count': 3277, 'utc_offset': None, 'time_zone': None, 'geo_enabled': True, 'verified': False, 'statuses_count': 23780, 'lang': 'en', 'contributors_enabled': False, 'is_translator': False, 'is_translation_enabled': False, 'profile_background_color': 'C0DEED', 'profile_background_image_url': 'http://abs.twimg.com/images/themes/theme1/bg.png', 'profile_background_image_url_https': 'https://abs.twimg.com/images/themes/theme1/bg.png', 'profile_background_tile': False, 'profile_image_url': 'http://pbs.twimg.com/profile_images/1014309840167034880/PgwkyrWf_normal.jpg', 'profile_image_url_https': 'https://pbs.twimg.com/profile_images/1014309840167034880/PgwkyrWf_normal.jpg', 'profile_banner_url': 'https://pbs.twimg.com/profile_banners/2905734488/1527049205', 'profile_link_color': '1DA1F2', 'profile_sidebar_border_color': 'C0DEED', 'profile_sidebar_fill_color': 'DDEEF6', 'profile_text_color': '333333', 'profile_use_background_image': True, 'has_extended_profile': True, 'default_profile': True, 'default_profile_image': False, 'following': False, 'follow_request_sent': False, 'notifications': False, 'translator_type': 'none'}, 'geo': None, 'coordinates': None, 'place': None, 'contributors': None, 'retweeted_status': {'created_at': 'Tue Jun 19 02:49:42 +0000 2018', 'id': 1008904627771699200, 'id_str': '1008904627771699200', 'text': 'Congrats to @Stranger_Things for winning Best Show at the #MTVAwards❤️ https://t.co/tsZN5ZPMO7', 'truncated': False, 'entities': {'hashtags': [{'text': 'MTVAwards', 'indices': [58, 68]}], 'symbols': [], 'user_mentions': [{'screen_name': 'Stranger_Things', 'name': 'Stranger Things', 'id': 3320478908, 'id_str': '3320478908', 'indices': [12, 28]}], 'urls': [], 'media': [{'id': 1008904603071442944, 'id_str': '1008904603071442944', 'indices': [71, 94], 'media_url': 'http://pbs.twimg.com/tweet_video_thumb/DgBZZB5UcAA3WTS.jpg', 'media_url_https': 'https://pbs.twimg.com/tweet_video_thumb/DgBZZB5UcAA3WTS.jpg', 'url': 'https://t.co/tsZN5ZPMO7', 'display_url': 'pic.twitter.com/tsZN5ZPMO7', 'expanded_url': 'https://twitter.com/MTV/status/1008904627771699200/photo/1', 'type': 'photo', 'sizes': {'thumb': {'w': 150, 'h': 150, 'resize': 'crop'}, 'small': {'w': 602, 'h': 300, 'resize': 'fit'}, 'medium': {'w': 602, 'h': 300, 'resize': 'fit'}, 'large': {'w': 602, 'h': 300, 'resize': 'fit'}}}]}, 'extended_entities': {'media': [{'id': 1008904603071442944, 'id_str': '1008904603071442944', 'indices': [71, 94], 'media_url': 'http://pbs.twimg.com/tweet_video_thumb/DgBZZB5UcAA3WTS.jpg', 'media_url_https': 'https://pbs.twimg.com/tweet_video_thumb/DgBZZB5UcAA3WTS.jpg', 'url': 'https://t.co/tsZN5ZPMO7', 'display_url': 'pic.twitter.com/tsZN5ZPMO7', 'expanded_url': 'https://twitter.com/MTV/status/1008904627771699200/photo/1', 'type': 'animated_gif', 'sizes': {'thumb': {'w': 150, 'h': 150, 'resize': 'crop'}, 'small': {'w': 602, 'h': 300, 'resize': 'fit'}, 'medium': {'w': 602, 'h': 300, 'resize': 'fit'}, 'large': {'w': 602, 'h': 300, 'resize': 'fit'}}, 'video_info': {'aspect_ratio': [301, 150], 'variants': [{'bitrate': 0, 'content_type': 'video/mp4', 'url': 'https://video.twimg.com/tweet_video/DgBZZB5UcAA3WTS.mp4'}]}}]}, 'metadata': {'iso_language_code': 'en', 'result_type': 'recent'}, 'source': '<a href=\"http://twitter.com\" rel=\"nofollow\">Twitter Web Client</a>', 'in_reply_to_status_id': None, 'in_reply_to_status_id_str': None, 'in_reply_to_user_id': None, 'in_reply_to_user_id_str': None, 'in_reply_to_screen_name': None, 'user': {'id': 2367911, 'id_str': '2367911', 'name': 'MTV', 'screen_name': 'MTV', 'location': 'NYC', 'description': 'snapchat/musical.ly/everything: mtv', 'url': 'https://t.co/yynias9QDZ', 'entities': {'url': {'urls': [{'url': 'https://t.co/yynias9QDZ', 'expanded_url': 'http://mtv.com', 'display_url': 'mtv.com', 'indices': [0, 23]}]}, 'description': {'urls': []}}, 'protected': False, 'followers_count': 16017954, 'friends_count': 32149, 'listed_count': 30798, 'created_at': 'Mon Mar 26 22:30:49 +0000 2007', 'favourites_count': 18215, 'utc_offset': None, 'time_zone': None, 'geo_enabled': False, 'verified': True, 'statuses_count': 260275, 'lang': 'en', 'contributors_enabled': False, 'is_translator': False, 'is_translation_enabled': True, 'profile_background_color': '131516', 'profile_background_image_url': 'http://abs.twimg.com/images/themes/theme14/bg.gif', 'profile_background_image_url_https': 'https://abs.twimg.com/images/themes/theme14/bg.gif', 'profile_background_tile': True, 'profile_image_url': 'http://pbs.twimg.com/profile_images/1012520688220073984/Q0ecyDwX_normal.jpg', 'profile_image_url_https': 'https://pbs.twimg.com/profile_images/1012520688220073984/Q0ecyDwX_normal.jpg', 'profile_banner_url': 'https://pbs.twimg.com/profile_banners/2367911/1530238693', 'profile_link_color': '009999', 'profile_sidebar_border_color': 'FFFFFF', 'profile_sidebar_fill_color': 'EFEFEF', 'profile_text_color': '333333', 'profile_use_background_image': True, 'has_extended_profile': False, 'default_profile': False, 'default_profile_image': False, 'following': False, 'follow_request_sent': False, 'notifications': False, 'translator_type': 'regular'}, 'geo': None, 'coordinates': None, 'place': None, 'contributors': None, 'is_quote_status': False, 'retweet_count': 2774, 'favorite_count': 11364, 'favorited': False, 'retweeted': False, 'possibly_sensitive': False, 'lang': 'en'}, 'is_quote_status': False, 'retweet_count': 2774, 'favorite_count': 0, 'favorited': False, 'retweeted': False, 'possibly_sensitive': False, 'lang': 'en'}, {'created_at': 'Sun Jul 08 01:51:36 +0000 2018', 'id': 1015775377929703424, 'id_str': '1015775377929703424', 'text': '26. Source Music trama algo aventandonos el cb tan de repente\\n\\n#SummerOfGfriend #SummerOfBuddy #GFriend #여자친구… https://t.co/p2dMLiuWDQ', 'truncated': True, 'entities': {'hashtags': [{'text': 'SummerOfGfriend', 'indices': [63, 79]}, {'text': 'SummerOfBuddy', 'indices': [80, 94]}, {'text': 'GFriend', 'indices': [95, 103]}, {'text': '여자친구', 'indices': [104, 109]}], 'symbols': [], 'user_mentions': [], 'urls': [{'url': 'https://t.co/p2dMLiuWDQ', 'expanded_url': 'https://twitter.com/i/web/status/1015775377929703424', 'display_url': 'twitter.com/i/web/status/1…', 'indices': [111, 134]}]}, 'metadata': {'iso_language_code': 'es', 'result_type': 'recent'}, 'source': '<a href=\"http://twitter.com\" rel=\"nofollow\">Twitter Web Client</a>', 'in_reply_to_status_id': None, 'in_reply_to_status_id_str': None, 'in_reply_to_user_id': None, 'in_reply_to_user_id_str': None, 'in_reply_to_screen_name': None, 'user': {'id': 986049831205470209, 'id_str': '986049831205470209', 'name': '~rinnielin~❁', 'screen_name': 'gfriendmysun', 'location': '💫 linnु account', 'description': ':¨·.·¨:                                                       \\n                        `·..여자친구 *ೃ༄ #Buddy', 'url': 'https://t.co/9Mlav7M4Rf', 'entities': {'url': {'urls': [{'url': 'https://t.co/9Mlav7M4Rf', 'expanded_url': 'https://twitter.com/jinmysunshine12?s=09', 'display_url': 'twitter.com/jinmysunshine1…', 'indices': [0, 23]}]}, 'description': {'urls': []}}, 'protected': False, 'followers_count': 11, 'friends_count': 18, 'listed_count': 0, 'created_at': 'Tue Apr 17 01:12:54 +0000 2018', 'favourites_count': 110, 'utc_offset': None, 'time_zone': None, 'geo_enabled': False, 'verified': False, 'statuses_count': 299, 'lang': 'es', 'contributors_enabled': False, 'is_translator': False, 'is_translation_enabled': False, 'profile_background_color': 'F5F8FA', 'profile_background_image_url': None, 'profile_background_image_url_https': None, 'profile_background_tile': False, 'profile_image_url': 'http://pbs.twimg.com/profile_images/986057383364276224/Kr_36ZWQ_normal.jpg', 'profile_image_url_https': 'https://pbs.twimg.com/profile_images/986057383364276224/Kr_36ZWQ_normal.jpg', 'profile_banner_url': 'https://pbs.twimg.com/profile_banners/986049831205470209/1523929037', 'profile_link_color': '1DA1F2', 'profile_sidebar_border_color': 'C0DEED', 'profile_sidebar_fill_color': 'DDEEF6', 'profile_text_color': '333333', 'profile_use_background_image': True, 'has_extended_profile': True, 'default_profile': True, 'default_profile_image': False, 'following': False, 'follow_request_sent': False, 'notifications': False, 'translator_type': 'none'}, 'geo': None, 'coordinates': None, 'place': None, 'contributors': None, 'is_quote_status': False, 'retweet_count': 0, 'favorite_count': 1, 'favorited': False, 'retweeted': False, 'lang': 'es'}, {'created_at': 'Sun Jul 08 01:49:47 +0000 2018', 'id': 1015774920226328581, 'id_str': '1015774920226328581', 'text': '25.\\n\\n#SummerOfGfriend #SummerOfBuddy #GFriend #여자친구 #GFRIENDComeback #Summer_Mini_Album #MTV #MTVAwards @GFRDofficial @GFRDofficialJP', 'truncated': False, 'entities': {'hashtags': [{'text': 'SummerOfGfriend', 'indices': [5, 21]}, {'text': 'SummerOfBuddy', 'indices': [22, 36]}, {'text': 'GFriend', 'indices': [37, 45]}, {'text': '여자친구', 'indices': [46, 51]}, {'text': 'GFRIENDComeback', 'indices': [52, 68]}, {'text': 'Summer_Mini_Album', 'indices': [69, 87]}, {'text': 'MTV', 'indices': [88, 92]}, {'text': 'MTVAwards', 'indices': [93, 103]}], 'symbols': [], 'user_mentions': [{'screen_name': 'GFRDofficial', 'name': '여자친구 GFRIEND', 'id': 2258740268, 'id_str': '2258740268', 'indices': [104, 117]}, {'screen_name': 'GFRDofficialJP', 'name': 'GFRIEND JAPAN OFFICIAL', 'id': 857867656296148992, 'id_str': '857867656296148992', 'indices': [118, 133]}], 'urls': []}, 'metadata': {'iso_language_code': 'und', 'result_type': 'recent'}, 'source': '<a href=\"http://twitter.com\" rel=\"nofollow\">Twitter Web Client</a>', 'in_reply_to_status_id': None, 'in_reply_to_status_id_str': None, 'in_reply_to_user_id': None, 'in_reply_to_user_id_str': None, 'in_reply_to_screen_name': None, 'user': {'id': 986049831205470209, 'id_str': '986049831205470209', 'name': '~rinnielin~❁', 'screen_name': 'gfriendmysun', 'location': '💫 linnु account', 'description': ':¨·.·¨:                                                       \\n                        `·..여자친구 *ೃ༄ #Buddy', 'url': 'https://t.co/9Mlav7M4Rf', 'entities': {'url': {'urls': [{'url': 'https://t.co/9Mlav7M4Rf', 'expanded_url': 'https://twitter.com/jinmysunshine12?s=09', 'display_url': 'twitter.com/jinmysunshine1…', 'indices': [0, 23]}]}, 'description': {'urls': []}}, 'protected': False, 'followers_count': 11, 'friends_count': 18, 'listed_count': 0, 'created_at': 'Tue Apr 17 01:12:54 +0000 2018', 'favourites_count': 110, 'utc_offset': None, 'time_zone': None, 'geo_enabled': False, 'verified': False, 'statuses_count': 299, 'lang': 'es', 'contributors_enabled': False, 'is_translator': False, 'is_translation_enabled': False, 'profile_background_color': 'F5F8FA', 'profile_background_image_url': None, 'profile_background_image_url_https': None, 'profile_background_tile': False, 'profile_image_url': 'http://pbs.twimg.com/profile_images/986057383364276224/Kr_36ZWQ_normal.jpg', 'profile_image_url_https': 'https://pbs.twimg.com/profile_images/986057383364276224/Kr_36ZWQ_normal.jpg', 'profile_banner_url': 'https://pbs.twimg.com/profile_banners/986049831205470209/1523929037', 'profile_link_color': '1DA1F2', 'profile_sidebar_border_color': 'C0DEED', 'profile_sidebar_fill_color': 'DDEEF6', 'profile_text_color': '333333', 'profile_use_background_image': True, 'has_extended_profile': True, 'default_profile': True, 'default_profile_image': False, 'following': False, 'follow_request_sent': False, 'notifications': False, 'translator_type': 'none'}, 'geo': None, 'coordinates': None, 'place': None, 'contributors': None, 'is_quote_status': False, 'retweet_count': 0, 'favorite_count': 0, 'favorited': False, 'retweeted': False, 'lang': 'und'}, {'created_at': 'Sun Jul 08 01:49:38 +0000 2018', 'id': 1015774881009537024, 'id_str': '1015774881009537024', 'text': '24.\\n#SummerOfGfriend #SummerOfBuddy #GFriend #여자친구 #GFRIENDComeback #Summer_Mini_Album #MTV #MTVAwards @GFRDofficial @GFRDofficialJP', 'truncated': False, 'entities': {'hashtags': [{'text': 'SummerOfGfriend', 'indices': [4, 20]}, {'text': 'SummerOfBuddy', 'indices': [21, 35]}, {'text': 'GFriend', 'indices': [36, 44]}, {'text': '여자친구', 'indices': [45, 50]}, {'text': 'GFRIENDComeback', 'indices': [51, 67]}, {'text': 'Summer_Mini_Album', 'indices': [68, 86]}, {'text': 'MTV', 'indices': [87, 91]}, {'text': 'MTVAwards', 'indices': [92, 102]}], 'symbols': [], 'user_mentions': [{'screen_name': 'GFRDofficial', 'name': '여자친구 GFRIEND', 'id': 2258740268, 'id_str': '2258740268', 'indices': [103, 116]}, {'screen_name': 'GFRDofficialJP', 'name': 'GFRIEND JAPAN OFFICIAL', 'id': 857867656296148992, 'id_str': '857867656296148992', 'indices': [117, 132]}], 'urls': []}, 'metadata': {'iso_language_code': 'und', 'result_type': 'recent'}, 'source': '<a href=\"http://twitter.com\" rel=\"nofollow\">Twitter Web Client</a>', 'in_reply_to_status_id': None, 'in_reply_to_status_id_str': None, 'in_reply_to_user_id': None, 'in_reply_to_user_id_str': None, 'in_reply_to_screen_name': None, 'user': {'id': 986049831205470209, 'id_str': '986049831205470209', 'name': '~rinnielin~❁', 'screen_name': 'gfriendmysun', 'location': '💫 linnु account', 'description': ':¨·.·¨:                                                       \\n                        `·..여자친구 *ೃ༄ #Buddy', 'url': 'https://t.co/9Mlav7M4Rf', 'entities': {'url': {'urls': [{'url': 'https://t.co/9Mlav7M4Rf', 'expanded_url': 'https://twitter.com/jinmysunshine12?s=09', 'display_url': 'twitter.com/jinmysunshine1…', 'indices': [0, 23]}]}, 'description': {'urls': []}}, 'protected': False, 'followers_count': 11, 'friends_count': 18, 'listed_count': 0, 'created_at': 'Tue Apr 17 01:12:54 +0000 2018', 'favourites_count': 110, 'utc_offset': None, 'time_zone': None, 'geo_enabled': False, 'verified': False, 'statuses_count': 299, 'lang': 'es', 'contributors_enabled': False, 'is_translator': False, 'is_translation_enabled': False, 'profile_background_color': 'F5F8FA', 'profile_background_image_url': None, 'profile_background_image_url_https': None, 'profile_background_tile': False, 'profile_image_url': 'http://pbs.twimg.com/profile_images/986057383364276224/Kr_36ZWQ_normal.jpg', 'profile_image_url_https': 'https://pbs.twimg.com/profile_images/986057383364276224/Kr_36ZWQ_normal.jpg', 'profile_banner_url': 'https://pbs.twimg.com/profile_banners/986049831205470209/1523929037', 'profile_link_color': '1DA1F2', 'profile_sidebar_border_color': 'C0DEED', 'profile_sidebar_fill_color': 'DDEEF6', 'profile_text_color': '333333', 'profile_use_background_image': True, 'has_extended_profile': True, 'default_profile': True, 'default_profile_image': False, 'following': False, 'follow_request_sent': False, 'notifications': False, 'translator_type': 'none'}, 'geo': None, 'coordinates': None, 'place': None, 'contributors': None, 'is_quote_status': False, 'retweet_count': 0, 'favorite_count': 0, 'favorited': False, 'retweeted': False, 'lang': 'und'}, {'created_at': 'Sun Jul 08 01:44:32 +0000 2018', 'id': 1015773596306870272, 'id_str': '1015773596306870272', 'text': '23. Yeojachingu \\n\\n#SummerOfGfriend #SummerOfBuddy #GFriend #여자친구 #GFRIENDComeback #Summer_Mini_Album #MTV… https://t.co/XisZKNIazL', 'truncated': True, 'entities': {'hashtags': [{'text': 'SummerOfGfriend', 'indices': [18, 34]}, {'text': 'SummerOfBuddy', 'indices': [35, 49]}, {'text': 'GFriend', 'indices': [50, 58]}, {'text': '여자친구', 'indices': [59, 64]}, {'text': 'GFRIENDComeback', 'indices': [65, 81]}, {'text': 'Summer_Mini_Album', 'indices': [82, 100]}, {'text': 'MTV', 'indices': [101, 105]}], 'symbols': [], 'user_mentions': [], 'urls': [{'url': 'https://t.co/XisZKNIazL', 'expanded_url': 'https://twitter.com/i/web/status/1015773596306870272', 'display_url': 'twitter.com/i/web/status/1…', 'indices': [107, 130]}]}, 'metadata': {'iso_language_code': 'et', 'result_type': 'recent'}, 'source': '<a href=\"http://twitter.com\" rel=\"nofollow\">Twitter Web Client</a>', 'in_reply_to_status_id': None, 'in_reply_to_status_id_str': None, 'in_reply_to_user_id': None, 'in_reply_to_user_id_str': None, 'in_reply_to_screen_name': None, 'user': {'id': 986049831205470209, 'id_str': '986049831205470209', 'name': '~rinnielin~❁', 'screen_name': 'gfriendmysun', 'location': '💫 linnु account', 'description': ':¨·.·¨:                                                       \\n                        `·..여자친구 *ೃ༄ #Buddy', 'url': 'https://t.co/9Mlav7M4Rf', 'entities': {'url': {'urls': [{'url': 'https://t.co/9Mlav7M4Rf', 'expanded_url': 'https://twitter.com/jinmysunshine12?s=09', 'display_url': 'twitter.com/jinmysunshine1…', 'indices': [0, 23]}]}, 'description': {'urls': []}}, 'protected': False, 'followers_count': 11, 'friends_count': 18, 'listed_count': 0, 'created_at': 'Tue Apr 17 01:12:54 +0000 2018', 'favourites_count': 110, 'utc_offset': None, 'time_zone': None, 'geo_enabled': False, 'verified': False, 'statuses_count': 299, 'lang': 'es', 'contributors_enabled': False, 'is_translator': False, 'is_translation_enabled': False, 'profile_background_color': 'F5F8FA', 'profile_background_image_url': None, 'profile_background_image_url_https': None, 'profile_background_tile': False, 'profile_image_url': 'http://pbs.twimg.com/profile_images/986057383364276224/Kr_36ZWQ_normal.jpg', 'profile_image_url_https': 'https://pbs.twimg.com/profile_images/986057383364276224/Kr_36ZWQ_normal.jpg', 'profile_banner_url': 'https://pbs.twimg.com/profile_banners/986049831205470209/1523929037', 'profile_link_color': '1DA1F2', 'profile_sidebar_border_color': 'C0DEED', 'profile_sidebar_fill_color': 'DDEEF6', 'profile_text_color': '333333', 'profile_use_background_image': True, 'has_extended_profile': True, 'default_profile': True, 'default_profile_image': False, 'following': False, 'follow_request_sent': False, 'notifications': False, 'translator_type': 'none'}, 'geo': None, 'coordinates': None, 'place': None, 'contributors': None, 'is_quote_status': False, 'retweet_count': 0, 'favorite_count': 0, 'favorited': False, 'retweeted': False, 'lang': 'et'}, {'created_at': 'Sun Jul 08 01:19:12 +0000 2018', 'id': 1015767220243267584, 'id_str': '1015767220243267584', 'text': 'RT @Gcodedglobal: @ym_lilquez\\n🌐God•Goals•Grind🌐\\nSubscribe link in bio\\nmore\\n#applemusic #spotify #tidal  #complex #xxl #betawards #revolt #m…', 'truncated': False, 'entities': {'hashtags': [{'text': 'applemusic', 'indices': [75, 86]}, {'text': 'spotify', 'indices': [87, 95]}, {'text': 'tidal', 'indices': [96, 102]}, {'text': 'complex', 'indices': [104, 112]}, {'text': 'xxl', 'indices': [113, 117]}, {'text': 'betawards', 'indices': [118, 128]}, {'text': 'revolt', 'indices': [129, 136]}], 'symbols': [], 'user_mentions': [{'screen_name': 'Gcodedglobal', 'name': 'Gcoded Global', 'id': 2839404747, 'id_str': '2839404747', 'indices': [3, 16]}, {'screen_name': 'YM_LilQuez', 'name': 'YMLilQuez®®⚡️', 'id': 261738404, 'id_str': '261738404', 'indices': [18, 29]}], 'urls': []}, 'metadata': {'iso_language_code': 'en', 'result_type': 'recent'}, 'source': '<a href=\"http://twitter.com/download/android\" rel=\"nofollow\">Twitter for Android</a>', 'in_reply_to_status_id': None, 'in_reply_to_status_id_str': None, 'in_reply_to_user_id': None, 'in_reply_to_user_id_str': None, 'in_reply_to_screen_name': None, 'user': {'id': 261738404, 'id_str': '261738404', 'name': 'YMLilQuez®®⚡️', 'screen_name': 'YM_LilQuez', 'location': 'West Side 📛', 'description': '🆕 ALBUM DROPPING IN JULY  COLORFUL !!!!!!🌈🌈🌈', 'url': 'https://t.co/KeCpzavnO8', 'entities': {'url': {'urls': [{'url': 'https://t.co/KeCpzavnO8', 'expanded_url': 'https://soundcloud.com/ym_lilquez/sets/purple-hearts', 'display_url': 'soundcloud.com/ym_lilquez/set…', 'indices': [0, 23]}]}, 'description': {'urls': []}}, 'protected': False, 'followers_count': 2905, 'friends_count': 2131, 'listed_count': 17, 'created_at': 'Sun Mar 06 16:05:22 +0000 2011', 'favourites_count': 2147, 'utc_offset': None, 'time_zone': None, 'geo_enabled': True, 'verified': False, 'statuses_count': 51726, 'lang': 'en', 'contributors_enabled': False, 'is_translator': False, 'is_translation_enabled': False, 'profile_background_color': '000000', 'profile_background_image_url': 'http://abs.twimg.com/images/themes/theme14/bg.gif', 'profile_background_image_url_https': 'https://abs.twimg.com/images/themes/theme14/bg.gif', 'profile_background_tile': True, 'profile_image_url': 'http://pbs.twimg.com/profile_images/1012340661457248256/ynb9V1Y7_normal.jpg', 'profile_image_url_https': 'https://pbs.twimg.com/profile_images/1012340661457248256/ynb9V1Y7_normal.jpg', 'profile_banner_url': 'https://pbs.twimg.com/profile_banners/261738404/1530195795', 'profile_link_color': 'DD2E44', 'profile_sidebar_border_color': '000000', 'profile_sidebar_fill_color': '90A8C0', 'profile_text_color': '483078', 'profile_use_background_image': True, 'has_extended_profile': False, 'default_profile': False, 'default_profile_image': False, 'following': False, 'follow_request_sent': False, 'notifications': False, 'translator_type': 'none'}, 'geo': None, 'coordinates': None, 'place': None, 'contributors': None, 'retweeted_status': {'created_at': 'Thu Jul 05 20:27:47 +0000 2018', 'id': 1014969108335480834, 'id_str': '1014969108335480834', 'text': '@ym_lilquez\\n🌐God•Goals•Grind🌐\\nSubscribe link in bio\\nmore\\n#applemusic #spotify #tidal  #complex #xxl #betawards… https://t.co/xKFaOVZnhr', 'truncated': True, 'entities': {'hashtags': [{'text': 'applemusic', 'indices': [57, 68]}, {'text': 'spotify', 'indices': [69, 77]}, {'text': 'tidal', 'indices': [78, 84]}, {'text': 'complex', 'indices': [86, 94]}, {'text': 'xxl', 'indices': [95, 99]}, {'text': 'betawards', 'indices': [100, 110]}], 'symbols': [], 'user_mentions': [{'screen_name': 'YM_LilQuez', 'name': 'YMLilQuez®®⚡️', 'id': 261738404, 'id_str': '261738404', 'indices': [0, 11]}], 'urls': [{'url': 'https://t.co/xKFaOVZnhr', 'expanded_url': 'https://twitter.com/i/web/status/1014969108335480834', 'display_url': 'twitter.com/i/web/status/1…', 'indices': [112, 135]}]}, 'metadata': {'iso_language_code': 'en', 'result_type': 'recent'}, 'source': '<a href=\"http://instagram.com\" rel=\"nofollow\">Instagram</a>', 'in_reply_to_status_id': None, 'in_reply_to_status_id_str': None, 'in_reply_to_user_id': 261738404, 'in_reply_to_user_id_str': '261738404', 'in_reply_to_screen_name': 'YM_LilQuez', 'user': {'id': 2839404747, 'id_str': '2839404747', 'name': 'Gcoded Global', 'screen_name': 'Gcodedglobal', 'location': 'GLOBAL', 'description': '| RECORD LABEL |    Gcodedglobal@gmail.com', 'url': 'https://t.co/bH2QTneoKb', 'entities': {'url': {'urls': [{'url': 'https://t.co/bH2QTneoKb', 'expanded_url': 'https://gcodedglobal.bandcamp.com/merch', 'display_url': 'gcodedglobal.bandcamp.com/merch', 'indices': [0, 23]}]}, 'description': {'urls': []}}, 'protected': False, 'followers_count': 842, 'friends_count': 25, 'listed_count': 9, 'created_at': 'Tue Oct 21 08:08:53 +0000 2014', 'favourites_count': 2, 'utc_offset': None, 'time_zone': None, 'geo_enabled': False, 'verified': False, 'statuses_count': 2349, 'lang': 'en', 'contributors_enabled': False, 'is_translator': False, 'is_translation_enabled': False, 'profile_background_color': 'C0DEED', 'profile_background_image_url': 'http://abs.twimg.com/images/themes/theme1/bg.png', 'profile_background_image_url_https': 'https://abs.twimg.com/images/themes/theme1/bg.png', 'profile_background_tile': False, 'profile_image_url': 'http://pbs.twimg.com/profile_images/719038250514391040/pzI7WgBh_normal.jpg', 'profile_image_url_https': 'https://pbs.twimg.com/profile_images/719038250514391040/pzI7WgBh_normal.jpg', 'profile_banner_url': 'https://pbs.twimg.com/profile_banners/2839404747/1440731617', 'profile_link_color': '1DA1F2', 'profile_sidebar_border_color': 'C0DEED', 'profile_sidebar_fill_color': 'DDEEF6', 'profile_text_color': '333333', 'profile_use_background_image': True, 'has_extended_profile': False, 'default_profile': True, 'default_profile_image': False, 'following': False, 'follow_request_sent': False, 'notifications': False, 'translator_type': 'none'}, 'geo': None, 'coordinates': None, 'place': None, 'contributors': None, 'is_quote_status': False, 'retweet_count': 2, 'favorite_count': 0, 'favorited': False, 'retweeted': False, 'possibly_sensitive': False, 'lang': 'en'}, 'is_quote_status': False, 'retweet_count': 2, 'favorite_count': 0, 'favorited': False, 'retweeted': False, 'lang': 'en'}, {'created_at': 'Sun Jul 08 01:19:08 +0000 2018', 'id': 1015767205391360002, 'id_str': '1015767205391360002', 'text': 'RT @Gcodedglobal: @ym_lilquez \"Rules\" FT. iamquedakid\\n🌐God•Goals•Grind🌐\\nSubscribe link in bio\\nmore\\n#applemusic #spotify #tidal  #complex #x…', 'truncated': False, 'entities': {'hashtags': [{'text': 'applemusic', 'indices': [99, 110]}, {'text': 'spotify', 'indices': [111, 119]}, {'text': 'tidal', 'indices': [120, 126]}, {'text': 'complex', 'indices': [128, 136]}], 'symbols': [], 'user_mentions': [{'screen_name': 'Gcodedglobal', 'name': 'Gcoded Global', 'id': 2839404747, 'id_str': '2839404747', 'indices': [3, 16]}, {'screen_name': 'YM_LilQuez', 'name': 'YMLilQuez®®⚡️', 'id': 261738404, 'id_str': '261738404', 'indices': [18, 29]}], 'urls': []}, 'metadata': {'iso_language_code': 'en', 'result_type': 'recent'}, 'source': '<a href=\"http://twitter.com/download/android\" rel=\"nofollow\">Twitter for Android</a>', 'in_reply_to_status_id': None, 'in_reply_to_status_id_str': None, 'in_reply_to_user_id': None, 'in_reply_to_user_id_str': None, 'in_reply_to_screen_name': None, 'user': {'id': 261738404, 'id_str': '261738404', 'name': 'YMLilQuez®®⚡️', 'screen_name': 'YM_LilQuez', 'location': 'West Side 📛', 'description': '🆕 ALBUM DROPPING IN JULY  COLORFUL !!!!!!🌈🌈🌈', 'url': 'https://t.co/KeCpzavnO8', 'entities': {'url': {'urls': [{'url': 'https://t.co/KeCpzavnO8', 'expanded_url': 'https://soundcloud.com/ym_lilquez/sets/purple-hearts', 'display_url': 'soundcloud.com/ym_lilquez/set…', 'indices': [0, 23]}]}, 'description': {'urls': []}}, 'protected': False, 'followers_count': 2905, 'friends_count': 2131, 'listed_count': 17, 'created_at': 'Sun Mar 06 16:05:22 +0000 2011', 'favourites_count': 2147, 'utc_offset': None, 'time_zone': None, 'geo_enabled': True, 'verified': False, 'statuses_count': 51726, 'lang': 'en', 'contributors_enabled': False, 'is_translator': False, 'is_translation_enabled': False, 'profile_background_color': '000000', 'profile_background_image_url': 'http://abs.twimg.com/images/themes/theme14/bg.gif', 'profile_background_image_url_https': 'https://abs.twimg.com/images/themes/theme14/bg.gif', 'profile_background_tile': True, 'profile_image_url': 'http://pbs.twimg.com/profile_images/1012340661457248256/ynb9V1Y7_normal.jpg', 'profile_image_url_https': 'https://pbs.twimg.com/profile_images/1012340661457248256/ynb9V1Y7_normal.jpg', 'profile_banner_url': 'https://pbs.twimg.com/profile_banners/261738404/1530195795', 'profile_link_color': 'DD2E44', 'profile_sidebar_border_color': '000000', 'profile_sidebar_fill_color': '90A8C0', 'profile_text_color': '483078', 'profile_use_background_image': True, 'has_extended_profile': False, 'default_profile': False, 'default_profile_image': False, 'following': False, 'follow_request_sent': False, 'notifications': False, 'translator_type': 'none'}, 'geo': None, 'coordinates': None, 'place': None, 'contributors': None, 'retweeted_status': {'created_at': 'Sat Jul 07 14:44:59 +0000 2018', 'id': 1015607616955920384, 'id_str': '1015607616955920384', 'text': '@ym_lilquez \"Rules\" FT. iamquedakid\\n🌐God•Goals•Grind🌐\\nSubscribe link in bio\\nmore\\n#applemusic #spotify #tidal… https://t.co/OEjvjTA7Nh', 'truncated': True, 'entities': {'hashtags': [{'text': 'applemusic', 'indices': [81, 92]}, {'text': 'spotify', 'indices': [93, 101]}, {'text': 'tidal', 'indices': [102, 108]}], 'symbols': [], 'user_mentions': [{'screen_name': 'YM_LilQuez', 'name': 'YMLilQuez®®⚡️', 'id': 261738404, 'id_str': '261738404', 'indices': [0, 11]}], 'urls': [{'url': 'https://t.co/OEjvjTA7Nh', 'expanded_url': 'https://twitter.com/i/web/status/1015607616955920384', 'display_url': 'twitter.com/i/web/status/1…', 'indices': [110, 133]}]}, 'metadata': {'iso_language_code': 'en', 'result_type': 'recent'}, 'source': '<a href=\"http://instagram.com\" rel=\"nofollow\">Instagram</a>', 'in_reply_to_status_id': None, 'in_reply_to_status_id_str': None, 'in_reply_to_user_id': 261738404, 'in_reply_to_user_id_str': '261738404', 'in_reply_to_screen_name': 'YM_LilQuez', 'user': {'id': 2839404747, 'id_str': '2839404747', 'name': 'Gcoded Global', 'screen_name': 'Gcodedglobal', 'location': 'GLOBAL', 'description': '| RECORD LABEL |    Gcodedglobal@gmail.com', 'url': 'https://t.co/bH2QTneoKb', 'entities': {'url': {'urls': [{'url': 'https://t.co/bH2QTneoKb', 'expanded_url': 'https://gcodedglobal.bandcamp.com/merch', 'display_url': 'gcodedglobal.bandcamp.com/merch', 'indices': [0, 23]}]}, 'description': {'urls': []}}, 'protected': False, 'followers_count': 842, 'friends_count': 25, 'listed_count': 9, 'created_at': 'Tue Oct 21 08:08:53 +0000 2014', 'favourites_count': 2, 'utc_offset': None, 'time_zone': None, 'geo_enabled': False, 'verified': False, 'statuses_count': 2349, 'lang': 'en', 'contributors_enabled': False, 'is_translator': False, 'is_translation_enabled': False, 'profile_background_color': 'C0DEED', 'profile_background_image_url': 'http://abs.twimg.com/images/themes/theme1/bg.png', 'profile_background_image_url_https': 'https://abs.twimg.com/images/themes/theme1/bg.png', 'profile_background_tile': False, 'profile_image_url': 'http://pbs.twimg.com/profile_images/719038250514391040/pzI7WgBh_normal.jpg', 'profile_image_url_https': 'https://pbs.twimg.com/profile_images/719038250514391040/pzI7WgBh_normal.jpg', 'profile_banner_url': 'https://pbs.twimg.com/profile_banners/2839404747/1440731617', 'profile_link_color': '1DA1F2', 'profile_sidebar_border_color': 'C0DEED', 'profile_sidebar_fill_color': 'DDEEF6', 'profile_text_color': '333333', 'profile_use_background_image': True, 'has_extended_profile': False, 'default_profile': True, 'default_profile_image': False, 'following': False, 'follow_request_sent': False, 'notifications': False, 'translator_type': 'none'}, 'geo': None, 'coordinates': None, 'place': None, 'contributors': None, 'is_quote_status': False, 'retweet_count': 0, 'favorite_count': 1, 'favorited': False, 'retweeted': False, 'possibly_sensitive': False, 'lang': 'en'}, 'is_quote_status': False, 'retweet_count': 0, 'favorite_count': 0, 'favorited': False, 'retweeted': False, 'lang': 'en'}]\n"
     ]
    }
   ],
   "source": [
    "len(statuses)\n",
    "\n",
    "print(statuses)"
   ]
  },
  {
   "cell_type": "markdown",
   "metadata": {},
   "source": [
    "Twitter often returns duplicate results,we can filter them out checking for duplicte texts:\n"
   ]
  },
  {
   "cell_type": "code",
   "execution_count": 52,
   "metadata": {},
   "outputs": [],
   "source": [
    "all_text=[]\n",
    "filtered_text=[]\n",
    "for s in statuses:\n",
    "    if not s['text'] in all_text:\n",
    "        filtered_text.append(s)\n",
    "        all_text.append(s['text'])\n",
    "statuses=filtered_text"
   ]
  },
  {
   "cell_type": "code",
   "execution_count": 53,
   "metadata": {},
   "outputs": [
    {
     "data": {
      "text/plain": [
       "22"
      ]
     },
     "execution_count": 53,
     "metadata": {},
     "output_type": "execute_result"
    }
   ],
   "source": [
    "len(statuses)"
   ]
  },
  {
   "cell_type": "code",
   "execution_count": 54,
   "metadata": {},
   "outputs": [
    {
     "data": {
      "text/plain": [
       "['36. Tengo miedo de que me cierren la cuenta por spam \\n#SummerOfGfriend #SummerOfBuddy #GFriend #여자친구… https://t.co/bbWEfMVfOq',\n",
       " '35. #SummerOfGfriend #SummerOfBuddy #GFriend #여자친구 #GFRIENDComeback #Summer_Mini_Album #MTV #MTVAwards @GFRDofficial @GFRDofficialJP',\n",
       " '34. \\n#SummerOfGfriend #SummerOfBuddy #GFriend #여자친구 #GFRIENDComeback #Summer_Mini_Album #MTV #MTVAwards @GFRDofficial @GFRDofficialJP',\n",
       " '33. \\n\\n#SummerOfGfriend #SummerOfBuddy #GFriend #여자친구 #GFRIENDComeback #Summer_Mini_Album #MTV #MTVAwards @GFRDofficial @GFRDofficialJP',\n",
       " 'RT @MTVAwards: Still have goosebumps from this heavenly @ChloexHalle performance tbh #MTVAwards https://t.co/Ie8gv5m4So',\n",
       " '32. #SummerOfGfriend #SummerOfBuddy #GFriend #여자친구 #GFRIENDComeback #Summer_Mini_Album #MTV #MTVAwards @GFRDofficial @GFRDofficialJP',\n",
       " '30.\\n\\n#SummerOfGfriend #SummerOfBuddy #GFriend #여자친구 #GFRIENDComeback #Summer_Mini_Album #MTV #MTVAwards @GFRDofficial @GFRDofficialJP',\n",
       " '29. Source Music por favor avientanos algo, un teaser, una foto, un tweet LO QUE TU QUIERAS HERMANO… https://t.co/HOp8PUf926',\n",
       " '28. Me da miedo que las niñas anden con muchas actividades y AHORITA NADA DE NADAAAAA\\n\\n#SummerOfGfriend… https://t.co/CW6mdj93f8',\n",
       " 'Amo este logo, ya quiero el comeback #GFRIEND #GFRIENDComeback #Summer_Mini_Album #MTV #MTVAwards @GFRDofficial… https://t.co/pHBrpopAlk',\n",
       " 'RT @gfriendmysun: 27. Es raro para mi ver a mis hijas con tantos tintes de colores de cabello, porque siempre se los dejaban al natural y u…',\n",
       " '27. Es raro para mi ver a mis hijas con tantos tintes de colores de cabello, porque siempre se los dejaban al natur… https://t.co/ap48DMLoBI',\n",
       " 'RT @SofiaBolado12: #Gfriend\\n#여자친구 \\n#GFRIENDComeback\\n#Summer_Mini_Album \\n#MTV\\n#MTVAwards\\n@GFRDofficial\\n@GFRDofficialJP https://t.co/Wffx11FM…',\n",
       " 'RT @getFANDOM: Chris Pratt with all of the wisdom #MTVAwards https://t.co/eu5cXU7WcQ',\n",
       " \"RT @MTV: Just when you think @noah_schnapp can't get any cuter... 😭💕 #MTVAwards https://t.co/VbRTyjOvFf\",\n",
       " 'RT @MTV: Congrats to @Stranger_Things for winning Best Show at the #MTVAwards❤️ https://t.co/tsZN5ZPMO7',\n",
       " '26. Source Music trama algo aventandonos el cb tan de repente\\n\\n#SummerOfGfriend #SummerOfBuddy #GFriend #여자친구… https://t.co/p2dMLiuWDQ',\n",
       " '25.\\n\\n#SummerOfGfriend #SummerOfBuddy #GFriend #여자친구 #GFRIENDComeback #Summer_Mini_Album #MTV #MTVAwards @GFRDofficial @GFRDofficialJP',\n",
       " '24.\\n#SummerOfGfriend #SummerOfBuddy #GFriend #여자친구 #GFRIENDComeback #Summer_Mini_Album #MTV #MTVAwards @GFRDofficial @GFRDofficialJP',\n",
       " '23. Yeojachingu \\n\\n#SummerOfGfriend #SummerOfBuddy #GFriend #여자친구 #GFRIENDComeback #Summer_Mini_Album #MTV… https://t.co/XisZKNIazL',\n",
       " 'RT @Gcodedglobal: @ym_lilquez\\n🌐God•Goals•Grind🌐\\nSubscribe link in bio\\nmore\\n#applemusic #spotify #tidal  #complex #xxl #betawards #revolt #m…',\n",
       " 'RT @Gcodedglobal: @ym_lilquez \"Rules\" FT. iamquedakid\\n🌐God•Goals•Grind🌐\\nSubscribe link in bio\\nmore\\n#applemusic #spotify #tidal  #complex #x…']"
      ]
     },
     "execution_count": 54,
     "metadata": {},
     "output_type": "execute_result"
    }
   ],
   "source": [
    "[s['text'] for s in search_results['statuses']]"
   ]
  },
  {
   "cell_type": "code",
   "execution_count": 62,
   "metadata": {},
   "outputs": [
    {
     "name": "stdout",
     "output_type": "stream",
     "text": [
      "{\n",
      " \"created_at\": \"Sun Jul 08 02:31:35 +0000 2018\",\n",
      " \"id\": 1015785437959421953,\n",
      " \"id_str\": \"1015785437959421953\",\n",
      " \"text\": \"36. Tengo miedo de que me cierren la cuenta por spam \\n#SummerOfGfriend #SummerOfBuddy #GFriend #\\uc5ec\\uc790\\uce5c\\uad6c\\u2026 https://t.co/bbWEfMVfOq\",\n",
      " \"truncated\": true,\n",
      " \"entities\": {\n",
      "  \"hashtags\": [\n",
      "   {\n",
      "    \"text\": \"SummerOfGfriend\",\n",
      "    \"indices\": [\n",
      "     54,\n",
      "     70\n",
      "    ]\n",
      "   },\n",
      "   {\n",
      "    \"text\": \"SummerOfBuddy\",\n",
      "    \"indices\": [\n",
      "     71,\n",
      "     85\n",
      "    ]\n",
      "   },\n",
      "   {\n",
      "    \"text\": \"GFriend\",\n",
      "    \"indices\": [\n",
      "     86,\n",
      "     94\n",
      "    ]\n",
      "   },\n",
      "   {\n",
      "    \"text\": \"\\uc5ec\\uc790\\uce5c\\uad6c\",\n",
      "    \"indices\": [\n",
      "     95,\n",
      "     100\n",
      "    ]\n",
      "   }\n",
      "  ],\n",
      "  \"symbols\": [],\n",
      "  \"user_mentions\": [],\n",
      "  \"urls\": [\n",
      "   {\n",
      "    \"url\": \"https://t.co/bbWEfMVfOq\",\n",
      "    \"expanded_url\": \"https://twitter.com/i/web/status/1015785437959421953\",\n",
      "    \"display_url\": \"twitter.com/i/web/status/1\\u2026\",\n",
      "    \"indices\": [\n",
      "     102,\n",
      "     125\n",
      "    ]\n",
      "   }\n",
      "  ]\n",
      " },\n",
      " \"metadata\": {\n",
      "  \"iso_language_code\": \"es\",\n",
      "  \"result_type\": \"recent\"\n",
      " },\n",
      " \"source\": \"<a href=\\\"http://twitter.com\\\" rel=\\\"nofollow\\\">Twitter Web Client</a>\",\n",
      " \"in_reply_to_status_id\": null,\n",
      " \"in_reply_to_status_id_str\": null,\n",
      " \"in_reply_to_user_id\": null,\n",
      " \"in_reply_to_user_id_str\": null,\n",
      " \"in_reply_to_screen_name\": null,\n",
      " \"user\": {\n",
      "  \"id\": 986049831205470209,\n",
      "  \"id_str\": \"986049831205470209\",\n",
      "  \"name\": \"~rinnielin~\\u2741\",\n",
      "  \"screen_name\": \"gfriendmysun\",\n",
      "  \"location\": \"\\ud83d\\udcab linn\\u0941 account\",\n",
      "  \"description\": \":\\u00a8\\u00b7.\\u00b7\\u00a8:                                                       \\n                        `\\u00b7..\\uc5ec\\uc790\\uce5c\\uad6c *\\u0cc3\\u0f04 #Buddy\",\n",
      "  \"url\": \"https://t.co/9Mlav7M4Rf\",\n",
      "  \"entities\": {\n",
      "   \"url\": {\n",
      "    \"urls\": [\n",
      "     {\n",
      "      \"url\": \"https://t.co/9Mlav7M4Rf\",\n",
      "      \"expanded_url\": \"https://twitter.com/jinmysunshine12?s=09\",\n",
      "      \"display_url\": \"twitter.com/jinmysunshine1\\u2026\",\n",
      "      \"indices\": [\n",
      "       0,\n",
      "       23\n",
      "      ]\n",
      "     }\n",
      "    ]\n",
      "   },\n",
      "   \"description\": {\n",
      "    \"urls\": []\n",
      "   }\n",
      "  },\n",
      "  \"protected\": false,\n",
      "  \"followers_count\": 11,\n",
      "  \"friends_count\": 18,\n",
      "  \"listed_count\": 0,\n",
      "  \"created_at\": \"Tue Apr 17 01:12:54 +0000 2018\",\n",
      "  \"favourites_count\": 110,\n",
      "  \"utc_offset\": null,\n",
      "  \"time_zone\": null,\n",
      "  \"geo_enabled\": false,\n",
      "  \"verified\": false,\n",
      "  \"statuses_count\": 299,\n",
      "  \"lang\": \"es\",\n",
      "  \"contributors_enabled\": false,\n",
      "  \"is_translator\": false,\n",
      "  \"is_translation_enabled\": false,\n",
      "  \"profile_background_color\": \"F5F8FA\",\n",
      "  \"profile_background_image_url\": null,\n",
      "  \"profile_background_image_url_https\": null,\n",
      "  \"profile_background_tile\": false,\n",
      "  \"profile_image_url\": \"http://pbs.twimg.com/profile_images/986057383364276224/Kr_36ZWQ_normal.jpg\",\n",
      "  \"profile_image_url_https\": \"https://pbs.twimg.com/profile_images/986057383364276224/Kr_36ZWQ_normal.jpg\",\n",
      "  \"profile_banner_url\": \"https://pbs.twimg.com/profile_banners/986049831205470209/1523929037\",\n",
      "  \"profile_link_color\": \"1DA1F2\",\n",
      "  \"profile_sidebar_border_color\": \"C0DEED\",\n",
      "  \"profile_sidebar_fill_color\": \"DDEEF6\",\n",
      "  \"profile_text_color\": \"333333\",\n",
      "  \"profile_use_background_image\": true,\n",
      "  \"has_extended_profile\": true,\n",
      "  \"default_profile\": true,\n",
      "  \"default_profile_image\": false,\n",
      "  \"following\": false,\n",
      "  \"follow_request_sent\": false,\n",
      "  \"notifications\": false,\n",
      "  \"translator_type\": \"none\"\n",
      " },\n",
      " \"geo\": null,\n",
      " \"coordinates\": null,\n",
      " \"place\": null,\n",
      " \"contributors\": null,\n",
      " \"is_quote_status\": false,\n",
      " \"retweet_count\": 0,\n",
      " \"favorite_count\": 0,\n",
      " \"favorited\": false,\n",
      " \"retweeted\": false,\n",
      " \"lang\": \"es\"\n",
      "}\n"
     ]
    }
   ],
   "source": [
    "#Show one sample search result by sliing the list.....\n",
    "print(json.dumps(statuses[0],indent=1))"
   ]
  },
  {
   "cell_type": "code",
   "execution_count": 71,
   "metadata": {},
   "outputs": [
    {
     "name": "stdout",
     "output_type": "stream",
     "text": [
      "und\n",
      "False\n"
     ]
    }
   ],
   "source": [
    "#The result of the list comprehension iss a list with only one element they \n",
    "#can be accessed by its index and seet to the variable t.\n",
    "t=statuses[2]\n",
    "# [statuses for status in statuses\n",
    "#         if status['id']==986049831205470209][0]\n",
    "\n",
    "print(t['lang'])\n",
    "print(t['retweeted'])"
   ]
  },
  {
   "cell_type": "markdown",
   "metadata": {},
   "source": [
    "## Example 6. Extracting text,screen names,and hashtags from tweets"
   ]
  },
  {
   "cell_type": "code",
   "execution_count": 73,
   "metadata": {},
   "outputs": [],
   "source": [
    "status_text=[status['text']\n",
    "            for status in statuses]\n",
    "\n",
    "screen_names=[user_mention['screen_name']\n",
    "             for status in statuses\n",
    "             for user_mention in status['entities']['user_mentions']]\n",
    "\n",
    "hashtags=[hashtag['text']\n",
    "         for status in statuses\n",
    "         for hashtag in status['entities']['hashtags']]\n",
    "\n",
    "#Compute a collection of all words from all tweets\n",
    "words=[w \n",
    "      for t in status_text\n",
    "      for w in t.split()]"
   ]
  },
  {
   "cell_type": "code",
   "execution_count": 77,
   "metadata": {},
   "outputs": [
    {
     "name": "stdout",
     "output_type": "stream",
     "text": [
      "[\n",
      " \"36. Tengo miedo de que me cierren la cuenta por spam \\n#SummerOfGfriend #SummerOfBuddy #GFriend #\\uc5ec\\uc790\\uce5c\\uad6c\\u2026 https://t.co/bbWEfMVfOq\",\n",
      " \"35. #SummerOfGfriend #SummerOfBuddy #GFriend #\\uc5ec\\uc790\\uce5c\\uad6c #GFRIENDComeback #Summer_Mini_Album #MTV #MTVAwards @GFRDofficial @GFRDofficialJP\",\n",
      " \"34. \\n#SummerOfGfriend #SummerOfBuddy #GFriend #\\uc5ec\\uc790\\uce5c\\uad6c #GFRIENDComeback #Summer_Mini_Album #MTV #MTVAwards @GFRDofficial @GFRDofficialJP\",\n",
      " \"33. \\n\\n#SummerOfGfriend #SummerOfBuddy #GFriend #\\uc5ec\\uc790\\uce5c\\uad6c #GFRIENDComeback #Summer_Mini_Album #MTV #MTVAwards @GFRDofficial @GFRDofficialJP\",\n",
      " \"RT @MTVAwards: Still have goosebumps from this heavenly @ChloexHalle performance tbh #MTVAwards https://t.co/Ie8gv5m4So\"\n",
      "]\n",
      "[\n",
      " \"GFRDofficial\",\n",
      " \"GFRDofficialJP\",\n",
      " \"GFRDofficial\",\n",
      " \"GFRDofficialJP\",\n",
      " \"GFRDofficial\"\n",
      "]\n",
      "[\n",
      " \"SummerOfGfriend\",\n",
      " \"SummerOfBuddy\",\n",
      " \"GFriend\",\n",
      " \"\\uc5ec\\uc790\\uce5c\\uad6c\",\n",
      " \"SummerOfGfriend\"\n",
      "]\n",
      "[\n",
      " \"36.\",\n",
      " \"Tengo\",\n",
      " \"miedo\",\n",
      " \"de\",\n",
      " \"que\",\n",
      " \"me\",\n",
      " \"cierren\",\n",
      " \"la\",\n",
      " \"cuenta\",\n",
      " \"por\"\n",
      "]\n"
     ]
    }
   ],
   "source": [
    "#Explore the first 5 items for each....\n",
    "print(json.dumps(status_text[0:5],indent=1))\n",
    "print(json.dumps(screen_names[0:5],indent=1))\n",
    "print(json.dumps(hashtags[0:5],indent=1))\n",
    "print(json.dumps(words[0:10],indent=1))"
   ]
  },
  {
   "cell_type": "markdown",
   "metadata": {},
   "source": [
    "## Example 7. Create a basic frequency distribution from the words in tweets"
   ]
  },
  {
   "cell_type": "code",
   "execution_count": 81,
   "metadata": {},
   "outputs": [
    {
     "name": "stdout",
     "output_type": "stream",
     "text": [
      "[('#MTVAwards', 12), ('#SummerOfGfriend', 10), ('#SummerOfBuddy', 10), ('#GFriend', 10), ('#GFRIENDComeback', 10), ('#Summer_Mini_Album', 10), ('#여자친구', 9), ('#MTV', 9), ('@GFRDofficial', 8), ('@GFRDofficialJP', 8), ('RT', 8), ('de', 6), ('con', 3), ('miedo', 2), ('que', 2), ('por', 2), ('#여자친구…', 2), ('Source', 2), ('Music', 2), ('un', 2)]\n",
      "\n",
      "[('GFRDofficial', 9), ('GFRDofficialJP', 8), ('MTV', 2), ('Gcodedglobal', 2), ('YM_LilQuez', 2), ('MTVAwards', 1), ('chloexhalle', 1), ('gfriendmysun', 1), ('SofiaBolado12', 1), ('getFANDOM', 1), ('noah_schnapp', 1), ('Stranger_Things', 1)]\n",
      "\n",
      "[('MTVAwards', 13), ('SummerOfGfriend', 11), ('여자친구', 11), ('SummerOfBuddy', 10), ('GFriend', 10), ('GFRIENDComeback', 10), ('Summer_Mini_Album', 10), ('MTV', 10), ('applemusic', 2), ('spotify', 2), ('tidal', 2), ('complex', 2), ('GFRIEND', 1), ('Gfriend', 1), ('xxl', 1), ('betawards', 1), ('revolt', 1)]\n",
      "\n"
     ]
    }
   ],
   "source": [
    "from collections import Counter\n",
    "\n",
    "\n",
    "for item in [words,screen_names,hashtags]:\n",
    "    c=Counter(item)\n",
    "    print(c.most_common()[:20])\n",
    "    print()"
   ]
  },
  {
   "cell_type": "markdown",
   "metadata": {},
   "source": [
    "## Example 8. Create a prettyprint function to display tuples in a nice tabular format"
   ]
  },
  {
   "cell_type": "code",
   "execution_count": 82,
   "metadata": {},
   "outputs": [],
   "source": [
    "def prettyprint_count(label,list_of_tuples):\n",
    "    print(\"\\n{:^20} | {:^6}\".format(label,\"Count\"))\n",
    "    print(\"*\"*40)\n",
    "    for k,v in list_of_tuples:\n",
    "        print(\"{:20} | {:>6}\".format(k,v))\n",
    "        "
   ]
  },
  {
   "cell_type": "code",
   "execution_count": 83,
   "metadata": {},
   "outputs": [
    {
     "name": "stdout",
     "output_type": "stream",
     "text": [
      "\n",
      "        Word         | Count \n",
      "****************************************\n",
      "#MTVAwards           |     12\n",
      "#SummerOfGfriend     |     10\n",
      "#SummerOfBuddy       |     10\n",
      "#GFriend             |     10\n",
      "#GFRIENDComeback     |     10\n",
      "#Summer_Mini_Album   |     10\n",
      "#여자친구                |      9\n",
      "#MTV                 |      9\n",
      "@GFRDofficial        |      8\n",
      "@GFRDofficialJP      |      8\n",
      "\n",
      "    Screen Name      | Count \n",
      "****************************************\n",
      "GFRDofficial         |      9\n",
      "GFRDofficialJP       |      8\n",
      "MTV                  |      2\n",
      "Gcodedglobal         |      2\n",
      "YM_LilQuez           |      2\n",
      "MTVAwards            |      1\n",
      "chloexhalle          |      1\n",
      "gfriendmysun         |      1\n",
      "SofiaBolado12        |      1\n",
      "getFANDOM            |      1\n",
      "\n",
      "      Hashtag        | Count \n",
      "****************************************\n",
      "MTVAwards            |     13\n",
      "SummerOfGfriend      |     11\n",
      "여자친구                 |     11\n",
      "SummerOfBuddy        |     10\n",
      "GFriend              |     10\n",
      "GFRIENDComeback      |     10\n",
      "Summer_Mini_Album    |     10\n",
      "MTV                  |     10\n",
      "applemusic           |      2\n",
      "spotify              |      2\n"
     ]
    }
   ],
   "source": [
    "for label,data in (('Word',words),\n",
    "                  ('Screen Name',screen_names),\n",
    "                  ('Hashtag',hashtags)):\n",
    "    c=Counter(data)\n",
    "    prettyprint_count(label,c.most_common()[:10])"
   ]
  },
  {
   "cell_type": "markdown",
   "metadata": {},
   "source": [
    "## Example 9. finding the most popular retweets"
   ]
  },
  {
   "cell_type": "code",
   "execution_count": 92,
   "metadata": {},
   "outputs": [
    {
     "name": "stdout",
     "output_type": "stream",
     "text": [
      "[(80, 'MTVAwards', 'RT @MTVAwards: Still have goosebumps from this heavenly @ChloexHalle performance tbh #MTVAwards https://t.co/Ie8gv5m4So'), (1, 'gfriendmysun', 'RT @gfriendmysun: 27. Es raro para mi ver a mis hijas con tantos tintes de colores de cabello, porque siempre se los dejaban al natural y u…'), (7, 'SofiaBolado12', 'RT @SofiaBolado12: #Gfriend\\\\#여자친구 \\\\#GFRIENDComeback\\\\#Summer_Mini_Album \\\\#MTV\\\\#MTVAwards\\\\@GFRDofficial\\\\@GFRDofficialJP https://t.co/Wffx11FM…'), (14997, 'getFANDOM', 'RT @getFANDOM: Chris Pratt with all of the wisdom #MTVAwards https://t.co/eu5cXU7WcQ'), (3465, 'MTV', \"RT @MTV: Just when you think @noah_schnapp can't get any cuter... 😭💕 #MTVAwards https://t.co/VbRTyjOvFf\"), (2774, 'MTV', 'RT @MTV: Congrats to @Stranger_Things for winning Best Show at the #MTVAwards❤️ https://t.co/tsZN5ZPMO7'), (2, 'Gcodedglobal', 'RT @Gcodedglobal: @ym_lilquez\\\\🌐God•Goals•Grind🌐\\\\Subscribe link in bio\\\\more\\\\#applemusic #spotify #tidal  #complex #xxl #betawards #revolt #m…'), (0, 'Gcodedglobal', 'RT @Gcodedglobal: @ym_lilquez \"Rules\" FT. iamquedakid\\\\🌐God•Goals•Grind🌐\\\\Subscribe link in bio\\\\more\\\\#applemusic #spotify #tidal  #complex #x…')]\n"
     ]
    }
   ],
   "source": [
    "retweets = [\n",
    "            # Store out a tuple of these three values ...\n",
    "            (status['retweet_count'], \n",
    "             status['retweeted_status']['user']['screen_name'],\n",
    "             status['text'].replace(\"\\n\",\"\\\\\")) \n",
    "            \n",
    "            # ... for each status ...\n",
    "            for status in statuses \n",
    "            \n",
    "            # ... so long as the status meets this condition.\n",
    "                if 'retweeted_status' in status\n",
    "           ]\n",
    "print(retweets)"
   ]
  },
  {
   "cell_type": "code",
   "execution_count": 93,
   "metadata": {},
   "outputs": [],
   "source": [
    "row_template=\"{:^7} | {:^15} | {:50}\"\n",
    "def prettyprint_tweets(list_of_tuples):\n",
    "    print()\n",
    "    print(row_template.format(\"Count\",\"Screen Name\",\"Text\"))\n",
    "    print(\"*\"*30)\n",
    "    for count,screen_name,text in list_of_tuples:\n",
    "        print(row_template.format(count,screen_name,text[:50]))\n",
    "        if len(text)>50:\n",
    "            print(row_template.format(\"\",\"\",text[50:100]))\n",
    "            if len(text)>100:\n",
    "                print(row_template.format(\"\",\"\",text[100:]))"
   ]
  },
  {
   "cell_type": "code",
   "execution_count": 94,
   "metadata": {},
   "outputs": [
    {
     "name": "stdout",
     "output_type": "stream",
     "text": [
      "\n",
      " Count  |   Screen Name   | Text                                              \n",
      "******************************\n",
      " 14997  |    getFANDOM    | RT @getFANDOM: Chris Pratt with all of the wisdom \n",
      "        |                 | #MTVAwards https://t.co/eu5cXU7WcQ                \n",
      " 3465   |       MTV       | RT @MTV: Just when you think @noah_schnapp can't g\n",
      "        |                 | et any cuter... 😭💕 #MTVAwards https://t.co/VbRTyjO\n",
      "        |                 | vFf                                               \n",
      " 2774   |       MTV       | RT @MTV: Congrats to @Stranger_Things for winning \n",
      "        |                 | Best Show at the #MTVAwards❤️ https://t.co/tsZN5ZP\n",
      "        |                 | MO7                                               \n",
      "  80    |    MTVAwards    | RT @MTVAwards: Still have goosebumps from this hea\n",
      "        |                 | venly @ChloexHalle performance tbh #MTVAwards http\n",
      "        |                 | s://t.co/Ie8gv5m4So                               \n",
      "   7    |  SofiaBolado12  | RT @SofiaBolado12: #Gfriend\\#여자친구 \\#GFRIENDComebac\n",
      "        |                 | k\\#Summer_Mini_Album \\#MTV\\#MTVAwards\\@GFRDofficia\n",
      "        |                 | l\\@GFRDofficialJP https://t.co/Wffx11FM…          \n"
     ]
    }
   ],
   "source": [
    "# slice off the first 5 from the sorted result and display each items\n",
    "\n",
    "prettyprint_tweets(sorted(retweets,reverse=True)[:5])"
   ]
  },
  {
   "cell_type": "code",
   "execution_count": null,
   "metadata": {},
   "outputs": [],
   "source": []
  }
 ],
 "metadata": {
  "kernelspec": {
   "display_name": "Python 3",
   "language": "python",
   "name": "python3"
  },
  "language_info": {
   "codemirror_mode": {
    "name": "ipython",
    "version": 3
   },
   "file_extension": ".py",
   "mimetype": "text/x-python",
   "name": "python",
   "nbconvert_exporter": "python",
   "pygments_lexer": "ipython3",
   "version": "3.5.2"
  }
 },
 "nbformat": 4,
 "nbformat_minor": 2
}
